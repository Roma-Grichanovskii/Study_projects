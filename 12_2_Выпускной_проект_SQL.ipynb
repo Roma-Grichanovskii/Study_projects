{
  "nbformat": 4,
  "nbformat_minor": 0,
  "metadata": {
    "kernelspec": {
      "display_name": "Python 3",
      "language": "python",
      "name": "python3"
    },
    "language_info": {
      "codemirror_mode": {
        "name": "ipython",
        "version": 3
      },
      "file_extension": ".py",
      "mimetype": "text/x-python",
      "name": "python",
      "nbconvert_exporter": "python",
      "pygments_lexer": "ipython3",
      "version": "3.7.6"
    },
    "colab": {
      "name": "12.2 Выпускной проект SQL.ipynb",
      "provenance": [],
      "collapsed_sections": []
    }
  },
  "cells": [
    {
      "cell_type": "markdown",
      "metadata": {
        "id": "l45QhBu2hVqm"
      },
      "source": [
        "# Получение информации из базы данных с помощью SQL"
      ]
    },
    {
      "cell_type": "markdown",
      "metadata": {
        "id": "h8fuDVsUhVq1"
      },
      "source": [
        "**Краткая предыстория**  \n",
        "\n",
        "Коронавирус застал мир врасплох, изменив привычный порядок вещей. В свободное время жители городов больше не выходят на улицу, не посещают кафе и торговые центры. Зато стало больше времени для книг. Это заметили стартаперы — и бросились создавать приложения для тех, кто любит читать.\n",
        "\n",
        "Ваша компания решила быть на волне и купила крупный сервис для чтения книг по подписке. Ваша первая задача как аналитика — проанализировать базу данных.\n",
        "В ней — информация о книгах, издательствах, авторах, а также пользовательские обзоры книг. Эти данные помогут сформулировать ценностное предложение для нового продукта.\n",
        "\n",
        "**Цель исследования**  \n",
        "\n",
        "Проанализировать базу данных сервиса для чтения книг по подписке."
      ]
    },
    {
      "cell_type": "markdown",
      "metadata": {
        "id": "V4fvU6eqhVq3"
      },
      "source": [
        "**Задания**  \n",
        "- Посчитайте, сколько книг вышло после 1 января 2000 года;\n",
        "- Для каждой книги посчитайте количество обзоров и среднюю оценку;\n",
        "- Определите издательство, которое выпустило наибольшее число книг толще 50 страниц — так вы исключите из анализа брошюры;\n",
        "- Определите автора с самой высокой средней оценкой книг — учитывайте только книги с 50 и более оценками;\n",
        "- Посчитайте среднее количество обзоров от пользователей, которые поставили больше 50 оценок."
      ]
    },
    {
      "cell_type": "markdown",
      "metadata": {
        "id": "zWa3SSSjhVq5"
      },
      "source": [
        "### Оглавление\n",
        "\n",
        "[1. Подключение к базе данных, ознакомление с таблицами](#section1)  \n",
        "[2. Решение задач](#section2)  \n",
        "    [2.1 Количество книг вышедших после 1 января 2000 года](#section2_1)  \n",
        "    [2.2 Количество обзоров и средняя оценка книг](#section2_2)  \n",
        "    [2.3 Издательство, которое выпустило наибольшее число книг толще 50 страниц](#section2_3)  \n",
        "    [2.4 Автор с самой высокой средней оценкой книг (учитываются только книги с 50 и более оценками)](#section2_4)     \n",
        "    [2.5 Среднее количество обзоров от пользователей, которые поставили больше 50 оценок](#section2_5)  "
      ]
    },
    {
      "cell_type": "markdown",
      "metadata": {
        "id": "DtVU4SYyhVq7"
      },
      "source": [
        "## 1. Подключение к базе данных, ознакомление с таблицами\n",
        "<a id='section1'> <a/>"
      ]
    },
    {
      "cell_type": "code",
      "metadata": {
        "colab": {
          "base_uri": "https://localhost:8080/"
        },
        "id": "H9S4PylVhVq8",
        "outputId": "c263b765-0956-4ef9-c667-dfbb41221ea7"
      },
      "source": [
        "# импортируем библиотеки\n",
        "import pandas as pd\n",
        "from sqlalchemy import create_engine\n",
        "# устанавливаем параметры\n",
        "db_config = {'user': 'praktikum_student', # имя пользователя\n",
        " 'pwd': 'Sdf4$2;d-d30pp', # пароль\n",
        " 'host': 'rc1b-wcoijxj3yxfsf3fs.mdb.yandexcloud.net',\n",
        " 'port': 6432, # порт подключения\n",
        " 'db': 'data-analyst-final-project-db'} # название базы данных\n",
        "connection_string = 'postgresql://{}:{}@{}:{}/{}'.format(db_config['user'],\n",
        " db_config['pwd'],\n",
        " db_config['host'],\n",
        " db_config['port'],\n",
        " db_config['db'])\n",
        "# сохраняем коннектор\n",
        "engine = create_engine(connection_string, connect_args={'sslmode':'require'}) "
      ],
      "execution_count": 1,
      "outputs": [
        {
          "output_type": "stream",
          "name": "stderr",
          "text": [
            "/usr/local/lib/python3.7/dist-packages/psycopg2/__init__.py:144: UserWarning: The psycopg2 wheel package will be renamed from release 2.8; in order to keep installing from binary please use \"pip install psycopg2-binary\" instead. For details see: <http://initd.org/psycopg/docs/install.html#binary-install-from-pypi>.\n",
            "  \"\"\")\n"
          ]
        }
      ]
    },
    {
      "cell_type": "code",
      "metadata": {
        "colab": {
          "base_uri": "https://localhost:8080/",
          "height": 363
        },
        "id": "KmSDZqKrhVq_",
        "outputId": "b1e9c593-5788-4981-ab5f-006eba7a17bb"
      },
      "source": [
        "# Таблица books. Содержит данные о книгах\n",
        "query = ''' SELECT *\n",
        "            FROM books\n",
        "        '''\n",
        "books = pd.io.sql.read_sql(query, con = engine)\n",
        "\n",
        "display(books.head(3))\n",
        "books.info()"
      ],
      "execution_count": 2,
      "outputs": [
        {
          "output_type": "display_data",
          "data": {
            "text/html": [
              "<div>\n",
              "<style scoped>\n",
              "    .dataframe tbody tr th:only-of-type {\n",
              "        vertical-align: middle;\n",
              "    }\n",
              "\n",
              "    .dataframe tbody tr th {\n",
              "        vertical-align: top;\n",
              "    }\n",
              "\n",
              "    .dataframe thead th {\n",
              "        text-align: right;\n",
              "    }\n",
              "</style>\n",
              "<table border=\"1\" class=\"dataframe\">\n",
              "  <thead>\n",
              "    <tr style=\"text-align: right;\">\n",
              "      <th></th>\n",
              "      <th>book_id</th>\n",
              "      <th>author_id</th>\n",
              "      <th>title</th>\n",
              "      <th>num_pages</th>\n",
              "      <th>publication_date</th>\n",
              "      <th>publisher_id</th>\n",
              "    </tr>\n",
              "  </thead>\n",
              "  <tbody>\n",
              "    <tr>\n",
              "      <th>0</th>\n",
              "      <td>1</td>\n",
              "      <td>546</td>\n",
              "      <td>'Salem's Lot</td>\n",
              "      <td>594</td>\n",
              "      <td>2005-11-01</td>\n",
              "      <td>93</td>\n",
              "    </tr>\n",
              "    <tr>\n",
              "      <th>1</th>\n",
              "      <td>2</td>\n",
              "      <td>465</td>\n",
              "      <td>1 000 Places to See Before You Die</td>\n",
              "      <td>992</td>\n",
              "      <td>2003-05-22</td>\n",
              "      <td>336</td>\n",
              "    </tr>\n",
              "    <tr>\n",
              "      <th>2</th>\n",
              "      <td>3</td>\n",
              "      <td>407</td>\n",
              "      <td>13 Little Blue Envelopes (Little Blue Envelope...</td>\n",
              "      <td>322</td>\n",
              "      <td>2010-12-21</td>\n",
              "      <td>135</td>\n",
              "    </tr>\n",
              "  </tbody>\n",
              "</table>\n",
              "</div>"
            ],
            "text/plain": [
              "   book_id  author_id  ... publication_date  publisher_id\n",
              "0        1        546  ...       2005-11-01            93\n",
              "1        2        465  ...       2003-05-22           336\n",
              "2        3        407  ...       2010-12-21           135\n",
              "\n",
              "[3 rows x 6 columns]"
            ]
          },
          "metadata": {}
        },
        {
          "output_type": "stream",
          "name": "stdout",
          "text": [
            "<class 'pandas.core.frame.DataFrame'>\n",
            "RangeIndex: 1000 entries, 0 to 999\n",
            "Data columns (total 6 columns):\n",
            " #   Column            Non-Null Count  Dtype \n",
            "---  ------            --------------  ----- \n",
            " 0   book_id           1000 non-null   int64 \n",
            " 1   author_id         1000 non-null   int64 \n",
            " 2   title             1000 non-null   object\n",
            " 3   num_pages         1000 non-null   int64 \n",
            " 4   publication_date  1000 non-null   object\n",
            " 5   publisher_id      1000 non-null   int64 \n",
            "dtypes: int64(4), object(2)\n",
            "memory usage: 47.0+ KB\n"
          ]
        }
      ]
    },
    {
      "cell_type": "code",
      "metadata": {
        "colab": {
          "base_uri": "https://localhost:8080/",
          "height": 295
        },
        "id": "wMu9AxkDhVrB",
        "outputId": "210d1f90-1090-4b90-fd56-da7314e44914"
      },
      "source": [
        "# Таблица authors. Содержит данные об авторах\n",
        "query = ''' SELECT *\n",
        "            FROM authors\n",
        "        '''\n",
        "authors = pd.io.sql.read_sql(query, con = engine)\n",
        "\n",
        "display(authors.head(3))\n",
        "authors.info()"
      ],
      "execution_count": 3,
      "outputs": [
        {
          "output_type": "display_data",
          "data": {
            "text/html": [
              "<div>\n",
              "<style scoped>\n",
              "    .dataframe tbody tr th:only-of-type {\n",
              "        vertical-align: middle;\n",
              "    }\n",
              "\n",
              "    .dataframe tbody tr th {\n",
              "        vertical-align: top;\n",
              "    }\n",
              "\n",
              "    .dataframe thead th {\n",
              "        text-align: right;\n",
              "    }\n",
              "</style>\n",
              "<table border=\"1\" class=\"dataframe\">\n",
              "  <thead>\n",
              "    <tr style=\"text-align: right;\">\n",
              "      <th></th>\n",
              "      <th>author_id</th>\n",
              "      <th>author</th>\n",
              "    </tr>\n",
              "  </thead>\n",
              "  <tbody>\n",
              "    <tr>\n",
              "      <th>0</th>\n",
              "      <td>1</td>\n",
              "      <td>A.S. Byatt</td>\n",
              "    </tr>\n",
              "    <tr>\n",
              "      <th>1</th>\n",
              "      <td>2</td>\n",
              "      <td>Aesop/Laura Harris/Laura Gibbs</td>\n",
              "    </tr>\n",
              "    <tr>\n",
              "      <th>2</th>\n",
              "      <td>3</td>\n",
              "      <td>Agatha Christie</td>\n",
              "    </tr>\n",
              "  </tbody>\n",
              "</table>\n",
              "</div>"
            ],
            "text/plain": [
              "   author_id                          author\n",
              "0          1                      A.S. Byatt\n",
              "1          2  Aesop/Laura Harris/Laura Gibbs\n",
              "2          3                 Agatha Christie"
            ]
          },
          "metadata": {}
        },
        {
          "output_type": "stream",
          "name": "stdout",
          "text": [
            "<class 'pandas.core.frame.DataFrame'>\n",
            "RangeIndex: 636 entries, 0 to 635\n",
            "Data columns (total 2 columns):\n",
            " #   Column     Non-Null Count  Dtype \n",
            "---  ------     --------------  ----- \n",
            " 0   author_id  636 non-null    int64 \n",
            " 1   author     636 non-null    object\n",
            "dtypes: int64(1), object(1)\n",
            "memory usage: 10.1+ KB\n"
          ]
        }
      ]
    },
    {
      "cell_type": "code",
      "metadata": {
        "colab": {
          "base_uri": "https://localhost:8080/",
          "height": 295
        },
        "id": "hKaOTT1ZhVrC",
        "outputId": "0854b99b-38fb-4168-b5ce-4f0935737393"
      },
      "source": [
        "# Таблица publishers. Содержит данные об издательствах\n",
        "query = ''' SELECT *\n",
        "            FROM publishers\n",
        "        '''\n",
        "publishers = pd.io.sql.read_sql(query, con = engine)\n",
        "\n",
        "display(publishers.head(3))\n",
        "publishers.info()"
      ],
      "execution_count": 4,
      "outputs": [
        {
          "output_type": "display_data",
          "data": {
            "text/html": [
              "<div>\n",
              "<style scoped>\n",
              "    .dataframe tbody tr th:only-of-type {\n",
              "        vertical-align: middle;\n",
              "    }\n",
              "\n",
              "    .dataframe tbody tr th {\n",
              "        vertical-align: top;\n",
              "    }\n",
              "\n",
              "    .dataframe thead th {\n",
              "        text-align: right;\n",
              "    }\n",
              "</style>\n",
              "<table border=\"1\" class=\"dataframe\">\n",
              "  <thead>\n",
              "    <tr style=\"text-align: right;\">\n",
              "      <th></th>\n",
              "      <th>publisher_id</th>\n",
              "      <th>publisher</th>\n",
              "    </tr>\n",
              "  </thead>\n",
              "  <tbody>\n",
              "    <tr>\n",
              "      <th>0</th>\n",
              "      <td>1</td>\n",
              "      <td>Ace</td>\n",
              "    </tr>\n",
              "    <tr>\n",
              "      <th>1</th>\n",
              "      <td>2</td>\n",
              "      <td>Ace Book</td>\n",
              "    </tr>\n",
              "    <tr>\n",
              "      <th>2</th>\n",
              "      <td>3</td>\n",
              "      <td>Ace Books</td>\n",
              "    </tr>\n",
              "  </tbody>\n",
              "</table>\n",
              "</div>"
            ],
            "text/plain": [
              "   publisher_id  publisher\n",
              "0             1        Ace\n",
              "1             2   Ace Book\n",
              "2             3  Ace Books"
            ]
          },
          "metadata": {}
        },
        {
          "output_type": "stream",
          "name": "stdout",
          "text": [
            "<class 'pandas.core.frame.DataFrame'>\n",
            "RangeIndex: 340 entries, 0 to 339\n",
            "Data columns (total 2 columns):\n",
            " #   Column        Non-Null Count  Dtype \n",
            "---  ------        --------------  ----- \n",
            " 0   publisher_id  340 non-null    int64 \n",
            " 1   publisher     340 non-null    object\n",
            "dtypes: int64(1), object(1)\n",
            "memory usage: 5.4+ KB\n"
          ]
        }
      ]
    },
    {
      "cell_type": "code",
      "metadata": {
        "colab": {
          "base_uri": "https://localhost:8080/",
          "height": 329
        },
        "id": "GiTRlI7yhVrD",
        "outputId": "304c3e79-27a7-48d2-cb77-84aaa7e49147"
      },
      "source": [
        "# Таблица ratings. Содержит данные о пользовательских оценках книг\n",
        "query = ''' SELECT *\n",
        "            FROM ratings\n",
        "        '''\n",
        "ratings = pd.io.sql.read_sql(query, con = engine)\n",
        "\n",
        "display(ratings.head(3))\n",
        "ratings.info()"
      ],
      "execution_count": 5,
      "outputs": [
        {
          "output_type": "display_data",
          "data": {
            "text/html": [
              "<div>\n",
              "<style scoped>\n",
              "    .dataframe tbody tr th:only-of-type {\n",
              "        vertical-align: middle;\n",
              "    }\n",
              "\n",
              "    .dataframe tbody tr th {\n",
              "        vertical-align: top;\n",
              "    }\n",
              "\n",
              "    .dataframe thead th {\n",
              "        text-align: right;\n",
              "    }\n",
              "</style>\n",
              "<table border=\"1\" class=\"dataframe\">\n",
              "  <thead>\n",
              "    <tr style=\"text-align: right;\">\n",
              "      <th></th>\n",
              "      <th>rating_id</th>\n",
              "      <th>book_id</th>\n",
              "      <th>username</th>\n",
              "      <th>rating</th>\n",
              "    </tr>\n",
              "  </thead>\n",
              "  <tbody>\n",
              "    <tr>\n",
              "      <th>0</th>\n",
              "      <td>1</td>\n",
              "      <td>1</td>\n",
              "      <td>ryanfranco</td>\n",
              "      <td>4</td>\n",
              "    </tr>\n",
              "    <tr>\n",
              "      <th>1</th>\n",
              "      <td>2</td>\n",
              "      <td>1</td>\n",
              "      <td>grantpatricia</td>\n",
              "      <td>2</td>\n",
              "    </tr>\n",
              "    <tr>\n",
              "      <th>2</th>\n",
              "      <td>3</td>\n",
              "      <td>1</td>\n",
              "      <td>brandtandrea</td>\n",
              "      <td>5</td>\n",
              "    </tr>\n",
              "  </tbody>\n",
              "</table>\n",
              "</div>"
            ],
            "text/plain": [
              "   rating_id  book_id       username  rating\n",
              "0          1        1     ryanfranco       4\n",
              "1          2        1  grantpatricia       2\n",
              "2          3        1   brandtandrea       5"
            ]
          },
          "metadata": {}
        },
        {
          "output_type": "stream",
          "name": "stdout",
          "text": [
            "<class 'pandas.core.frame.DataFrame'>\n",
            "RangeIndex: 6456 entries, 0 to 6455\n",
            "Data columns (total 4 columns):\n",
            " #   Column     Non-Null Count  Dtype \n",
            "---  ------     --------------  ----- \n",
            " 0   rating_id  6456 non-null   int64 \n",
            " 1   book_id    6456 non-null   int64 \n",
            " 2   username   6456 non-null   object\n",
            " 3   rating     6456 non-null   int64 \n",
            "dtypes: int64(3), object(1)\n",
            "memory usage: 201.9+ KB\n"
          ]
        }
      ]
    },
    {
      "cell_type": "code",
      "metadata": {
        "colab": {
          "base_uri": "https://localhost:8080/",
          "height": 329
        },
        "id": "_C34PTRnhVrE",
        "outputId": "f25a77fe-3121-4c25-8fee-6ed30dabb5a9"
      },
      "source": [
        "# Таблица reviews. Содержит данные о пользовательских обзорах на книги\n",
        "query = ''' SELECT *\n",
        "            FROM reviews\n",
        "        '''\n",
        "reviews = pd.io.sql.read_sql(query, con = engine)\n",
        "\n",
        "display(reviews.head(3))\n",
        "reviews.info()"
      ],
      "execution_count": 6,
      "outputs": [
        {
          "output_type": "display_data",
          "data": {
            "text/html": [
              "<div>\n",
              "<style scoped>\n",
              "    .dataframe tbody tr th:only-of-type {\n",
              "        vertical-align: middle;\n",
              "    }\n",
              "\n",
              "    .dataframe tbody tr th {\n",
              "        vertical-align: top;\n",
              "    }\n",
              "\n",
              "    .dataframe thead th {\n",
              "        text-align: right;\n",
              "    }\n",
              "</style>\n",
              "<table border=\"1\" class=\"dataframe\">\n",
              "  <thead>\n",
              "    <tr style=\"text-align: right;\">\n",
              "      <th></th>\n",
              "      <th>review_id</th>\n",
              "      <th>book_id</th>\n",
              "      <th>username</th>\n",
              "      <th>text</th>\n",
              "    </tr>\n",
              "  </thead>\n",
              "  <tbody>\n",
              "    <tr>\n",
              "      <th>0</th>\n",
              "      <td>1</td>\n",
              "      <td>1</td>\n",
              "      <td>brandtandrea</td>\n",
              "      <td>Mention society tell send professor analysis. ...</td>\n",
              "    </tr>\n",
              "    <tr>\n",
              "      <th>1</th>\n",
              "      <td>2</td>\n",
              "      <td>1</td>\n",
              "      <td>ryanfranco</td>\n",
              "      <td>Foot glass pretty audience hit themselves. Amo...</td>\n",
              "    </tr>\n",
              "    <tr>\n",
              "      <th>2</th>\n",
              "      <td>3</td>\n",
              "      <td>2</td>\n",
              "      <td>lorichen</td>\n",
              "      <td>Listen treat keep worry. Miss husband tax but ...</td>\n",
              "    </tr>\n",
              "  </tbody>\n",
              "</table>\n",
              "</div>"
            ],
            "text/plain": [
              "   review_id  ...                                               text\n",
              "0          1  ...  Mention society tell send professor analysis. ...\n",
              "1          2  ...  Foot glass pretty audience hit themselves. Amo...\n",
              "2          3  ...  Listen treat keep worry. Miss husband tax but ...\n",
              "\n",
              "[3 rows x 4 columns]"
            ]
          },
          "metadata": {}
        },
        {
          "output_type": "stream",
          "name": "stdout",
          "text": [
            "<class 'pandas.core.frame.DataFrame'>\n",
            "RangeIndex: 2793 entries, 0 to 2792\n",
            "Data columns (total 4 columns):\n",
            " #   Column     Non-Null Count  Dtype \n",
            "---  ------     --------------  ----- \n",
            " 0   review_id  2793 non-null   int64 \n",
            " 1   book_id    2793 non-null   int64 \n",
            " 2   username   2793 non-null   object\n",
            " 3   text       2793 non-null   object\n",
            "dtypes: int64(2), object(2)\n",
            "memory usage: 87.4+ KB\n"
          ]
        }
      ]
    },
    {
      "cell_type": "markdown",
      "metadata": {
        "id": "-P3WDHfvhVrG"
      },
      "source": [
        "## 2. Решение задач\n",
        "<a id='section2'> <a/>"
      ]
    },
    {
      "cell_type": "markdown",
      "metadata": {
        "id": "pPTNMN86hVrH"
      },
      "source": [
        "**1. Количество книг вышедших после 1 января 2000 года**\n",
        "<a id='section2_1'> <a/>"
      ]
    },
    {
      "cell_type": "code",
      "metadata": {
        "colab": {
          "base_uri": "https://localhost:8080/",
          "height": 80
        },
        "id": "i5H9ZptshVrH",
        "outputId": "840c8024-286a-44a2-a9b9-d30242254dea"
      },
      "source": [
        "query = ''' SELECT COUNT(title) AS count_book\n",
        "            FROM books\n",
        "            WHERE publication_date > '2000-01-01'\n",
        "        '''\n",
        "books_after_2000 = pd.io.sql.read_sql(query, con = engine)\n",
        "\n",
        "books_after_2000.head()"
      ],
      "execution_count": 7,
      "outputs": [
        {
          "output_type": "execute_result",
          "data": {
            "text/html": [
              "<div>\n",
              "<style scoped>\n",
              "    .dataframe tbody tr th:only-of-type {\n",
              "        vertical-align: middle;\n",
              "    }\n",
              "\n",
              "    .dataframe tbody tr th {\n",
              "        vertical-align: top;\n",
              "    }\n",
              "\n",
              "    .dataframe thead th {\n",
              "        text-align: right;\n",
              "    }\n",
              "</style>\n",
              "<table border=\"1\" class=\"dataframe\">\n",
              "  <thead>\n",
              "    <tr style=\"text-align: right;\">\n",
              "      <th></th>\n",
              "      <th>count_book</th>\n",
              "    </tr>\n",
              "  </thead>\n",
              "  <tbody>\n",
              "    <tr>\n",
              "      <th>0</th>\n",
              "      <td>819</td>\n",
              "    </tr>\n",
              "  </tbody>\n",
              "</table>\n",
              "</div>"
            ],
            "text/plain": [
              "   count_book\n",
              "0         819"
            ]
          },
          "metadata": {},
          "execution_count": 7
        }
      ]
    },
    {
      "cell_type": "markdown",
      "metadata": {
        "id": "E07I0eTMhVrI"
      },
      "source": [
        "В базе данных находится информация о 819 книгах, вышедших после 1 января 2000 года (включая 1 января - 821 книга)"
      ]
    },
    {
      "cell_type": "markdown",
      "metadata": {
        "id": "9r9SEp0EhVrJ"
      },
      "source": [
        "**2. Количество обзоров и средняя оценка книг**\n",
        "<a id='section2_2'> <a/>"
      ]
    },
    {
      "cell_type": "code",
      "metadata": {
        "colab": {
          "base_uri": "https://localhost:8080/",
          "height": 204
        },
        "id": "Z7L-OxalhVrK",
        "outputId": "0327b63e-06a2-4304-c868-66fdabce0298"
      },
      "source": [
        "query = ''' SELECT\n",
        "                books.title AS title,\n",
        "                rating.avg_rating AS average_rating,\n",
        "                review.cnt_review AS number_of_review\n",
        "            FROM books\n",
        "            INNER JOIN (SELECT\n",
        "                            book_id,\n",
        "                            AVG(rating) AS avg_rating\n",
        "                        FROM ratings\n",
        "                        GROUP BY book_id) AS rating ON rating.book_id = books.book_id\n",
        "            INNER JOIN (SELECT\n",
        "                            book_id,\n",
        "                            COUNT(DISTINCT review_id) AS cnt_review\n",
        "                        FROM reviews\n",
        "                        GROUP BY book_id) AS review ON review.book_id = books.book_id\n",
        "        '''\n",
        "books_rating_and_review = pd.io.sql.read_sql(query, con = engine)\n",
        "\n",
        "books_rating_and_review.head()"
      ],
      "execution_count": 8,
      "outputs": [
        {
          "output_type": "execute_result",
          "data": {
            "text/html": [
              "<div>\n",
              "<style scoped>\n",
              "    .dataframe tbody tr th:only-of-type {\n",
              "        vertical-align: middle;\n",
              "    }\n",
              "\n",
              "    .dataframe tbody tr th {\n",
              "        vertical-align: top;\n",
              "    }\n",
              "\n",
              "    .dataframe thead th {\n",
              "        text-align: right;\n",
              "    }\n",
              "</style>\n",
              "<table border=\"1\" class=\"dataframe\">\n",
              "  <thead>\n",
              "    <tr style=\"text-align: right;\">\n",
              "      <th></th>\n",
              "      <th>title</th>\n",
              "      <th>average_rating</th>\n",
              "      <th>number_of_review</th>\n",
              "    </tr>\n",
              "  </thead>\n",
              "  <tbody>\n",
              "    <tr>\n",
              "      <th>0</th>\n",
              "      <td>'Salem's Lot</td>\n",
              "      <td>3.666667</td>\n",
              "      <td>2</td>\n",
              "    </tr>\n",
              "    <tr>\n",
              "      <th>1</th>\n",
              "      <td>1 000 Places to See Before You Die</td>\n",
              "      <td>2.500000</td>\n",
              "      <td>1</td>\n",
              "    </tr>\n",
              "    <tr>\n",
              "      <th>2</th>\n",
              "      <td>13 Little Blue Envelopes (Little Blue Envelope...</td>\n",
              "      <td>4.666667</td>\n",
              "      <td>3</td>\n",
              "    </tr>\n",
              "    <tr>\n",
              "      <th>3</th>\n",
              "      <td>1491: New Revelations of the Americas Before C...</td>\n",
              "      <td>4.500000</td>\n",
              "      <td>2</td>\n",
              "    </tr>\n",
              "    <tr>\n",
              "      <th>4</th>\n",
              "      <td>1776</td>\n",
              "      <td>4.000000</td>\n",
              "      <td>4</td>\n",
              "    </tr>\n",
              "  </tbody>\n",
              "</table>\n",
              "</div>"
            ],
            "text/plain": [
              "                                               title  ...  number_of_review\n",
              "0                                       'Salem's Lot  ...                 2\n",
              "1                 1 000 Places to See Before You Die  ...                 1\n",
              "2  13 Little Blue Envelopes (Little Blue Envelope...  ...                 3\n",
              "3  1491: New Revelations of the Americas Before C...  ...                 2\n",
              "4                                               1776  ...                 4\n",
              "\n",
              "[5 rows x 3 columns]"
            ]
          },
          "metadata": {},
          "execution_count": 8
        }
      ]
    },
    {
      "cell_type": "markdown",
      "metadata": {
        "id": "HpiZYnrAhVrL"
      },
      "source": [
        "В данной таблице собрана информация о средней оценке каждой книги и количестве ревью на нее."
      ]
    },
    {
      "cell_type": "markdown",
      "metadata": {
        "id": "rBXpVwoYhVrL"
      },
      "source": [
        "**3. Издательство, которое выпустило наибольшее число книг толще 50 страниц**\n",
        "<a id='section2_3'> <a/>"
      ]
    },
    {
      "cell_type": "code",
      "metadata": {
        "colab": {
          "base_uri": "https://localhost:8080/",
          "height": 80
        },
        "id": "o3EyFkWPhVrM",
        "outputId": "5d9ed5fd-0b89-47f4-9b80-7e5a5c2997b2"
      },
      "source": [
        "query = ''' SELECT\n",
        "                publishers.publisher AS publisher,\n",
        "                COUNT(books.title) AS number_of_books\n",
        "            FROM books\n",
        "            INNER JOIN publishers ON publishers.publisher_id = books.publisher_id\n",
        "            WHERE books.num_pages > 50\n",
        "            GROUP BY publishers.publisher\n",
        "            ORDER BY number_of_books DESC\n",
        "            LIMIT 1\n",
        "        '''\n",
        "publisher_number_of_books = pd.io.sql.read_sql(query, con = engine)\n",
        "\n",
        "publisher_number_of_books.head()"
      ],
      "execution_count": 9,
      "outputs": [
        {
          "output_type": "execute_result",
          "data": {
            "text/html": [
              "<div>\n",
              "<style scoped>\n",
              "    .dataframe tbody tr th:only-of-type {\n",
              "        vertical-align: middle;\n",
              "    }\n",
              "\n",
              "    .dataframe tbody tr th {\n",
              "        vertical-align: top;\n",
              "    }\n",
              "\n",
              "    .dataframe thead th {\n",
              "        text-align: right;\n",
              "    }\n",
              "</style>\n",
              "<table border=\"1\" class=\"dataframe\">\n",
              "  <thead>\n",
              "    <tr style=\"text-align: right;\">\n",
              "      <th></th>\n",
              "      <th>publisher</th>\n",
              "      <th>number_of_books</th>\n",
              "    </tr>\n",
              "  </thead>\n",
              "  <tbody>\n",
              "    <tr>\n",
              "      <th>0</th>\n",
              "      <td>Penguin Books</td>\n",
              "      <td>42</td>\n",
              "    </tr>\n",
              "  </tbody>\n",
              "</table>\n",
              "</div>"
            ],
            "text/plain": [
              "       publisher  number_of_books\n",
              "0  Penguin Books               42"
            ]
          },
          "metadata": {},
          "execution_count": 9
        }
      ]
    },
    {
      "cell_type": "markdown",
      "metadata": {
        "id": "cPORHJ2thVrN"
      },
      "source": [
        "Наибольшее число книг, из находящихся в базе, выпустило издательство Penguin Books. При подсчете учитывались книги больше 50 страниц."
      ]
    },
    {
      "cell_type": "markdown",
      "metadata": {
        "id": "P_fGXGxThVrN"
      },
      "source": [
        "**4. Автор с самой высокой средней оценкой книг (учитываются только книги с 50 и более оценками)**\n",
        "<a id='section2_4'> <a/>"
      ]
    },
    {
      "cell_type": "code",
      "metadata": {
        "colab": {
          "base_uri": "https://localhost:8080/",
          "height": 80
        },
        "id": "9TKpoFwwhVrO",
        "outputId": "13bad4a6-99ff-4c21-bb5e-beff48a91e6c"
      },
      "source": [
        "query = ''' SELECT\n",
        "                authors.author AS author,\n",
        "                AVG(SUBQ.avg_rating) AS average_rating\n",
        "            FROM books\n",
        "            INNER JOIN authors ON authors.author_id = books.author_id\n",
        "            INNER JOIN (SELECT\n",
        "                            book_id,\n",
        "                            AVG(rating) AS avg_rating\n",
        "                        FROM ratings\n",
        "                        GROUP BY book_id\n",
        "                        HAVING COUNT(rating) > 50) AS SUBQ ON SUBQ.book_id = books.book_id\n",
        "            GROUP BY authors.author\n",
        "            ORDER BY average_rating DESC\n",
        "            LIMIT 1\n",
        "        '''\n",
        "authors_rating = pd.io.sql.read_sql(query, con = engine)\n",
        "\n",
        "authors_rating.head()"
      ],
      "execution_count": 10,
      "outputs": [
        {
          "output_type": "execute_result",
          "data": {
            "text/html": [
              "<div>\n",
              "<style scoped>\n",
              "    .dataframe tbody tr th:only-of-type {\n",
              "        vertical-align: middle;\n",
              "    }\n",
              "\n",
              "    .dataframe tbody tr th {\n",
              "        vertical-align: top;\n",
              "    }\n",
              "\n",
              "    .dataframe thead th {\n",
              "        text-align: right;\n",
              "    }\n",
              "</style>\n",
              "<table border=\"1\" class=\"dataframe\">\n",
              "  <thead>\n",
              "    <tr style=\"text-align: right;\">\n",
              "      <th></th>\n",
              "      <th>author</th>\n",
              "      <th>average_rating</th>\n",
              "    </tr>\n",
              "  </thead>\n",
              "  <tbody>\n",
              "    <tr>\n",
              "      <th>0</th>\n",
              "      <td>J.K. Rowling/Mary GrandPré</td>\n",
              "      <td>4.283844</td>\n",
              "    </tr>\n",
              "  </tbody>\n",
              "</table>\n",
              "</div>"
            ],
            "text/plain": [
              "                       author  average_rating\n",
              "0  J.K. Rowling/Mary GrandPré        4.283844"
            ]
          },
          "metadata": {},
          "execution_count": 10
        }
      ]
    },
    {
      "cell_type": "markdown",
      "metadata": {
        "id": "dUceLW9thVrP"
      },
      "source": [
        "Наиболее высокоонцененным автором в сервисе является Джоан Роулинг с рейтингом в 4.28 балла."
      ]
    },
    {
      "cell_type": "markdown",
      "metadata": {
        "id": "9XAQae2ehVrP"
      },
      "source": [
        "**5.  Среднее количество обзоров от пользователей, которые поставили больше 50 оценок**\n",
        "<a id='section2_5'> <a/>"
      ]
    },
    {
      "cell_type": "code",
      "metadata": {
        "colab": {
          "base_uri": "https://localhost:8080/",
          "height": 80
        },
        "id": "lszcsa3ghVrQ",
        "outputId": "2c5dd1da-0c7f-435f-fe4d-1982acfff440"
      },
      "source": [
        "query = ''' SELECT\n",
        "                AVG(count_review.cnt_review) AS average_count_review\n",
        "            FROM (SELECT\n",
        "                      username,\n",
        "                      COUNT(review_id) AS cnt_review\n",
        "                  FROM reviews\n",
        "                  GROUP BY username) AS count_review\n",
        "            INNER JOIN (SELECT\n",
        "                            username,\n",
        "                            COUNT(rating_id) AS cnt_rating\n",
        "                        FROM ratings\n",
        "                        GROUP BY username\n",
        "                        HAVING COUNT(rating) > 50) AS users ON users.username = count_review.username\n",
        "        '''\n",
        "average_count_review = pd.io.sql.read_sql(query, con = engine)\n",
        "\n",
        "display(average_count_review)"
      ],
      "execution_count": 11,
      "outputs": [
        {
          "output_type": "display_data",
          "data": {
            "text/html": [
              "<div>\n",
              "<style scoped>\n",
              "    .dataframe tbody tr th:only-of-type {\n",
              "        vertical-align: middle;\n",
              "    }\n",
              "\n",
              "    .dataframe tbody tr th {\n",
              "        vertical-align: top;\n",
              "    }\n",
              "\n",
              "    .dataframe thead th {\n",
              "        text-align: right;\n",
              "    }\n",
              "</style>\n",
              "<table border=\"1\" class=\"dataframe\">\n",
              "  <thead>\n",
              "    <tr style=\"text-align: right;\">\n",
              "      <th></th>\n",
              "      <th>average_count_review</th>\n",
              "    </tr>\n",
              "  </thead>\n",
              "  <tbody>\n",
              "    <tr>\n",
              "      <th>0</th>\n",
              "      <td>24.333333</td>\n",
              "    </tr>\n",
              "  </tbody>\n",
              "</table>\n",
              "</div>"
            ],
            "text/plain": [
              "   average_count_review\n",
              "0             24.333333"
            ]
          },
          "metadata": {}
        }
      ]
    },
    {
      "cell_type": "markdown",
      "metadata": {
        "id": "AOgkoHAAhVrR"
      },
      "source": [
        "Среднее количество обзоров от пользователей, которые поставили больше 50 оценок - 24.3"
      ]
    },
    {
      "cell_type": "code",
      "metadata": {
        "id": "-d3Kat-DhVrS"
      },
      "source": [
        ""
      ],
      "execution_count": 11,
      "outputs": []
    }
  ]
}