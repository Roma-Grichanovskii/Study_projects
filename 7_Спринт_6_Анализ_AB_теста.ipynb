{
  "nbformat": 4,
  "nbformat_minor": 0,
  "metadata": {
    "kernelspec": {
      "display_name": "Python 3",
      "language": "python",
      "name": "python3"
    },
    "language_info": {
      "codemirror_mode": {
        "name": "ipython",
        "version": 3
      },
      "file_extension": ".py",
      "mimetype": "text/x-python",
      "name": "python",
      "nbconvert_exporter": "python",
      "pygments_lexer": "ipython3",
      "version": "3.7.6"
    },
    "colab": {
      "name": "7. Спринт 6 Анализ AB-теста.ipynb",
      "provenance": [],
      "collapsed_sections": []
    }
  },
  "cells": [
    {
      "cell_type": "markdown",
      "metadata": {
        "id": "UGtYCfKgMmP_"
      },
      "source": [
        "# Анализ A/B-теста"
      ]
    },
    {
      "cell_type": "markdown",
      "metadata": {
        "id": "LYOEgo8fMmQE"
      },
      "source": [
        "### Описание проекта"
      ]
    },
    {
      "cell_type": "markdown",
      "metadata": {
        "id": "ADQ_MVN4MmQF"
      },
      "source": [
        "Аналитика интернет-магазина. Подготовлен список гипотез для увеличения выручки, также предоставлены данные А/В теста.\n",
        "\n",
        "Задание: Приоритизировать гипотезы и проанализируйте результаты А/В теста.\n",
        "\n",
        "В данном исследовании нами будет проведена приоритезация гипотез методами ICE и RICE, проанализированы результаты А/В теста: проведено сравнение конверсии и среднего чека заказа между группами."
      ]
    },
    {
      "cell_type": "markdown",
      "metadata": {
        "id": "jMdTK9ZTMmQG"
      },
      "source": [
        "### Оглавление"
      ]
    },
    {
      "cell_type": "markdown",
      "metadata": {
        "id": "MASNRe59MmQH"
      },
      "source": [
        "[1. Подготовка к анализу данных, создание и проверка датафреймов](#section1)  \n",
        "[2. Приоритизация гипотез](#section2)  \n",
        "[3. Анализ A/B-теста](#section3)  \n",
        "[3.1 График кумулятивной выручки](#section3.1)  \n",
        "[3.2 График кумулятивного среднего чека](#section3.2)  \n",
        "[3.3 График относительного изменения кумулятивного среднего чека группы B к группе A](#section3.3)  \n",
        "[3.4 График кумулятивной конверсии](#section3.4)  \n",
        "[3.5 График относительного изменения кумулятивной конверсии группы B к группе A](#section3.5)  \n",
        "[3.6 График количества заказов по пользователям](#section3.6)  \n",
        "[3.7 Расчет персентилей количества заказов](#section3.7)  \n",
        "[3.8 Точечный график стоимостей заказов](#section3.8)  \n",
        "[3.9 Расчет перцентилей стоимости заказов](#section3.9)  \n",
        "[3.10 Статистическая значимость различий в конверсии между группами по «сырым» данным](#section3.10)  \n",
        "[3.11 Статистическая значимость различий в среднем чеке заказа между группами по «сырым» данным](#section3.11)  \n",
        "[3.12 Статистическая значимость различий в конверсии между группами по «очищенным» данным](#section3.12)  \n",
        "[3.13 Статистическая значимость различий в среднем чеке заказа между группами по «очищенным» данным](#section3.13)  \n",
        "[3.14 Решение по результатам теста](#section3.14)  \n",
        "[4. Общий вывод](#section4)  \n",
        "\n",
        "\n",
        "<a id='section1'> <a/>"
      ]
    },
    {
      "cell_type": "markdown",
      "metadata": {
        "id": "KkgtqAVwMmQK"
      },
      "source": [
        "## 1. Подготовка к анализу данных, создание и проверка датафреймов"
      ]
    },
    {
      "cell_type": "code",
      "metadata": {
        "id": "7wVpDpUYMmQL"
      },
      "source": [
        "import pandas as pd\n",
        "import numpy as np\n",
        "import matplotlib.pyplot as plt\n",
        "import scipy.stats as stats"
      ],
      "execution_count": 1,
      "outputs": []
    },
    {
      "cell_type": "code",
      "metadata": {
        "colab": {
          "base_uri": "https://localhost:8080/"
        },
        "id": "NQQ6TIB4USAP",
        "outputId": "0ac688bf-5c89-447e-edfb-0f2c9b1d8014"
      },
      "source": [
        "from google.colab import drive\n",
        "drive.mount('/content/drive')"
      ],
      "execution_count": 2,
      "outputs": [
        {
          "output_type": "stream",
          "name": "stdout",
          "text": [
            "Drive already mounted at /content/drive; to attempt to forcibly remount, call drive.mount(\"/content/drive\", force_remount=True).\n"
          ]
        }
      ]
    },
    {
      "cell_type": "code",
      "metadata": {
        "colab": {
          "base_uri": "https://localhost:8080/",
          "height": 328
        },
        "id": "MUWpl_kYMmQQ",
        "outputId": "5cdee7f7-fe89-47c2-db76-58d3fac2dae5"
      },
      "source": [
        "# создаем датафрейм df_games\n",
        "path = '/content/drive/My Drive/yandex.practicum projects/datasets/7. Sprint 6/'\n",
        "\n",
        "hipotesis = pd.read_csv(path + 'hypothesis.csv')\n",
        "hipotesis.columns = ['hipotesis','reach', 'impact', 'confidence', 'efforts']\n",
        "hipotesis"
      ],
      "execution_count": 3,
      "outputs": [
        {
          "output_type": "execute_result",
          "data": {
            "text/html": [
              "<div>\n",
              "<style scoped>\n",
              "    .dataframe tbody tr th:only-of-type {\n",
              "        vertical-align: middle;\n",
              "    }\n",
              "\n",
              "    .dataframe tbody tr th {\n",
              "        vertical-align: top;\n",
              "    }\n",
              "\n",
              "    .dataframe thead th {\n",
              "        text-align: right;\n",
              "    }\n",
              "</style>\n",
              "<table border=\"1\" class=\"dataframe\">\n",
              "  <thead>\n",
              "    <tr style=\"text-align: right;\">\n",
              "      <th></th>\n",
              "      <th>hipotesis</th>\n",
              "      <th>reach</th>\n",
              "      <th>impact</th>\n",
              "      <th>confidence</th>\n",
              "      <th>efforts</th>\n",
              "    </tr>\n",
              "  </thead>\n",
              "  <tbody>\n",
              "    <tr>\n",
              "      <th>0</th>\n",
              "      <td>Добавить два новых канала привлечения трафика,...</td>\n",
              "      <td>3</td>\n",
              "      <td>10</td>\n",
              "      <td>8</td>\n",
              "      <td>6</td>\n",
              "    </tr>\n",
              "    <tr>\n",
              "      <th>1</th>\n",
              "      <td>Запустить собственную службу доставки, что сок...</td>\n",
              "      <td>2</td>\n",
              "      <td>5</td>\n",
              "      <td>4</td>\n",
              "      <td>10</td>\n",
              "    </tr>\n",
              "    <tr>\n",
              "      <th>2</th>\n",
              "      <td>Добавить блоки рекомендаций товаров на сайт ин...</td>\n",
              "      <td>8</td>\n",
              "      <td>3</td>\n",
              "      <td>7</td>\n",
              "      <td>3</td>\n",
              "    </tr>\n",
              "    <tr>\n",
              "      <th>3</th>\n",
              "      <td>Изменить структура категорий, что увеличит кон...</td>\n",
              "      <td>8</td>\n",
              "      <td>3</td>\n",
              "      <td>3</td>\n",
              "      <td>8</td>\n",
              "    </tr>\n",
              "    <tr>\n",
              "      <th>4</th>\n",
              "      <td>Изменить цвет фона главной страницы, чтобы уве...</td>\n",
              "      <td>3</td>\n",
              "      <td>1</td>\n",
              "      <td>1</td>\n",
              "      <td>1</td>\n",
              "    </tr>\n",
              "    <tr>\n",
              "      <th>5</th>\n",
              "      <td>Добавить страницу отзывов клиентов о магазине,...</td>\n",
              "      <td>3</td>\n",
              "      <td>2</td>\n",
              "      <td>2</td>\n",
              "      <td>3</td>\n",
              "    </tr>\n",
              "    <tr>\n",
              "      <th>6</th>\n",
              "      <td>Показать на главной странице баннеры с актуаль...</td>\n",
              "      <td>5</td>\n",
              "      <td>3</td>\n",
              "      <td>8</td>\n",
              "      <td>3</td>\n",
              "    </tr>\n",
              "    <tr>\n",
              "      <th>7</th>\n",
              "      <td>Добавить форму подписки на все основные страни...</td>\n",
              "      <td>10</td>\n",
              "      <td>7</td>\n",
              "      <td>8</td>\n",
              "      <td>5</td>\n",
              "    </tr>\n",
              "    <tr>\n",
              "      <th>8</th>\n",
              "      <td>Запустить акцию, дающую скидку на товар в день...</td>\n",
              "      <td>1</td>\n",
              "      <td>9</td>\n",
              "      <td>9</td>\n",
              "      <td>5</td>\n",
              "    </tr>\n",
              "  </tbody>\n",
              "</table>\n",
              "</div>"
            ],
            "text/plain": [
              "                                           hipotesis  ...  efforts\n",
              "0  Добавить два новых канала привлечения трафика,...  ...        6\n",
              "1  Запустить собственную службу доставки, что сок...  ...       10\n",
              "2  Добавить блоки рекомендаций товаров на сайт ин...  ...        3\n",
              "3  Изменить структура категорий, что увеличит кон...  ...        8\n",
              "4  Изменить цвет фона главной страницы, чтобы уве...  ...        1\n",
              "5  Добавить страницу отзывов клиентов о магазине,...  ...        3\n",
              "6  Показать на главной странице баннеры с актуаль...  ...        3\n",
              "7  Добавить форму подписки на все основные страни...  ...        5\n",
              "8  Запустить акцию, дающую скидку на товар в день...  ...        5\n",
              "\n",
              "[9 rows x 5 columns]"
            ]
          },
          "metadata": {},
          "execution_count": 3
        }
      ]
    },
    {
      "cell_type": "markdown",
      "metadata": {
        "id": "lEYgsZR5MmQT"
      },
      "source": [
        "Датафрейм с предложенными гипотезами.  \n",
        "\n",
        "hypothesis — краткое описание гипотезы  \n",
        "reach — охват пользователей по 10-балльной шкале  \n",
        "impact — влияние на пользователей по 10-балльной шкале  \n",
        "confidence — уверенность в гипотезе по 10-балльной шкале  \n",
        "efforts — затраты ресурсов на проверку гипотезы по 10-балльной шкале  "
      ]
    },
    {
      "cell_type": "code",
      "metadata": {
        "colab": {
          "base_uri": "https://localhost:8080/",
          "height": 425
        },
        "id": "yBON2uTqMmQU",
        "outputId": "abe22286-33e8-4f76-8c34-b9ca2766026d"
      },
      "source": [
        "orders = pd.read_csv(path + 'orders.csv')\n",
        "display(orders.head())\n",
        "display(orders.info())"
      ],
      "execution_count": 4,
      "outputs": [
        {
          "output_type": "display_data",
          "data": {
            "text/html": [
              "<div>\n",
              "<style scoped>\n",
              "    .dataframe tbody tr th:only-of-type {\n",
              "        vertical-align: middle;\n",
              "    }\n",
              "\n",
              "    .dataframe tbody tr th {\n",
              "        vertical-align: top;\n",
              "    }\n",
              "\n",
              "    .dataframe thead th {\n",
              "        text-align: right;\n",
              "    }\n",
              "</style>\n",
              "<table border=\"1\" class=\"dataframe\">\n",
              "  <thead>\n",
              "    <tr style=\"text-align: right;\">\n",
              "      <th></th>\n",
              "      <th>transactionId</th>\n",
              "      <th>visitorId</th>\n",
              "      <th>date</th>\n",
              "      <th>revenue</th>\n",
              "      <th>group</th>\n",
              "    </tr>\n",
              "  </thead>\n",
              "  <tbody>\n",
              "    <tr>\n",
              "      <th>0</th>\n",
              "      <td>3667963787</td>\n",
              "      <td>3312258926</td>\n",
              "      <td>2019-08-15</td>\n",
              "      <td>1650</td>\n",
              "      <td>B</td>\n",
              "    </tr>\n",
              "    <tr>\n",
              "      <th>1</th>\n",
              "      <td>2804400009</td>\n",
              "      <td>3642806036</td>\n",
              "      <td>2019-08-15</td>\n",
              "      <td>730</td>\n",
              "      <td>B</td>\n",
              "    </tr>\n",
              "    <tr>\n",
              "      <th>2</th>\n",
              "      <td>2961555356</td>\n",
              "      <td>4069496402</td>\n",
              "      <td>2019-08-15</td>\n",
              "      <td>400</td>\n",
              "      <td>A</td>\n",
              "    </tr>\n",
              "    <tr>\n",
              "      <th>3</th>\n",
              "      <td>3797467345</td>\n",
              "      <td>1196621759</td>\n",
              "      <td>2019-08-15</td>\n",
              "      <td>9759</td>\n",
              "      <td>B</td>\n",
              "    </tr>\n",
              "    <tr>\n",
              "      <th>4</th>\n",
              "      <td>2282983706</td>\n",
              "      <td>2322279887</td>\n",
              "      <td>2019-08-15</td>\n",
              "      <td>2308</td>\n",
              "      <td>B</td>\n",
              "    </tr>\n",
              "  </tbody>\n",
              "</table>\n",
              "</div>"
            ],
            "text/plain": [
              "   transactionId   visitorId        date  revenue group\n",
              "0     3667963787  3312258926  2019-08-15     1650     B\n",
              "1     2804400009  3642806036  2019-08-15      730     B\n",
              "2     2961555356  4069496402  2019-08-15      400     A\n",
              "3     3797467345  1196621759  2019-08-15     9759     B\n",
              "4     2282983706  2322279887  2019-08-15     2308     B"
            ]
          },
          "metadata": {}
        },
        {
          "output_type": "stream",
          "name": "stdout",
          "text": [
            "<class 'pandas.core.frame.DataFrame'>\n",
            "RangeIndex: 1197 entries, 0 to 1196\n",
            "Data columns (total 5 columns):\n",
            " #   Column         Non-Null Count  Dtype \n",
            "---  ------         --------------  ----- \n",
            " 0   transactionId  1197 non-null   int64 \n",
            " 1   visitorId      1197 non-null   int64 \n",
            " 2   date           1197 non-null   object\n",
            " 3   revenue        1197 non-null   int64 \n",
            " 4   group          1197 non-null   object\n",
            "dtypes: int64(3), object(2)\n",
            "memory usage: 46.9+ KB\n"
          ]
        },
        {
          "output_type": "display_data",
          "data": {
            "text/plain": [
              "None"
            ]
          },
          "metadata": {}
        }
      ]
    },
    {
      "cell_type": "code",
      "metadata": {
        "colab": {
          "base_uri": "https://localhost:8080/"
        },
        "id": "a7aS7hKKMmQV",
        "outputId": "9a0fb46f-434b-4871-d37b-87b7c9ea6eb6"
      },
      "source": [
        "# Изменение типа данных колонки 'date' на datetime\n",
        "orders['date'] = pd.to_datetime(orders['date'])\n",
        "\n",
        "# Проверка на дубликаты\n",
        "orders.duplicated().sum()"
      ],
      "execution_count": 5,
      "outputs": [
        {
          "output_type": "execute_result",
          "data": {
            "text/plain": [
              "0"
            ]
          },
          "metadata": {},
          "execution_count": 5
        }
      ]
    },
    {
      "cell_type": "markdown",
      "metadata": {
        "id": "ubKX_a_fMmQW"
      },
      "source": [
        "Датафрейм с данными о заказах. Дубликаты в данных отсутствуют\n",
        "\n",
        "transactionId — идентификатор заказа  \n",
        "visitorId — идентификатор пользователя, совершившего заказ  \n",
        "date — дата, когда был совершён заказ  \n",
        "revenue — выручка заказа  \n",
        "group — группа A/B-теста, в которую попал заказ  "
      ]
    },
    {
      "cell_type": "code",
      "metadata": {
        "colab": {
          "base_uri": "https://localhost:8080/",
          "height": 391
        },
        "id": "KpCPf4iAMmQX",
        "outputId": "b908d226-408e-417c-9216-c2c6aef1be4a"
      },
      "source": [
        "visitors = pd.read_csv(path + 'visitors.csv')\n",
        "display(visitors.head())\n",
        "display(visitors.info())"
      ],
      "execution_count": 6,
      "outputs": [
        {
          "output_type": "display_data",
          "data": {
            "text/html": [
              "<div>\n",
              "<style scoped>\n",
              "    .dataframe tbody tr th:only-of-type {\n",
              "        vertical-align: middle;\n",
              "    }\n",
              "\n",
              "    .dataframe tbody tr th {\n",
              "        vertical-align: top;\n",
              "    }\n",
              "\n",
              "    .dataframe thead th {\n",
              "        text-align: right;\n",
              "    }\n",
              "</style>\n",
              "<table border=\"1\" class=\"dataframe\">\n",
              "  <thead>\n",
              "    <tr style=\"text-align: right;\">\n",
              "      <th></th>\n",
              "      <th>date</th>\n",
              "      <th>group</th>\n",
              "      <th>visitors</th>\n",
              "    </tr>\n",
              "  </thead>\n",
              "  <tbody>\n",
              "    <tr>\n",
              "      <th>0</th>\n",
              "      <td>2019-08-01</td>\n",
              "      <td>A</td>\n",
              "      <td>719</td>\n",
              "    </tr>\n",
              "    <tr>\n",
              "      <th>1</th>\n",
              "      <td>2019-08-02</td>\n",
              "      <td>A</td>\n",
              "      <td>619</td>\n",
              "    </tr>\n",
              "    <tr>\n",
              "      <th>2</th>\n",
              "      <td>2019-08-03</td>\n",
              "      <td>A</td>\n",
              "      <td>507</td>\n",
              "    </tr>\n",
              "    <tr>\n",
              "      <th>3</th>\n",
              "      <td>2019-08-04</td>\n",
              "      <td>A</td>\n",
              "      <td>717</td>\n",
              "    </tr>\n",
              "    <tr>\n",
              "      <th>4</th>\n",
              "      <td>2019-08-05</td>\n",
              "      <td>A</td>\n",
              "      <td>756</td>\n",
              "    </tr>\n",
              "  </tbody>\n",
              "</table>\n",
              "</div>"
            ],
            "text/plain": [
              "         date group  visitors\n",
              "0  2019-08-01     A       719\n",
              "1  2019-08-02     A       619\n",
              "2  2019-08-03     A       507\n",
              "3  2019-08-04     A       717\n",
              "4  2019-08-05     A       756"
            ]
          },
          "metadata": {}
        },
        {
          "output_type": "stream",
          "name": "stdout",
          "text": [
            "<class 'pandas.core.frame.DataFrame'>\n",
            "RangeIndex: 62 entries, 0 to 61\n",
            "Data columns (total 3 columns):\n",
            " #   Column    Non-Null Count  Dtype \n",
            "---  ------    --------------  ----- \n",
            " 0   date      62 non-null     object\n",
            " 1   group     62 non-null     object\n",
            " 2   visitors  62 non-null     int64 \n",
            "dtypes: int64(1), object(2)\n",
            "memory usage: 1.6+ KB\n"
          ]
        },
        {
          "output_type": "display_data",
          "data": {
            "text/plain": [
              "None"
            ]
          },
          "metadata": {}
        }
      ]
    },
    {
      "cell_type": "code",
      "metadata": {
        "colab": {
          "base_uri": "https://localhost:8080/"
        },
        "id": "XTUOyFkRMmQa",
        "outputId": "d41ef545-f7a3-4b2d-acfa-81f1da42d2dd"
      },
      "source": [
        "# Изменение типа данных колонки 'date' на datetime\n",
        "visitors['date'] = pd.to_datetime(visitors['date'])\n",
        "\n",
        "# Проверка на дубликаты\n",
        "visitors.duplicated().sum()"
      ],
      "execution_count": 7,
      "outputs": [
        {
          "output_type": "execute_result",
          "data": {
            "text/plain": [
              "0"
            ]
          },
          "metadata": {},
          "execution_count": 7
        }
      ]
    },
    {
      "cell_type": "markdown",
      "metadata": {
        "id": "07pb1_SyMmQb"
      },
      "source": [
        "Датафрейм с данными о посетителях. Дубликаты в данных отсутствуют\n",
        "\n",
        "date — дата  \n",
        "group — группа A/B-теста  \n",
        "visitors — количество пользователей в указанную дату в указанной группе A/B-теста  "
      ]
    },
    {
      "cell_type": "markdown",
      "metadata": {
        "id": "2HUJpINYMmQb"
      },
      "source": [
        "### Вывод"
      ]
    },
    {
      "cell_type": "markdown",
      "metadata": {
        "id": "XbKsBp-5MmQc"
      },
      "source": [
        "На данном этапе мы загрузили датафреймы с выдвинутыми гипотезами, данные о заказах и количестве посетителей, ознакомились с ними, проверили типы данных на корректность и дубликаты.\n",
        "\n",
        "<a id='section2'> <a/>"
      ]
    },
    {
      "cell_type": "markdown",
      "metadata": {
        "id": "-E8MFQqVMmQd"
      },
      "source": [
        "# 2. Приоритизация гипотез"
      ]
    },
    {
      "cell_type": "code",
      "metadata": {
        "id": "wfj0EmZIMmQd"
      },
      "source": [
        "# Приоритезация гипотез по методу ICE \n",
        "hipotesis['ice_score'] = (hipotesis['impact'] * hipotesis['confidence']) / hipotesis['efforts']\n",
        "\n",
        "# Приоритезация гипотез по методу RICE \n",
        "hipotesis['rice_score'] = (hipotesis['impact'] * hipotesis['confidence'] * hipotesis['reach']) / hipotesis['efforts']"
      ],
      "execution_count": 8,
      "outputs": []
    },
    {
      "cell_type": "code",
      "metadata": {
        "colab": {
          "base_uri": "https://localhost:8080/",
          "height": 328
        },
        "id": "ylUdo08rMmQi",
        "outputId": "d0b35ec2-4262-4f11-bc93-24ae91addf16"
      },
      "source": [
        "# Приоритизированные по методу ICE гипотезы\n",
        "hipotesis.sort_values('ice_score', ascending=False)"
      ],
      "execution_count": 9,
      "outputs": [
        {
          "output_type": "execute_result",
          "data": {
            "text/html": [
              "<div>\n",
              "<style scoped>\n",
              "    .dataframe tbody tr th:only-of-type {\n",
              "        vertical-align: middle;\n",
              "    }\n",
              "\n",
              "    .dataframe tbody tr th {\n",
              "        vertical-align: top;\n",
              "    }\n",
              "\n",
              "    .dataframe thead th {\n",
              "        text-align: right;\n",
              "    }\n",
              "</style>\n",
              "<table border=\"1\" class=\"dataframe\">\n",
              "  <thead>\n",
              "    <tr style=\"text-align: right;\">\n",
              "      <th></th>\n",
              "      <th>hipotesis</th>\n",
              "      <th>reach</th>\n",
              "      <th>impact</th>\n",
              "      <th>confidence</th>\n",
              "      <th>efforts</th>\n",
              "      <th>ice_score</th>\n",
              "      <th>rice_score</th>\n",
              "    </tr>\n",
              "  </thead>\n",
              "  <tbody>\n",
              "    <tr>\n",
              "      <th>8</th>\n",
              "      <td>Запустить акцию, дающую скидку на товар в день...</td>\n",
              "      <td>1</td>\n",
              "      <td>9</td>\n",
              "      <td>9</td>\n",
              "      <td>5</td>\n",
              "      <td>16.200000</td>\n",
              "      <td>16.2</td>\n",
              "    </tr>\n",
              "    <tr>\n",
              "      <th>0</th>\n",
              "      <td>Добавить два новых канала привлечения трафика,...</td>\n",
              "      <td>3</td>\n",
              "      <td>10</td>\n",
              "      <td>8</td>\n",
              "      <td>6</td>\n",
              "      <td>13.333333</td>\n",
              "      <td>40.0</td>\n",
              "    </tr>\n",
              "    <tr>\n",
              "      <th>7</th>\n",
              "      <td>Добавить форму подписки на все основные страни...</td>\n",
              "      <td>10</td>\n",
              "      <td>7</td>\n",
              "      <td>8</td>\n",
              "      <td>5</td>\n",
              "      <td>11.200000</td>\n",
              "      <td>112.0</td>\n",
              "    </tr>\n",
              "    <tr>\n",
              "      <th>6</th>\n",
              "      <td>Показать на главной странице баннеры с актуаль...</td>\n",
              "      <td>5</td>\n",
              "      <td>3</td>\n",
              "      <td>8</td>\n",
              "      <td>3</td>\n",
              "      <td>8.000000</td>\n",
              "      <td>40.0</td>\n",
              "    </tr>\n",
              "    <tr>\n",
              "      <th>2</th>\n",
              "      <td>Добавить блоки рекомендаций товаров на сайт ин...</td>\n",
              "      <td>8</td>\n",
              "      <td>3</td>\n",
              "      <td>7</td>\n",
              "      <td>3</td>\n",
              "      <td>7.000000</td>\n",
              "      <td>56.0</td>\n",
              "    </tr>\n",
              "    <tr>\n",
              "      <th>1</th>\n",
              "      <td>Запустить собственную службу доставки, что сок...</td>\n",
              "      <td>2</td>\n",
              "      <td>5</td>\n",
              "      <td>4</td>\n",
              "      <td>10</td>\n",
              "      <td>2.000000</td>\n",
              "      <td>4.0</td>\n",
              "    </tr>\n",
              "    <tr>\n",
              "      <th>5</th>\n",
              "      <td>Добавить страницу отзывов клиентов о магазине,...</td>\n",
              "      <td>3</td>\n",
              "      <td>2</td>\n",
              "      <td>2</td>\n",
              "      <td>3</td>\n",
              "      <td>1.333333</td>\n",
              "      <td>4.0</td>\n",
              "    </tr>\n",
              "    <tr>\n",
              "      <th>3</th>\n",
              "      <td>Изменить структура категорий, что увеличит кон...</td>\n",
              "      <td>8</td>\n",
              "      <td>3</td>\n",
              "      <td>3</td>\n",
              "      <td>8</td>\n",
              "      <td>1.125000</td>\n",
              "      <td>9.0</td>\n",
              "    </tr>\n",
              "    <tr>\n",
              "      <th>4</th>\n",
              "      <td>Изменить цвет фона главной страницы, чтобы уве...</td>\n",
              "      <td>3</td>\n",
              "      <td>1</td>\n",
              "      <td>1</td>\n",
              "      <td>1</td>\n",
              "      <td>1.000000</td>\n",
              "      <td>3.0</td>\n",
              "    </tr>\n",
              "  </tbody>\n",
              "</table>\n",
              "</div>"
            ],
            "text/plain": [
              "                                           hipotesis  ...  rice_score\n",
              "8  Запустить акцию, дающую скидку на товар в день...  ...        16.2\n",
              "0  Добавить два новых канала привлечения трафика,...  ...        40.0\n",
              "7  Добавить форму подписки на все основные страни...  ...       112.0\n",
              "6  Показать на главной странице баннеры с актуаль...  ...        40.0\n",
              "2  Добавить блоки рекомендаций товаров на сайт ин...  ...        56.0\n",
              "1  Запустить собственную службу доставки, что сок...  ...         4.0\n",
              "5  Добавить страницу отзывов клиентов о магазине,...  ...         4.0\n",
              "3  Изменить структура категорий, что увеличит кон...  ...         9.0\n",
              "4  Изменить цвет фона главной страницы, чтобы уве...  ...         3.0\n",
              "\n",
              "[9 rows x 7 columns]"
            ]
          },
          "metadata": {},
          "execution_count": 9
        }
      ]
    },
    {
      "cell_type": "code",
      "metadata": {
        "colab": {
          "base_uri": "https://localhost:8080/",
          "height": 328
        },
        "id": "XiF17FhLMmQj",
        "outputId": "19d21243-ebb2-49d9-e8f3-dd0169638e0c"
      },
      "source": [
        "# Приоритизированные по методу RICE гипотезы\n",
        "hipotesis.sort_values('rice_score', ascending=False)"
      ],
      "execution_count": 10,
      "outputs": [
        {
          "output_type": "execute_result",
          "data": {
            "text/html": [
              "<div>\n",
              "<style scoped>\n",
              "    .dataframe tbody tr th:only-of-type {\n",
              "        vertical-align: middle;\n",
              "    }\n",
              "\n",
              "    .dataframe tbody tr th {\n",
              "        vertical-align: top;\n",
              "    }\n",
              "\n",
              "    .dataframe thead th {\n",
              "        text-align: right;\n",
              "    }\n",
              "</style>\n",
              "<table border=\"1\" class=\"dataframe\">\n",
              "  <thead>\n",
              "    <tr style=\"text-align: right;\">\n",
              "      <th></th>\n",
              "      <th>hipotesis</th>\n",
              "      <th>reach</th>\n",
              "      <th>impact</th>\n",
              "      <th>confidence</th>\n",
              "      <th>efforts</th>\n",
              "      <th>ice_score</th>\n",
              "      <th>rice_score</th>\n",
              "    </tr>\n",
              "  </thead>\n",
              "  <tbody>\n",
              "    <tr>\n",
              "      <th>7</th>\n",
              "      <td>Добавить форму подписки на все основные страни...</td>\n",
              "      <td>10</td>\n",
              "      <td>7</td>\n",
              "      <td>8</td>\n",
              "      <td>5</td>\n",
              "      <td>11.200000</td>\n",
              "      <td>112.0</td>\n",
              "    </tr>\n",
              "    <tr>\n",
              "      <th>2</th>\n",
              "      <td>Добавить блоки рекомендаций товаров на сайт ин...</td>\n",
              "      <td>8</td>\n",
              "      <td>3</td>\n",
              "      <td>7</td>\n",
              "      <td>3</td>\n",
              "      <td>7.000000</td>\n",
              "      <td>56.0</td>\n",
              "    </tr>\n",
              "    <tr>\n",
              "      <th>0</th>\n",
              "      <td>Добавить два новых канала привлечения трафика,...</td>\n",
              "      <td>3</td>\n",
              "      <td>10</td>\n",
              "      <td>8</td>\n",
              "      <td>6</td>\n",
              "      <td>13.333333</td>\n",
              "      <td>40.0</td>\n",
              "    </tr>\n",
              "    <tr>\n",
              "      <th>6</th>\n",
              "      <td>Показать на главной странице баннеры с актуаль...</td>\n",
              "      <td>5</td>\n",
              "      <td>3</td>\n",
              "      <td>8</td>\n",
              "      <td>3</td>\n",
              "      <td>8.000000</td>\n",
              "      <td>40.0</td>\n",
              "    </tr>\n",
              "    <tr>\n",
              "      <th>8</th>\n",
              "      <td>Запустить акцию, дающую скидку на товар в день...</td>\n",
              "      <td>1</td>\n",
              "      <td>9</td>\n",
              "      <td>9</td>\n",
              "      <td>5</td>\n",
              "      <td>16.200000</td>\n",
              "      <td>16.2</td>\n",
              "    </tr>\n",
              "    <tr>\n",
              "      <th>3</th>\n",
              "      <td>Изменить структура категорий, что увеличит кон...</td>\n",
              "      <td>8</td>\n",
              "      <td>3</td>\n",
              "      <td>3</td>\n",
              "      <td>8</td>\n",
              "      <td>1.125000</td>\n",
              "      <td>9.0</td>\n",
              "    </tr>\n",
              "    <tr>\n",
              "      <th>1</th>\n",
              "      <td>Запустить собственную службу доставки, что сок...</td>\n",
              "      <td>2</td>\n",
              "      <td>5</td>\n",
              "      <td>4</td>\n",
              "      <td>10</td>\n",
              "      <td>2.000000</td>\n",
              "      <td>4.0</td>\n",
              "    </tr>\n",
              "    <tr>\n",
              "      <th>5</th>\n",
              "      <td>Добавить страницу отзывов клиентов о магазине,...</td>\n",
              "      <td>3</td>\n",
              "      <td>2</td>\n",
              "      <td>2</td>\n",
              "      <td>3</td>\n",
              "      <td>1.333333</td>\n",
              "      <td>4.0</td>\n",
              "    </tr>\n",
              "    <tr>\n",
              "      <th>4</th>\n",
              "      <td>Изменить цвет фона главной страницы, чтобы уве...</td>\n",
              "      <td>3</td>\n",
              "      <td>1</td>\n",
              "      <td>1</td>\n",
              "      <td>1</td>\n",
              "      <td>1.000000</td>\n",
              "      <td>3.0</td>\n",
              "    </tr>\n",
              "  </tbody>\n",
              "</table>\n",
              "</div>"
            ],
            "text/plain": [
              "                                           hipotesis  ...  rice_score\n",
              "7  Добавить форму подписки на все основные страни...  ...       112.0\n",
              "2  Добавить блоки рекомендаций товаров на сайт ин...  ...        56.0\n",
              "0  Добавить два новых канала привлечения трафика,...  ...        40.0\n",
              "6  Показать на главной странице баннеры с актуаль...  ...        40.0\n",
              "8  Запустить акцию, дающую скидку на товар в день...  ...        16.2\n",
              "3  Изменить структура категорий, что увеличит кон...  ...         9.0\n",
              "1  Запустить собственную службу доставки, что сок...  ...         4.0\n",
              "5  Добавить страницу отзывов клиентов о магазине,...  ...         4.0\n",
              "4  Изменить цвет фона главной страницы, чтобы уве...  ...         3.0\n",
              "\n",
              "[9 rows x 7 columns]"
            ]
          },
          "metadata": {},
          "execution_count": 10
        }
      ]
    },
    {
      "cell_type": "markdown",
      "metadata": {
        "id": "JwXsffQ0MmQk"
      },
      "source": [
        "### Вывод"
      ]
    },
    {
      "cell_type": "markdown",
      "metadata": {
        "id": "URfnGg6wMmQl"
      },
      "source": [
        "При применении методов приоритезации ICE и RICE мы получили различающиеся данные. Это произошло из-за того, что при приоритезации по методу ICE в расчет не берется показатель охвата пользователей, который оказывает существенное влияние при расчете RICE.\n",
        "\n",
        "- Так, например, гипотеза 8, являющаяся лидером по методу ICE, оказалась на 5 месте в списке приоритетов по методу RICE из-за минимально возможного охвата пользователя. А лидером по методу RICE является гипотеза 7, имеющая максимальный показатель охвата и относительно высокие показатели влияния и уверенности в гипотезе. При этом у данных гипотез одинаковая трудоемкость.\n",
        "\n",
        "Наиболее перспертивной по методу RICE гипотезой является \"Добавить форму подписки на все основные страницы, чтобы собрать базу клиентов для email-рассылок\".\n",
        "\n",
        "<a id='section3'> <a/>"
      ]
    },
    {
      "cell_type": "markdown",
      "metadata": {
        "id": "9cql2GDwMmQp"
      },
      "source": [
        "# 3. Анализ A/B-теста"
      ]
    },
    {
      "cell_type": "code",
      "metadata": {
        "id": "El0L6wy2MmQp"
      },
      "source": [
        "# Массив уникальных пар значений дат и групп\n",
        "datesGroups = orders[['date','group']].drop_duplicates()\n",
        "\n",
        "# Агрегированные по дням данные о заказах\n",
        "ordersAggregated = datesGroups.\\\n",
        "    apply(lambda x: orders[np.logical_and(orders['date'] <= x['date'], orders['group'] == x['group'])].\\\n",
        "    agg({'date' : 'max',\n",
        "        'group' : 'max',\n",
        "        'transactionId' : pd.Series.nunique,\n",
        "        'visitorId' : pd.Series.nunique,\n",
        "        'revenue' : 'sum'}), axis=1).\\\n",
        "    sort_values(by=['date','group'])\n",
        "\n",
        "# Агрегированные по дням данные о посещениях\n",
        "visitorsAggregated = datesGroups.apply(\n",
        "lambda x: visitors[np.logical_and(visitors['date'] <= x['date'], visitors['group'] == x['group'])].agg({\n",
        "'date' : 'max',\n",
        "'group' : 'max',\n",
        "'visitors' : 'sum'}), axis=1).sort_values(by=['date','group'])"
      ],
      "execution_count": 11,
      "outputs": []
    },
    {
      "cell_type": "markdown",
      "metadata": {
        "id": "d8dD3KInMmQq"
      },
      "source": [
        "<a id='section3.1'> <a/>"
      ]
    },
    {
      "cell_type": "markdown",
      "metadata": {
        "id": "V9-pE6RrMmQq"
      },
      "source": [
        "**3.1 График кумулятивной выручки**"
      ]
    },
    {
      "cell_type": "code",
      "metadata": {
        "id": "yJ6pYuZYMmQs"
      },
      "source": [
        "# Объединение ordersAggregated и visitorsAggregated\n",
        "cumulativeData = ordersAggregated.merge(visitorsAggregated, on=['date', 'group'])\n",
        "cumulativeData.columns = ['date', 'group', 'orders', 'buyers', 'revenue', 'visitors']\n",
        "\n",
        "# датафрейм группы А с кумулятивным количеством заказов и кумулятивной выручкой по дням\n",
        "cumulativeRevenueA = cumulativeData[cumulativeData['group']=='A'][['date','revenue', 'orders']]\n",
        "\n",
        "# датафрейм группы В с кумулятивным количеством заказов и кумулятивной выручкой по дням\n",
        "cumulativeRevenueB = cumulativeData[cumulativeData['group']=='B'][['date','revenue', 'orders']]"
      ],
      "execution_count": 12,
      "outputs": []
    },
    {
      "cell_type": "code",
      "metadata": {
        "colab": {
          "base_uri": "https://localhost:8080/",
          "height": 295
        },
        "id": "42Nm_bu-MmQt",
        "outputId": "132db57b-2924-421c-c7a7-72550706cffc"
      },
      "source": [
        "# График кумулятивной выручки\n",
        "plt.figure(figsize=(12,4))\n",
        "plt.plot(cumulativeRevenueA['date'], cumulativeRevenueA['revenue'], label='A')\n",
        "plt.plot(cumulativeRevenueB['date'], cumulativeRevenueB['revenue'], label='B')\n",
        "plt.title('Кумулятивная выручка')\n",
        "plt.xlabel('Дата')\n",
        "plt.ylabel('Выручка, у.е.')\n",
        "plt.legend()\n",
        "plt.show()"
      ],
      "execution_count": 13,
      "outputs": [
        {
          "output_type": "display_data",
          "data": {
            "image/png": "[encoded data removed]",
            "text/plain": [
              "<Figure size 864x288 with 1 Axes>"
            ]
          },
          "metadata": {
            "needs_background": "light"
          }
        }
      ]
    },
    {
      "cell_type": "markdown",
      "metadata": {
        "id": "7EYnY8Y8MmQv"
      },
      "source": [
        "### Вывод\n",
        "\n",
        "По графику кумулятивной выручки видно, что группа B опережает группу A. При этом на В сильное влияение оказал выброс, существенно увеличивший кумулятивную выручку группы В.  \n",
        "Несмотря на это, если рассматривать данные без учета конкретно этого выброса, видо, что группа В начала лидировать до него и не сдавала позиции после.\n",
        "\n",
        "<a id='section3.2'> <a/>"
      ]
    },
    {
      "cell_type": "markdown",
      "metadata": {
        "id": "yASwphgpMmQx"
      },
      "source": [
        "**3.2 График кумулятивного среднего чека**"
      ]
    },
    {
      "cell_type": "code",
      "metadata": {
        "colab": {
          "base_uri": "https://localhost:8080/",
          "height": 295
        },
        "id": "X5knkEj6MmQx",
        "outputId": "31de389f-7b3d-4ad0-a827-69cca208e52d"
      },
      "source": [
        "plt.figure(figsize=(12,4))\n",
        "plt.plot(cumulativeRevenueA['date'], cumulativeRevenueA['revenue'] / cumulativeRevenueA['orders'], label='A')\n",
        "plt.plot(cumulativeRevenueB['date'], cumulativeRevenueB['revenue'] / cumulativeRevenueB['orders'], label='B')\n",
        "plt.title('Кумулятивный средний чек')\n",
        "plt.xlabel('Дата')\n",
        "plt.ylabel('Сумма среднего чека, у.е.')\n",
        "plt.legend()\n",
        "plt.show()"
      ],
      "execution_count": 14,
      "outputs": [
        {
          "output_type": "display_data",
          "data": {
            "image/png": "[encoded data removed]",
            "text/plain": [
              "<Figure size 864x288 with 1 Axes>"
            ]
          },
          "metadata": {
            "needs_background": "light"
          }
        }
      ]
    },
    {
      "cell_type": "markdown",
      "metadata": {
        "id": "FnMOPP8yMmQy"
      },
      "source": [
        "### Вывод\n",
        "\n",
        "По графику кумулятивного среднего чека (по неочищенным от выбросов данным) видно, что лидирующей является группа В, при этом это произошло из-за одного большого выброса. При этом, в целом, графики кумулятивного среднего чека групп А/В направлены в одну точку.\n",
        "\n",
        "<a id='section3.3'> <a/>"
      ]
    },
    {
      "cell_type": "markdown",
      "metadata": {
        "id": "L8zV2F2jMmQz"
      },
      "source": [
        "**3.3 График относительного изменения кумулятивного среднего чека группы B к группе A**"
      ]
    },
    {
      "cell_type": "code",
      "metadata": {
        "colab": {
          "base_uri": "https://localhost:8080/",
          "height": 295
        },
        "id": "bHSOkfbTMmQz",
        "outputId": "190bbdb0-046d-425b-8f08-d04ccdb4f8e5"
      },
      "source": [
        "# Объединение датафреймов cumulativeRevenueA и cumulativeRevenueB с присвоением суффиксов столбцам 'revenue' и 'orders'\n",
        "mergedCumulativeRevenue = cumulativeRevenueA.\\\n",
        "    merge(cumulativeRevenueB, left_on='date', right_on='date', how='left', suffixes=['A', 'B'])\n",
        " \n",
        "# Отношение средних чеков групп А и В\n",
        "plt.figure(figsize=(12,4))\n",
        "plt.plot(mergedCumulativeRevenue['date'],\n",
        "        (mergedCumulativeRevenue['revenueB']/mergedCumulativeRevenue['ordersB'])/\\\n",
        "        (mergedCumulativeRevenue['revenueA']/mergedCumulativeRevenue['ordersA'])-1)\n",
        "plt.axhline(y=0, color='black', linestyle='--')\n",
        "plt.title('Относительное изменение кумулятивного среднего чека группы B к группе A')\n",
        "plt.xlabel('Дата')\n",
        "plt.ylabel('Отклонение, %')\n",
        "plt.show()"
      ],
      "execution_count": 15,
      "outputs": [
        {
          "output_type": "display_data",
          "data": {
            "image/png": "[encoded data removed]",
            "text/plain": [
              "<Figure size 864x288 with 1 Axes>"
            ]
          },
          "metadata": {
            "needs_background": "light"
          }
        }
      ]
    },
    {
      "cell_type": "markdown",
      "metadata": {
        "id": "h9WzGDKJMmQ0"
      },
      "source": [
        "### Вывод\n",
        "\n",
        "Многочисленные скачки на графике относительного изменения кумулятивного среднего чека группы B к группе A указывают на наличие выбросов в обоих группах. При этом большой выброс в начале второй половины проведения теста поднял в лидеры группу В, после чего началось постепенное снижение.\n",
        "\n",
        "<a id='section3.4'> <a/>"
      ]
    },
    {
      "cell_type": "markdown",
      "metadata": {
        "id": "sFY3AdM9MmQ0"
      },
      "source": [
        "**3.4 График кумулятивной конверсии**"
      ]
    },
    {
      "cell_type": "code",
      "metadata": {
        "colab": {
          "base_uri": "https://localhost:8080/",
          "height": 295
        },
        "id": "RZ92yl5SMmQ1",
        "outputId": "c745299b-149f-4101-b045-1298f255e101"
      },
      "source": [
        "# Расчет кумулятивной конверсии\n",
        "cumulativeData['conversion'] = cumulativeData['orders'] / cumulativeData['visitors']\n",
        "\n",
        "# Разделение по группам\n",
        "cumulativeDataA = cumulativeData[cumulativeData['group']=='A']\n",
        "cumulativeDataB = cumulativeData[cumulativeData['group']=='B']\n",
        "\n",
        "# График кумулятивной конверсии\n",
        "plt.figure(figsize=(12,4))\n",
        "plt.plot(cumulativeDataA['date'], cumulativeDataA['conversion'], label='A')\n",
        "plt.plot(cumulativeDataB['date'], cumulativeDataB['conversion'], label='B')\n",
        "plt.legend()\n",
        "#plt.axis([\"2019-08-01\", \"2019-08-31\", 0.025, 0.04])\n",
        "plt.title('Кумулятивная конверсия')\n",
        "plt.xlabel('Дата')\n",
        "plt.ylabel('Конверсия, %')\n",
        "plt.show()"
      ],
      "execution_count": 16,
      "outputs": [
        {
          "output_type": "display_data",
          "data": {
            "image/png": "[encoded data removed]",
            "text/plain": [
              "<Figure size 864x288 with 1 Axes>"
            ]
          },
          "metadata": {
            "needs_background": "light"
          }
        }
      ]
    },
    {
      "cell_type": "markdown",
      "metadata": {
        "id": "joXZRl7EMmQ1"
      },
      "source": [
        "### Вывод\n",
        "\n",
        "График кумулятивной конверсии показывает уверенное лидерство группы B на протяжении практически всего теста, следовательно посетители из группы В совершают больше покупок, чем посетители из группы А.\n",
        "\n",
        "<a id='section3.5'> <a/>"
      ]
    },
    {
      "cell_type": "markdown",
      "metadata": {
        "id": "0btHoUO5MmQ3"
      },
      "source": [
        "**3.5 График относительного изменения кумулятивной конверсии группы B к группе A**"
      ]
    },
    {
      "cell_type": "code",
      "metadata": {
        "colab": {
          "base_uri": "https://localhost:8080/",
          "height": 295
        },
        "id": "ZysX-AkBMmQ3",
        "outputId": "5bfcb0f9-d731-451b-f37d-bbf20c80cfbd"
      },
      "source": [
        "# Объединение датафреймов cumulativeDataA и cumulativeDataB с присвоением суффиксов столбцу 'conversion'\n",
        "mergedCumulativeConversions = cumulativeDataA[['date','conversion']].\\\n",
        "    merge(cumulativeDataB[['date','conversion']], on='date', how='left', suffixes=['A', 'B'])\n",
        "\n",
        "# График относительного изменения кумулятивной конверсии группы B к группе A\n",
        "plt.figure(figsize=(12,4))\n",
        "plt.plot(mergedCumulativeConversions['date'],\n",
        "         mergedCumulativeConversions['conversionB']/mergedCumulativeConversions['conversionA']-1)\n",
        "plt.axhline(y=0, color='black', linestyle='--')\n",
        "#plt.axis([\"2019-08-01\", \"2019-08-31\", -0.25, 0.25])\n",
        "plt.title('Относительное изменение кумулятивной конверсии группы B к группе A')\n",
        "plt.xlabel('Дата')\n",
        "plt.ylabel('Отклонение, %')\n",
        "plt.show()"
      ],
      "execution_count": 17,
      "outputs": [
        {
          "output_type": "display_data",
          "data": {
            "image/png": "[encoded data removed]",
            "text/plain": [
              "<Figure size 864x288 with 1 Axes>"
            ]
          },
          "metadata": {
            "needs_background": "light"
          }
        }
      ]
    },
    {
      "cell_type": "markdown",
      "metadata": {
        "id": "X4ujIV0pMmQ4"
      },
      "source": [
        "### Вывод\n",
        "\n",
        "Как и на прошлом графике, здесь видно уверенное превосходство группы B перед группой А. Посетители из группы В совершают больше покупок, чем посетители из группы А.\n",
        "\n",
        "<a id='section3.6'> <a/>"
      ]
    },
    {
      "cell_type": "markdown",
      "metadata": {
        "id": "WMn8eezgMmQ7"
      },
      "source": [
        "**3.6 График количества заказов по пользователям**"
      ]
    },
    {
      "cell_type": "code",
      "metadata": {
        "colab": {
          "base_uri": "https://localhost:8080/",
          "height": 573
        },
        "id": "XR2ZOVwlMmQ7",
        "outputId": "bf972218-e3fa-4435-c311-569ba9be2710"
      },
      "source": [
        "# Датафрейм с количеством покупок каждого покупателя\n",
        "ordersByUsers = orders.\\\n",
        "    drop(['date','revenue','group'], axis=1).\\\n",
        "    groupby('visitorId', as_index=False).\\\n",
        "    agg({'transactionId' : pd.Series.nunique})\n",
        "ordersByUsers.columns = ['userId','orders']\n",
        "\n",
        "# Гистограмма\n",
        "plt.figure(figsize=(6,4))\n",
        "plt.hist(ordersByUsers['orders'], bins=11)\n",
        "plt.title('Гистограмма количества заказов по пользователям')\n",
        "plt.xlabel('Количество покупок')\n",
        "plt.ylabel('Количество покупателей')\n",
        "plt.show()\n",
        "\n",
        "# Точечный график количества заказов по пользователям\n",
        "x_values = pd.Series(range(0,len(ordersByUsers)))\n",
        "\n",
        "plt.figure(figsize=(12,4))\n",
        "plt.scatter(x_values, ordersByUsers['orders'])\n",
        "plt.title('Количество заказов по пользователям')\n",
        "plt.xlabel('Покупатели')\n",
        "plt.ylabel('Количество покупок')\n",
        "plt.show()"
      ],
      "execution_count": 18,
      "outputs": [
        {
          "output_type": "display_data",
          "data": {
            "image/png": "[encoded data removed]",
            "text/plain": [
              "<Figure size 432x288 with 1 Axes>"
            ]
          },
          "metadata": {
            "needs_background": "light"
          }
        },
        {
          "output_type": "display_data",
          "data": {
            "image/png": "[encoded data removed]",
            "text/plain": [
              "<Figure size 864x288 with 1 Axes>"
            ]
          },
          "metadata": {
            "needs_background": "light"
          }
        }
      ]
    },
    {
      "cell_type": "code",
      "metadata": {
        "colab": {
          "base_uri": "https://localhost:8080/",
          "height": 328
        },
        "id": "jRUVaL9HMmQ8",
        "outputId": "9658ccf7-9109-4a78-df09-8dbe44eb70cf"
      },
      "source": [
        "# Количество покупателей, совершающих различное количество покупок\n",
        "ordersByUsers.groupby('orders').count().rename(columns={'userId':'users'})"
      ],
      "execution_count": 19,
      "outputs": [
        {
          "output_type": "execute_result",
          "data": {
            "text/html": [
              "<div>\n",
              "<style scoped>\n",
              "    .dataframe tbody tr th:only-of-type {\n",
              "        vertical-align: middle;\n",
              "    }\n",
              "\n",
              "    .dataframe tbody tr th {\n",
              "        vertical-align: top;\n",
              "    }\n",
              "\n",
              "    .dataframe thead th {\n",
              "        text-align: right;\n",
              "    }\n",
              "</style>\n",
              "<table border=\"1\" class=\"dataframe\">\n",
              "  <thead>\n",
              "    <tr style=\"text-align: right;\">\n",
              "      <th></th>\n",
              "      <th>users</th>\n",
              "    </tr>\n",
              "    <tr>\n",
              "      <th>orders</th>\n",
              "      <th></th>\n",
              "    </tr>\n",
              "  </thead>\n",
              "  <tbody>\n",
              "    <tr>\n",
              "      <th>1</th>\n",
              "      <td>937</td>\n",
              "    </tr>\n",
              "    <tr>\n",
              "      <th>2</th>\n",
              "      <td>64</td>\n",
              "    </tr>\n",
              "    <tr>\n",
              "      <th>3</th>\n",
              "      <td>17</td>\n",
              "    </tr>\n",
              "    <tr>\n",
              "      <th>4</th>\n",
              "      <td>3</td>\n",
              "    </tr>\n",
              "    <tr>\n",
              "      <th>5</th>\n",
              "      <td>6</td>\n",
              "    </tr>\n",
              "    <tr>\n",
              "      <th>8</th>\n",
              "      <td>1</td>\n",
              "    </tr>\n",
              "    <tr>\n",
              "      <th>9</th>\n",
              "      <td>1</td>\n",
              "    </tr>\n",
              "    <tr>\n",
              "      <th>11</th>\n",
              "      <td>2</td>\n",
              "    </tr>\n",
              "  </tbody>\n",
              "</table>\n",
              "</div>"
            ],
            "text/plain": [
              "        users\n",
              "orders       \n",
              "1         937\n",
              "2          64\n",
              "3          17\n",
              "4           3\n",
              "5           6\n",
              "8           1\n",
              "9           1\n",
              "11          2"
            ]
          },
          "metadata": {},
          "execution_count": 19
        }
      ]
    },
    {
      "cell_type": "markdown",
      "metadata": {
        "id": "Kh7AYT-BMmQ9"
      },
      "source": [
        "### Вывод\n",
        "\n",
        "Абсолютное большинство покупателей совершают один заказ. Количество покупателей, совершающих два и более заказа менее 10 % от общего количества покупателей.\n",
        "\n",
        "<a id='section3.7'> <a/>"
      ]
    },
    {
      "cell_type": "markdown",
      "metadata": {
        "id": "B8uK9m3jMmQ-"
      },
      "source": [
        "**3.7 Расчет персентилей количества заказов**"
      ]
    },
    {
      "cell_type": "code",
      "metadata": {
        "colab": {
          "base_uri": "https://localhost:8080/"
        },
        "id": "AVYJqd2WMmQ-",
        "outputId": "82537290-ba0a-49ea-93d0-921ce0eb6132"
      },
      "source": [
        "# Расчет 95 и 99 персентилей количества заказов на покупателя\n",
        "print('95 персентиль количества заказов на покупателя равен {:.1f}'.\\\n",
        "      format(float(np.percentile(ordersByUsers['orders'], [95]))))\n",
        "\n",
        "print('99 персентиль количества заказов на покупателя равен {:.1f}'.\\\n",
        "      format(float(np.percentile(ordersByUsers['orders'], [99]))))"
      ],
      "execution_count": 20,
      "outputs": [
        {
          "output_type": "stream",
          "name": "stdout",
          "text": [
            "95 персентиль количества заказов на покупателя равен 2.0\n",
            "99 персентиль количества заказов на покупателя равен 4.0\n"
          ]
        }
      ]
    },
    {
      "cell_type": "markdown",
      "metadata": {
        "id": "9cLbnkITMmQ_"
      },
      "source": [
        "### Вывод\n",
        "\n",
        "Из проведенного расчета видно, что 95 персентилем количества заказов на покупателя является 2 заказа, 99 персентилем - 4 заказа на одного покупателя.\n",
        "\n",
        "Для анализа данных в этом исследовании выберем границу аномальных заказов на покупателя равную 95 персентилям, т.е. превышающем 2 заказа.\n",
        "\n",
        "<a id='section3.8'> <a/>"
      ]
    },
    {
      "cell_type": "markdown",
      "metadata": {
        "id": "iA_lxlG8MmQ_"
      },
      "source": [
        "**3.8 Точечный график стоимостей заказов**"
      ]
    },
    {
      "cell_type": "code",
      "metadata": {
        "scrolled": false,
        "colab": {
          "base_uri": "https://localhost:8080/",
          "height": 545
        },
        "id": "3NkRZ-IKMmRA",
        "outputId": "70096bb0-8193-4481-eb63-4d5048aa3011"
      },
      "source": [
        "x_values = pd.Series(range(0,len(orders['revenue'])))\n",
        "\n",
        "# Точечный график стоимостей заказов\n",
        "plt.figure(figsize=(12,4))\n",
        "plt.scatter(x_values, orders['revenue'])\n",
        "plt.title('Стоимости заказов')\n",
        "plt.ylabel('Сумма заказа, у.е.')\n",
        "plt.show()\n",
        "\n",
        "# Точечный график стоимостей заказов до 100000\n",
        "plt.figure(figsize=(12,4))\n",
        "plt.scatter(x_values, orders['revenue'])\n",
        "plt.ylim(0,100000)\n",
        "plt.title('Стоимости заказов до 100000')\n",
        "plt.ylabel('Сумма заказа, у.е.')\n",
        "plt.show()"
      ],
      "execution_count": 21,
      "outputs": [
        {
          "output_type": "display_data",
          "data": {
            "image/png": "[encoded data removed]",
            "text/plain": [
              "<Figure size 864x288 with 1 Axes>"
            ]
          },
          "metadata": {
            "needs_background": "light"
          }
        },
        {
          "output_type": "display_data",
          "data": {
            "image/png": "[encoded data removed]",
            "text/plain": [
              "<Figure size 864x288 with 1 Axes>"
            ]
          },
          "metadata": {
            "needs_background": "light"
          }
        }
      ]
    },
    {
      "cell_type": "markdown",
      "metadata": {
        "id": "MCuHuzVqMmRB"
      },
      "source": [
        "### Вывод\n",
        "\n",
        "Большинство стоимостей заказов расположено до 20000. При этом виден заказ на сумму больше миллиона, который значительно влиял на данные группы В.\n",
        "\n",
        "<a id='section3.9'> <a/>"
      ]
    },
    {
      "cell_type": "markdown",
      "metadata": {
        "id": "tLYWHkZoMmRB"
      },
      "source": [
        "**3.9 Расчет перцентилей стоимости заказов**"
      ]
    },
    {
      "cell_type": "code",
      "metadata": {
        "colab": {
          "base_uri": "https://localhost:8080/"
        },
        "id": "gGKD8HI1MmRB",
        "outputId": "914dedc7-dfe1-47e7-c182-cb08adff3e7e"
      },
      "source": [
        "# Расчет 95 и 99 персентилей стоимости заказов\n",
        "\n",
        "print('95 персентиль стоимости заказов равен {:.1f} у.е.'.format(float(np.percentile(orders['revenue'], [95]))))\n",
        "print('99 персентиль стоимости заказов равен {:.1f} у.е.'.format(float(np.percentile(orders['revenue'], [99]))))"
      ],
      "execution_count": 22,
      "outputs": [
        {
          "output_type": "stream",
          "name": "stdout",
          "text": [
            "95 персентиль стоимости заказов равен 28000.0 у.е.\n",
            "99 персентиль стоимости заказов равен 58233.2 у.е.\n"
          ]
        }
      ]
    },
    {
      "cell_type": "markdown",
      "metadata": {
        "id": "dWiyuMd8MmRC"
      },
      "source": [
        "### Вывод\n",
        "\n",
        "Из проведенного расчета видно, что 95 персентилем стоимости заказов является 28000 у.е., 99 персентилем - 58233.2 у.е.\n",
        "\n",
        "Для анализа данных в этом исследовании выберем границу аномальной стоимости заказов равную 95 персентилям, т.е. превышающем 28000 у.е.\n",
        "\n",
        "<a id='section3.10'> <a/>"
      ]
    },
    {
      "cell_type": "markdown",
      "metadata": {
        "id": "o26HaZeEMmRD"
      },
      "source": [
        "**3.10 Статистическая значимость различий в конверсии между группами по «сырым» данным**"
      ]
    },
    {
      "cell_type": "code",
      "metadata": {
        "id": "TGBZoOkCMmRD"
      },
      "source": [
        "# Количество посетителей по группам А/В\n",
        "visitorsADaily = visitors[visitors['group']=='A'][['date', 'visitors']]\n",
        "visitorsADaily.columns = ['date', 'visitorsPerDateA']\n",
        "\n",
        "visitorsBDaily = visitors[visitors['group']=='B'][['date', 'visitors']]\n",
        "visitorsBDaily.columns = ['date', 'visitorsPerDateB']\n",
        "\n",
        "# Накопительное количество посетителей по группам А/В\n",
        "visitorsACummulative = visitorsADaily.\\\n",
        "    apply(lambda x: visitorsADaily[visitorsADaily['date'] <= x['date']].\\\n",
        "    agg({'date' : 'max', 'visitorsPerDateA' : 'sum'}), axis=1)\n",
        "visitorsACummulative.columns = ['date', 'visitorsCummulativeA']\n",
        "\n",
        "visitorsBCummulative = visitorsBDaily.\\\n",
        "    apply(lambda x: visitorsBDaily[visitorsBDaily['date'] <= x['date']].\\\n",
        "    agg({'date' : 'max', 'visitorsPerDateB' : 'sum'}), axis=1)\n",
        "visitorsBCummulative.columns = ['date', 'visitorsCummulativeB']\n",
        "\n",
        "# Количество покупок и выручка по группам А/В\n",
        "ordersADaily = orders[orders['group']=='A'][['date', 'transactionId', 'revenue']]\\\n",
        "    .groupby('date', as_index=False)\\\n",
        "    .agg({'transactionId' : pd.Series.nunique, 'revenue' : 'sum'})\n",
        "ordersADaily.columns = ['date', 'ordersPerDateA', 'revenuePerDateA']\n",
        "\n",
        "ordersBDaily = orders[orders['group']=='B'][['date', 'transactionId', 'revenue']]\\\n",
        "    .groupby('date', as_index=False)\\\n",
        "    .agg({'transactionId' : pd.Series.nunique, 'revenue' : 'sum'})\n",
        "ordersBDaily.columns = ['date', 'ordersPerDateB', 'revenuePerDateB']\n",
        "\n",
        "# Накопительное количество покупок и накопительная выручка группам А/В\n",
        "ordersACummulative = ordersADaily.\\\n",
        "    apply(lambda x:ordersADaily[ordersADaily['date'] <= x['date']].\\\n",
        "    agg({'date' : 'max',\n",
        "         'ordersPerDateA' : 'sum',\n",
        "         'revenuePerDateA' : 'sum'}), axis=1).\\\n",
        "    sort_values(by=['date'])\n",
        "ordersACummulative.columns = ['date', 'ordersCummulativeA', 'revenueCummulativeA']\n",
        "\n",
        "ordersBCummulative = ordersBDaily.\\\n",
        "    apply(lambda x:ordersBDaily[ordersBDaily['date'] <= x['date']].\\\n",
        "    agg({'date' : 'max',\n",
        "         'ordersPerDateB' : 'sum',\n",
        "         'revenuePerDateB' : 'sum'}), axis=1).\\\n",
        "    sort_values(by=['date'])\n",
        "ordersBCummulative.columns = ['date', 'ordersCummulativeB', 'revenueCummulativeB']\n",
        "\n",
        "# Объединение созданных датафреймов в один\n",
        "raw_data = ordersADaily.merge(ordersBDaily, left_on='date', right_on='date', how='left')\\\n",
        "    .merge(visitorsADaily, left_on='date', right_on='date', how='left')\\\n",
        "    .merge(visitorsBDaily, left_on='date', right_on='date', how='left')\\\n",
        "    .merge(ordersACummulative, left_on='date', right_on='date', how='left')\\\n",
        "    .merge(ordersBCummulative, left_on='date', right_on='date', how='left')\\\n",
        "    .merge(visitorsACummulative, left_on='date', right_on='date', how='left')\\\n",
        "    .merge(visitorsBCummulative, left_on='date', right_on='date', how='left')"
      ],
      "execution_count": 23,
      "outputs": []
    },
    {
      "cell_type": "code",
      "metadata": {
        "id": "8VasGEkyMmRE"
      },
      "source": [
        "# Переменные ordersByUsersA и ordersByUsersB\n",
        "# Для каждого покупателя указано число совершённых заказов\n",
        "ordersByUsersA = orders[orders['group']=='A'].groupby('visitorId', as_index=False).agg({'transactionId' : pd.Series.nunique})\n",
        "ordersByUsersA.columns = ['visitorId', 'orders']\n",
        "\n",
        "ordersByUsersB = orders[orders['group']=='B'].groupby('visitorId', as_index=False).agg({'transactionId' : pd.Series.nunique})\n",
        "ordersByUsersB.columns = ['visitorId', 'orders']\n",
        "\n",
        "# Переменные sampleA и sampleB, в которых пользователям из разных групп будет соответствовать количество заказов\n",
        "sampleA = pd.concat([ordersByUsersA['orders'],\\\n",
        "          pd.Series(0, index=np.arange(raw_data['visitorsPerDateA'].sum() - len(ordersByUsersA['orders'])),\\\n",
        "                    name='orders')], axis=0)\n",
        "\n",
        "sampleB = pd.concat([ordersByUsersB['orders'],\\\n",
        "          pd.Series(0, index=np.arange(raw_data['visitorsPerDateB'].sum() - len(ordersByUsersB['orders'])),\\\n",
        "                    name='orders')],axis=0)"
      ],
      "execution_count": 24,
      "outputs": []
    },
    {
      "cell_type": "markdown",
      "metadata": {
        "id": "21N5y3qCMmRF"
      },
      "source": [
        "Нулевая гипотеза - Статистически значимых различий в конверсии между группами нет.  \n",
        "Альтернативная гипотеза - Статистически значимые различия в конверсии между группами есть.  "
      ]
    },
    {
      "cell_type": "code",
      "metadata": {
        "colab": {
          "base_uri": "https://localhost:8080/"
        },
        "id": "M6hOOrBuMmRF",
        "outputId": "3814ecc1-d912-4b54-dcc6-72e9e3c673ce"
      },
      "source": [
        "# Значение alpha стандартное - 5%\n",
        "alpha = 0.05   \n",
        "\n",
        "# Применение U-критерия Манна-Уитни\n",
        "pvalue = stats.mannwhitneyu(sampleA, sampleB)[1]\n",
        "\n",
        "print('p-значение: {:.3f}'.format(pvalue))\n",
        "\n",
        "if (pvalue < alpha):\n",
        "    print('Отвергаем нулевую гипотезу, статистически значимые различия в конверсии между группами есть.')\n",
        "else:\n",
        "    print('Не получилось отвергнуть нулевую гипотезу, статистически значимых различий в конверсии между группами нет.')\n",
        "\n",
        "# Растчет относительного прироста конверсии группы B\n",
        "print('Относительный прирост конверсии группы B к конверсии группы А составляет {0:.2%}'.\\\n",
        "      format(sampleB.mean()/sampleA.mean()-1))"
      ],
      "execution_count": 25,
      "outputs": [
        {
          "output_type": "stream",
          "name": "stdout",
          "text": [
            "p-значение: 0.008\n",
            "Отвергаем нулевую гипотезу, статистически значимые различия в конверсии между группами есть.\n",
            "Относительный прирост конверсии группы B к конверсии группы А составляет 13.81%\n"
          ]
        }
      ]
    },
    {
      "cell_type": "markdown",
      "metadata": {
        "id": "AOqWJ7m7MmRG"
      },
      "source": [
        "### Вывод\n",
        "\n",
        "По результатам применения U-критерия Манна-Уитни отвергаем нулевую гипотезу об отсутствии статистически значимых различий в конверсии между группами.  \n",
        "По необработанным данным группа В лучше. Конверсия группы В на 13.81% лучше, чем конверсия группы А.\n",
        "\n",
        "\n",
        "<a id='section3.11'> <a/>"
      ]
    },
    {
      "cell_type": "markdown",
      "metadata": {
        "id": "fUiPvX4hMmRH"
      },
      "source": [
        "**3.11 Статистическая значимость различий в среднем чеке заказа между группами по «сырым» данным**"
      ]
    },
    {
      "cell_type": "markdown",
      "metadata": {
        "id": "aI0c_nTbMmRH"
      },
      "source": [
        "Нулевая гипотеза - Статистически значимых различий в среднем чеке заказа между группами нет.  \n",
        "Альтернативная гипотеза - Статистически значимые различия в среднем чеке заказа между группами есть.  "
      ]
    },
    {
      "cell_type": "code",
      "metadata": {
        "colab": {
          "base_uri": "https://localhost:8080/"
        },
        "id": "i89yvGvAMmRH",
        "outputId": "27d8e78f-5a4e-4a44-a129-c9db7528c20e"
      },
      "source": [
        "# Значение alpha стандартное - 5%\n",
        "alpha = 0.05   \n",
        "\n",
        "# Применение U-критерия Манна-Уитни\n",
        "pvalue = stats.mannwhitneyu(orders[orders['group']=='A']['revenue'], orders[orders['group']=='B']['revenue'])[1]\n",
        "\n",
        "print('p-значение: {:.3f}'.format(pvalue))\n",
        "\n",
        "if (pvalue < alpha):\n",
        "    print('Отвергаем нулевую гипотезу, статистически значимые различия в среднем чеке заказа между группами есть.')\n",
        "else:\n",
        "    print('Не получилось отвергнуть нулевую гипотезу, статистически значимых различий в среднем чеке заказа между группами нет.')\n",
        "\n",
        "# Растчет относительного прироста конверсии группы B\n",
        "print('Относительный прирост среднего чека заказа группы B к среднему чеку заказа группы А составляет {0:.2%}'.\\\n",
        "      format(orders[orders['group']=='B']['revenue'].mean()/orders[orders['group']=='A']['revenue'].mean()-1))"
      ],
      "execution_count": 26,
      "outputs": [
        {
          "output_type": "stream",
          "name": "stdout",
          "text": [
            "p-значение: 0.365\n",
            "Не получилось отвергнуть нулевую гипотезу, статистически значимых различий в среднем чеке заказа между группами нет.\n",
            "Относительный прирост среднего чека заказа группы B к среднему чеку заказа группы А составляет 25.87%\n"
          ]
        }
      ]
    },
    {
      "cell_type": "markdown",
      "metadata": {
        "id": "l0yVHElsMmRI"
      },
      "source": [
        "### Вывод\n",
        "\n",
        "По результатам применения U-критерия Манна-Уитни нулевую гипотезу не отвергаем.  \n",
        "Статистически значимых различий в среднем чеке заказа между группами нет, но при этом по необработанным данным группа В лучше. Средний чек заказа группы B на 25.87% больше среднего чека заказа группы А.  \n",
        "Данное расхождение говорит о необходимости проверки на очищеных от аномальных значений данных.\n",
        "\n",
        "<a id='section3.12'> <a/>"
      ]
    },
    {
      "cell_type": "markdown",
      "metadata": {
        "id": "eY5wtk2sMmRJ"
      },
      "source": [
        "**3.12 Статистическая значимость различий в конверсии между группами по «очищенным» данным**"
      ]
    },
    {
      "cell_type": "code",
      "metadata": {
        "id": "hN4z0xzJMmRJ"
      },
      "source": [
        "# Переменные для отсечения выбросов\n",
        "percentile_95_orders = float(np.percentile(ordersByUsers['orders'], [95]))\n",
        "percentile_95_revenue= float(np.percentile(orders['revenue'], [95]))\n",
        "\n",
        "# Пользователи с количеством покупок большим, чем у 95% покупателей\n",
        "usersWithManyOrders = pd.concat([ordersByUsersA[ordersByUsersA['orders'] > percentile_95_orders]['visitorId'],\\\n",
        "                                 ordersByUsersB[ordersByUsersB['orders'] > percentile_95_orders]['visitorId']], axis = 0)\n",
        "\n",
        "# Пользователи с суммой покупки большей, чем у 95% покупателей\n",
        "usersWithExpensiveOrders = orders[orders['revenue'] > percentile_95_revenue]['visitorId']\n",
        "\n",
        "# Список с visitorId аномальных пользователей\n",
        "anomalUsers = pd.concat([usersWithManyOrders, usersWithExpensiveOrders], axis = 0).drop_duplicates().sort_values()"
      ],
      "execution_count": 27,
      "outputs": []
    },
    {
      "cell_type": "code",
      "metadata": {
        "id": "vqDWAj1lMmRJ"
      },
      "source": [
        "# Очищенные от аномальных значений выборки количества заказов по пользователям\n",
        "sampleAFiltered = pd.concat([ordersByUsersA[np.logical_not(ordersByUsersA['visitorId'].isin(anomalUsers))]['orders'],\\\n",
        "                             pd.Series(0, index=np.arange(raw_data['visitorsPerDateA'].sum() - len(ordersByUsersA['orders'])),\\\n",
        "                            name='orders')],axis=0)\n",
        "\n",
        "sampleBFiltered = pd.concat([ordersByUsersB[np.logical_not(ordersByUsersB['visitorId'].isin(anomalUsers))]['orders'],\\\n",
        "                             pd.Series(0, index=np.arange(raw_data['visitorsPerDateB'].sum() - len(ordersByUsersB['orders'])),\\\n",
        "                            name='orders')],axis=0)"
      ],
      "execution_count": 28,
      "outputs": []
    },
    {
      "cell_type": "markdown",
      "metadata": {
        "id": "j1hynIClMmRK"
      },
      "source": [
        "Нулевая гипотеза - Статистически значимых различий в конверсии между группами по очищенным данным нет.  \n",
        "Альтернативная гипотеза - Статистически значимые различия в конверсии между группами по очищенным данным есть.  "
      ]
    },
    {
      "cell_type": "code",
      "metadata": {
        "colab": {
          "base_uri": "https://localhost:8080/"
        },
        "id": "QnWGHBXwMmRK",
        "outputId": "0cce8565-00d7-4ded-a22c-1b363bb1dada"
      },
      "source": [
        "# Значение alpha стандартное - 5%\n",
        "alpha = 0.05   \n",
        "\n",
        "# Применение U-критерия Манна-Уитни\n",
        "pvalue = stats.mannwhitneyu(sampleAFiltered, sampleBFiltered)[1]\n",
        "\n",
        "print('p-значение: {:.3f}'.format(pvalue))\n",
        "\n",
        "if (pvalue < alpha):\n",
        "    print('Отвергаем нулевую гипотезу, статистически значимые различия в конверсии между группами по очищенным данным есть.')\n",
        "else:\n",
        "    print('Не получилось отвергнуть нулевую гипотезу, статистически значимых различий в конверсии между группами по очищенным данным нет.')\n",
        "\n",
        "# Растчет относительного прироста конверсии группы B\n",
        "print('Относительный прирост конверсии группы B к конверсии группы А составляет {0:.2%}'.\\\n",
        "      format(sampleBFiltered.mean()/sampleAFiltered.mean()-1))"
      ],
      "execution_count": 29,
      "outputs": [
        {
          "output_type": "stream",
          "name": "stdout",
          "text": [
            "p-значение: 0.007\n",
            "Отвергаем нулевую гипотезу, статистически значимые различия в конверсии между группами по очищенным данным есть.\n",
            "Относительный прирост конверсии группы B к конверсии группы А составляет 17.27%\n"
          ]
        }
      ]
    },
    {
      "cell_type": "markdown",
      "metadata": {
        "id": "z-2i1xTrMmRL"
      },
      "source": [
        "### Вывод\n",
        "\n",
        "По результатам применения U-критерия Манна-Уитни отвергаем нулевую гипотезу об отсутствии статистически значимых различий в конверсии между группами по очищенным данным.\n",
        "\n",
        "По обработанным данным группа В лучше. Конверсия группы В на 17.27% выше, чем конверсия группы А. При этом по очищенным данным результаты группы В превосходят результаты группы В по сырым данным.\n",
        "\n",
        "\n",
        "<a id='section3.13'> <a/>"
      ]
    },
    {
      "cell_type": "markdown",
      "metadata": {
        "id": "nA5jARItMmRL"
      },
      "source": [
        "**3.13 Статистическая значимость различий в среднем чеке заказа между группами по «очищенным» данным**"
      ]
    },
    {
      "cell_type": "markdown",
      "metadata": {
        "id": "dg8o2SmlMmRL"
      },
      "source": [
        "Нулевая гипотеза - Статистически значимых различий в среднем чеке заказа между группами по очищенным данным нет.  \n",
        "Альтернативная гипотеза - Статистически значимые различия в среднем чеке заказа между группами по очищенным данным есть."
      ]
    },
    {
      "cell_type": "code",
      "metadata": {
        "colab": {
          "base_uri": "https://localhost:8080/"
        },
        "id": "e9M4PAQOMmRM",
        "outputId": "2a2968b4-4c88-4ef8-c5af-f00b3024f548"
      },
      "source": [
        "# Значение alpha стандартное - 5%\n",
        "alpha = 0.05   \n",
        "\n",
        "# Применение U-критерия Манна-Уитни\n",
        "pvalue = stats.mannwhitneyu(\\\n",
        "                orders[np.logical_and(orders['group']=='A',\n",
        "                    np.logical_not(orders['visitorId'].isin(anomalUsers)))]['revenue'],\n",
        "                orders[np.logical_and(orders['group']=='B',\n",
        "                    np.logical_not(orders['visitorId'].isin(anomalUsers)))]['revenue'])[1]\n",
        "\n",
        "print('p-значение: {:.3f}'.format(pvalue))\n",
        "\n",
        "if (pvalue < alpha):\n",
        "    print('Отвергаем нулевую гипотезу, статистически значимые различия в среднем чеке заказа между группами есть.')\n",
        "else:\n",
        "    print('Не получилось отвергнуть нулевую гипотезу, статистически значимых различий в среднем чеке заказа между группами нет.')\n",
        "\n",
        "# Растчет относительного прироста конверсии группы B\n",
        "print('Относительный прирост среднего чека заказа группы B к среднему чеку заказа группы А составляет {0:.2%}'.\\\n",
        "      format(orders[np.logical_and(orders['group']=='B',\n",
        "                 np.logical_not(orders['visitorId'].isin(anomalUsers)))]['revenue'].mean()/\n",
        "             orders[np.logical_and(orders['group']=='A',\n",
        "                 np.logical_not(orders['visitorId'].isin(anomalUsers)))]['revenue'].mean() - 1))"
      ],
      "execution_count": 30,
      "outputs": [
        {
          "output_type": "stream",
          "name": "stdout",
          "text": [
            "p-значение: 0.369\n",
            "Не получилось отвергнуть нулевую гипотезу, статистически значимых различий в среднем чеке заказа между группами нет.\n",
            "Относительный прирост среднего чека заказа группы B к среднему чеку заказа группы А составляет -1.96%\n"
          ]
        }
      ]
    },
    {
      "cell_type": "markdown",
      "metadata": {
        "id": "NBGhxITfMmRM"
      },
      "source": [
        "### Вывод\n",
        "\n",
        "По результатам применения U-критерия Манна-Уитни нулевую гипотезу не отвергаем. Статистически значимых различий в среднем чеке заказа между группами по очищенным данным нет.  \n",
        "По очищенным данным средний чек заказа группы B на 1.96% меньше среднего чека заказа группы А.\n",
        "\n",
        "<a id='section3.14'> <a/>"
      ]
    },
    {
      "cell_type": "markdown",
      "metadata": {
        "id": "NrhUlHwzMmRN"
      },
      "source": [
        "**3.14 Решение по результатам теста**"
      ]
    },
    {
      "cell_type": "markdown",
      "metadata": {
        "id": "6tVWOTP7MmRN"
      },
      "source": [
        "**Решение по результатам теста - Остановить тест, зафиксировать победу группы В.**  \n",
        "\n",
        "Несмотря на то, что по очищенным данным средний чек заказа группы B на 2% меньше среднего чека заказа группы А (что может являться статистической погрешностью) конверсия группы B на 17% превышает конверсию группы А.\n",
        "\n",
        "<a id='section4'> <a/>"
      ]
    },
    {
      "cell_type": "markdown",
      "metadata": {
        "id": "tgHulRiDMmRO"
      },
      "source": [
        "# 4. Общий вывод"
      ]
    },
    {
      "cell_type": "markdown",
      "metadata": {
        "id": "3D46DoUeMmRO"
      },
      "source": [
        "В данном исследовании была проведена приоритезация гипотез и проведен анализ А/В теста.  \n",
        "\n",
        "Приоритезация гипотез была проведена методами приоритезации ICE и RICE. Наиболее перспертивной по методу RICE гипотезой является \"Добавить форму подписки на все основные страницы, чтобы собрать базу клиентов для email-рассылок\".\n",
        "\n",
        "По неочищенным данным в конверсии пользователей и в размере среднего чека заказа лидировала группа В. При этом в неочищенных данных наблюдались аномальные значения.  \n",
        "По необработанным данным относительный прирост конверсии группы B к конверсии группы А составлял 14%, относительный прирост среднего чека заказа группы B к среднему чеку заказа группы А составлял 26%.\n",
        "\n",
        "Для очищения данных от аномальных значений были выбраны:\n",
        "- 95 персентиль количества заказов на одного покупателя (2 заказа);\n",
        "- 95 персентиль стоимости заказа (28000 у.е.)\n",
        "\n",
        "По обработанным данным конверсия группы В на 17.27% выше, чем конверсия группы А. Относительный прирост среднего чека заказа группы B к среднему чеку заказа группы А составляет -1.96%.\n",
        "\n",
        "**Решение по результатам теста - Остановить тест, зафиксировать победу группы В.**\n",
        "\n",
        "Несмотря на то, что по очищенным данным средний чек заказа группы B на 2% меньше среднего чека заказа группы А (что может являться статистической погрешностью), конверсия группы B на 17% превышает конверсию группы А, что является существенным приростом."
      ]
    },
    {
      "cell_type": "code",
      "metadata": {
        "id": "nvlJ6RXcMmRP"
      },
      "source": [
        ""
      ],
      "execution_count": 30,
      "outputs": []
    }
  ]
}