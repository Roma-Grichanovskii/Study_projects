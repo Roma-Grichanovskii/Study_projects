{
  "nbformat": 4,
  "nbformat_minor": 0,
  "metadata": {
    "kernelspec": {
      "display_name": "Python 3",
      "language": "python",
      "name": "python3"
    },
    "language_info": {
      "codemirror_mode": {
        "name": "ipython",
        "version": 3
      },
      "file_extension": ".py",
      "mimetype": "text/x-python",
      "name": "python",
      "nbconvert_exporter": "python",
      "pygments_lexer": "ipython3",
      "version": "3.7.6"
    },
    "colab": {
      "name": "9. Сборный проект 2 Исследование поведения пользователей мобильного приложения.ipynb",
      "provenance": [],
      "collapsed_sections": []
    }
  },
  "cells": [
    {
      "cell_type": "markdown",
      "metadata": {
        "id": "TSeBLJmEfJAr"
      },
      "source": [
        "# Исследование поведения пользователей мобильного приложения\n",
        "\n",
        "### Описание проекта"
      ]
    },
    {
      "cell_type": "markdown",
      "metadata": {
        "id": "lpjFlMTcfJAt"
      },
      "source": [
        "В данном проекте будет исследовано поведение пользователей мобильного приложения интернет-магазина. Мы изучим воронку прожад, а также исследуем результаты A/A/B-эксперимента (у эксперементальной группы изменены шрифты в приложении). \n",
        "\n",
        "Задание: изучить воронку продаж; исследовать результаты A/A/B-эксперимента."
      ]
    },
    {
      "cell_type": "markdown",
      "metadata": {
        "id": "71hJ_qKsfJAv"
      },
      "source": [
        "### Оглавление"
      ]
    },
    {
      "cell_type": "markdown",
      "metadata": {
        "id": "7OUGH2hwfJAx"
      },
      "source": [
        "[1. Подготовка к анализу данных](#section1)  \n",
        "[1.1 Загрузка датасета](#section1_1)  \n",
        "[1.2 Предобработка данных. Проверка на пропуски и дубликаты, изменение типов данных](#section1_2)  \n",
        "[2. Проверка поступивших данных](#section2)  \n",
        "[2.1 Количество событий](#section2_1)  \n",
        "[2.2 Количество уникальных пользователей](#section2_2)  \n",
        "[2.3 Среднее количество событий на пользователя](#section2_3)  \n",
        "[2.4 Изучение временного периода получения данных](#section2_4)  \n",
        "[2.5 Исследование отброшенных данных](#section2_5)  \n",
        "[2.6 Проверка количества пользователей эксперементальных групп](#section2_6)  \n",
        "[3. Воронка событий](#section3)  \n",
        "[3.1 Сгрупированная таблица с количеством пользователей, количеством событий и долей пользователей от общего количества](#section3_1)  \n",
        "[3.2 Воронка событий](#section3_2)  \n",
        "[4. Проверка на равенство долей](#section4)  \n",
        "[4.1 Количество пользователей в эксперементальных группах. Добавление новых колонок к data_grouped](#section4_1)  \n",
        "[4.2 Проверка гипотезы о равенстве долей](#section4_2)  \n",
        "[Общий вывод](#section5)  \n",
        "\n",
        "\n",
        "<a id='section1'> <a/>"
      ]
    },
    {
      "cell_type": "markdown",
      "metadata": {
        "id": "qf-jc0e9fJA3"
      },
      "source": [
        "## 1. Подготовка к анализу данных"
      ]
    },
    {
      "cell_type": "code",
      "metadata": {
        "id": "ZcCDU5NrfJA4"
      },
      "source": [
        "import pandas as pd\n",
        "import numpy as np\n",
        "import matplotlib.pyplot as plt\n",
        "import scipy.stats as st\n",
        "import math as mth\n",
        "from plotly import graph_objects as go"
      ],
      "execution_count": 1,
      "outputs": []
    },
    {
      "cell_type": "code",
      "metadata": {
        "colab": {
          "base_uri": "https://localhost:8080/"
        },
        "id": "cYhQCZoDfNAu",
        "outputId": "54c7fc25-38ea-404a-f2e0-7c95efe16f99"
      },
      "source": [
        "from google.colab import drive\n",
        "drive.mount('/content/drive')"
      ],
      "execution_count": 2,
      "outputs": [
        {
          "output_type": "stream",
          "name": "stdout",
          "text": [
            "Drive already mounted at /content/drive; to attempt to forcibly remount, call drive.mount(\"/content/drive\", force_remount=True).\n"
          ]
        }
      ]
    },
    {
      "cell_type": "markdown",
      "metadata": {
        "id": "u01RE2cGfJA8"
      },
      "source": [
        "<a id='section1_1'> <a/>"
      ]
    },
    {
      "cell_type": "markdown",
      "metadata": {
        "id": "-t-LgajSfJA9"
      },
      "source": [
        "1.1 Загрузка датасета"
      ]
    },
    {
      "cell_type": "code",
      "metadata": {
        "scrolled": true,
        "colab": {
          "base_uri": "https://localhost:8080/",
          "height": 391
        },
        "id": "oduUwZx1fJA-",
        "outputId": "1695ee06-6bd2-4b22-be2c-923b3618eba9"
      },
      "source": [
        "# Путь к папке с датасетом\n",
        "path = '/content/drive/My Drive/yandex.practicum projects/datasets/9. Test project 2/'\n",
        "\n",
        "# Создание датафрейма, общая информация\n",
        "data_logs = pd.read_csv(path + 'logs_exp.csv', sep='\\t')\n",
        "display(data_logs.head())\n",
        "data_logs.info()"
      ],
      "execution_count": 3,
      "outputs": [
        {
          "output_type": "display_data",
          "data": {
            "text/html": [
              "<div>\n",
              "<style scoped>\n",
              "    .dataframe tbody tr th:only-of-type {\n",
              "        vertical-align: middle;\n",
              "    }\n",
              "\n",
              "    .dataframe tbody tr th {\n",
              "        vertical-align: top;\n",
              "    }\n",
              "\n",
              "    .dataframe thead th {\n",
              "        text-align: right;\n",
              "    }\n",
              "</style>\n",
              "<table border=\"1\" class=\"dataframe\">\n",
              "  <thead>\n",
              "    <tr style=\"text-align: right;\">\n",
              "      <th></th>\n",
              "      <th>EventName</th>\n",
              "      <th>DeviceIDHash</th>\n",
              "      <th>EventTimestamp</th>\n",
              "      <th>ExpId</th>\n",
              "    </tr>\n",
              "  </thead>\n",
              "  <tbody>\n",
              "    <tr>\n",
              "      <th>0</th>\n",
              "      <td>MainScreenAppear</td>\n",
              "      <td>4575588528974610257</td>\n",
              "      <td>1564029816</td>\n",
              "      <td>246</td>\n",
              "    </tr>\n",
              "    <tr>\n",
              "      <th>1</th>\n",
              "      <td>MainScreenAppear</td>\n",
              "      <td>7416695313311560658</td>\n",
              "      <td>1564053102</td>\n",
              "      <td>246</td>\n",
              "    </tr>\n",
              "    <tr>\n",
              "      <th>2</th>\n",
              "      <td>PaymentScreenSuccessful</td>\n",
              "      <td>3518123091307005509</td>\n",
              "      <td>1564054127</td>\n",
              "      <td>248</td>\n",
              "    </tr>\n",
              "    <tr>\n",
              "      <th>3</th>\n",
              "      <td>CartScreenAppear</td>\n",
              "      <td>3518123091307005509</td>\n",
              "      <td>1564054127</td>\n",
              "      <td>248</td>\n",
              "    </tr>\n",
              "    <tr>\n",
              "      <th>4</th>\n",
              "      <td>PaymentScreenSuccessful</td>\n",
              "      <td>6217807653094995999</td>\n",
              "      <td>1564055322</td>\n",
              "      <td>248</td>\n",
              "    </tr>\n",
              "  </tbody>\n",
              "</table>\n",
              "</div>"
            ],
            "text/plain": [
              "                 EventName         DeviceIDHash  EventTimestamp  ExpId\n",
              "0         MainScreenAppear  4575588528974610257      1564029816    246\n",
              "1         MainScreenAppear  7416695313311560658      1564053102    246\n",
              "2  PaymentScreenSuccessful  3518123091307005509      1564054127    248\n",
              "3         CartScreenAppear  3518123091307005509      1564054127    248\n",
              "4  PaymentScreenSuccessful  6217807653094995999      1564055322    248"
            ]
          },
          "metadata": {}
        },
        {
          "output_type": "stream",
          "name": "stdout",
          "text": [
            "<class 'pandas.core.frame.DataFrame'>\n",
            "RangeIndex: 244126 entries, 0 to 244125\n",
            "Data columns (total 4 columns):\n",
            " #   Column          Non-Null Count   Dtype \n",
            "---  ------          --------------   ----- \n",
            " 0   EventName       244126 non-null  object\n",
            " 1   DeviceIDHash    244126 non-null  int64 \n",
            " 2   EventTimestamp  244126 non-null  int64 \n",
            " 3   ExpId           244126 non-null  int64 \n",
            "dtypes: int64(3), object(1)\n",
            "memory usage: 7.5+ MB\n"
          ]
        }
      ]
    },
    {
      "cell_type": "code",
      "metadata": {
        "id": "lfbMUxoBfJBB"
      },
      "source": [
        "data_logs.columns = ['event_name', 'id', 'event_time_unix', 'exp_id']"
      ],
      "execution_count": 4,
      "outputs": []
    },
    {
      "cell_type": "markdown",
      "metadata": {
        "id": "LSfZmFs2fJBC"
      },
      "source": [
        "event_name — название события  \n",
        "id — уникальный идентификатор пользователя  \n",
        "event_time_unix — время события в формате unix time  \n",
        "exp_id — номер эксперимента: 246 и 247 — контрольные группы, а 248 — экспериментальная  \n",
        "<a id='section1_2'> <a/>"
      ]
    },
    {
      "cell_type": "markdown",
      "metadata": {
        "id": "WyWfX1jGfJBC"
      },
      "source": [
        "1.2 Предобработка данных. Проверка на пропуски и дубликаты, изменение типов данных."
      ]
    },
    {
      "cell_type": "code",
      "metadata": {
        "id": "tbyXooX5fJBD"
      },
      "source": [
        "# Добавление столбца с датой и временем\n",
        "data_logs['event_time'] = pd.to_datetime(data_logs['event_time_unix'], unit = 's')\n",
        "\n",
        "# Добавление столбца с датой\n",
        "data_logs['event_date'] = data_logs['event_time'].astype('datetime64[D]')"
      ],
      "execution_count": 5,
      "outputs": []
    },
    {
      "cell_type": "code",
      "metadata": {
        "colab": {
          "base_uri": "https://localhost:8080/"
        },
        "id": "iopS2FpdfJBI",
        "outputId": "f0afabf4-ec94-40b7-b72b-b40f46589b77"
      },
      "source": [
        "# Количество дубликатов\n",
        "data_logs.duplicated().sum()"
      ],
      "execution_count": 6,
      "outputs": [
        {
          "output_type": "execute_result",
          "data": {
            "text/plain": [
              "413"
            ]
          },
          "metadata": {},
          "execution_count": 6
        }
      ]
    },
    {
      "cell_type": "code",
      "metadata": {
        "colab": {
          "base_uri": "https://localhost:8080/"
        },
        "id": "ivh6eRyGfJBJ",
        "outputId": "1629a96f-4abe-495b-c592-d9f7a9f0134a"
      },
      "source": [
        "# id с наибольши количеством дубликатов\n",
        "data_logs[data_logs.duplicated() == True].groupby('id')['event_name'].count().sort_values(ascending=False)[:10]"
      ],
      "execution_count": 7,
      "outputs": [
        {
          "output_type": "execute_result",
          "data": {
            "text/plain": [
              "id\n",
              "3610536745613892312    41\n",
              "3473691793382022823    23\n",
              "4980045449118619005    11\n",
              "6932517045703054087     9\n",
              "6394616444764198947     7\n",
              "636437379427729086      7\n",
              "5767286434014984014     6\n",
              "197027893265565660      5\n",
              "3755777888701401447     5\n",
              "7738058666231999878     5\n",
              "Name: event_name, dtype: int64"
            ]
          },
          "metadata": {},
          "execution_count": 7
        }
      ]
    },
    {
      "cell_type": "markdown",
      "metadata": {
        "id": "jT5g0BrEfJBK"
      },
      "source": [
        "Посмотрим на дубликаты событий по id с наибольшим количеством дубликатов"
      ]
    },
    {
      "cell_type": "code",
      "metadata": {
        "scrolled": true,
        "colab": {
          "base_uri": "https://localhost:8080/",
          "height": 1000
        },
        "id": "EU3fQQ02fJBN",
        "outputId": "f1a64095-e19e-4311-d30d-48fe4578cd0c"
      },
      "source": [
        "display(data_logs[(data_logs['id'] == 3610536745613892312) & (data_logs.duplicated() == True)])\n",
        "\n",
        "display(data_logs[(data_logs['id'] == 3473691793382022823) & (data_logs.duplicated() == True)])\n",
        "\n",
        "display(data_logs[(data_logs['id'] == 4980045449118619005) & (data_logs.duplicated() == True)])"
      ],
      "execution_count": 8,
      "outputs": [
        {
          "output_type": "display_data",
          "data": {
            "text/html": [
              "<div>\n",
              "<style scoped>\n",
              "    .dataframe tbody tr th:only-of-type {\n",
              "        vertical-align: middle;\n",
              "    }\n",
              "\n",
              "    .dataframe tbody tr th {\n",
              "        vertical-align: top;\n",
              "    }\n",
              "\n",
              "    .dataframe thead th {\n",
              "        text-align: right;\n",
              "    }\n",
              "</style>\n",
              "<table border=\"1\" class=\"dataframe\">\n",
              "  <thead>\n",
              "    <tr style=\"text-align: right;\">\n",
              "      <th></th>\n",
              "      <th>event_name</th>\n",
              "      <th>id</th>\n",
              "      <th>event_time_unix</th>\n",
              "      <th>exp_id</th>\n",
              "      <th>event_time</th>\n",
              "      <th>event_date</th>\n",
              "    </tr>\n",
              "  </thead>\n",
              "  <tbody>\n",
              "    <tr>\n",
              "      <th>76243</th>\n",
              "      <td>PaymentScreenSuccessful</td>\n",
              "      <td>3610536745613892312</td>\n",
              "      <td>1564807190</td>\n",
              "      <td>248</td>\n",
              "      <td>2019-08-03 04:39:50</td>\n",
              "      <td>2019-08-03</td>\n",
              "    </tr>\n",
              "    <tr>\n",
              "      <th>76245</th>\n",
              "      <td>PaymentScreenSuccessful</td>\n",
              "      <td>3610536745613892312</td>\n",
              "      <td>1564807191</td>\n",
              "      <td>248</td>\n",
              "      <td>2019-08-03 04:39:51</td>\n",
              "      <td>2019-08-03</td>\n",
              "    </tr>\n",
              "    <tr>\n",
              "      <th>76250</th>\n",
              "      <td>PaymentScreenSuccessful</td>\n",
              "      <td>3610536745613892312</td>\n",
              "      <td>1564807194</td>\n",
              "      <td>248</td>\n",
              "      <td>2019-08-03 04:39:54</td>\n",
              "      <td>2019-08-03</td>\n",
              "    </tr>\n",
              "    <tr>\n",
              "      <th>76252</th>\n",
              "      <td>PaymentScreenSuccessful</td>\n",
              "      <td>3610536745613892312</td>\n",
              "      <td>1564807195</td>\n",
              "      <td>248</td>\n",
              "      <td>2019-08-03 04:39:55</td>\n",
              "      <td>2019-08-03</td>\n",
              "    </tr>\n",
              "    <tr>\n",
              "      <th>76256</th>\n",
              "      <td>PaymentScreenSuccessful</td>\n",
              "      <td>3610536745613892312</td>\n",
              "      <td>1564807197</td>\n",
              "      <td>248</td>\n",
              "      <td>2019-08-03 04:39:57</td>\n",
              "      <td>2019-08-03</td>\n",
              "    </tr>\n",
              "    <tr>\n",
              "      <th>76260</th>\n",
              "      <td>PaymentScreenSuccessful</td>\n",
              "      <td>3610536745613892312</td>\n",
              "      <td>1564807200</td>\n",
              "      <td>248</td>\n",
              "      <td>2019-08-03 04:40:00</td>\n",
              "      <td>2019-08-03</td>\n",
              "    </tr>\n",
              "    <tr>\n",
              "      <th>76264</th>\n",
              "      <td>PaymentScreenSuccessful</td>\n",
              "      <td>3610536745613892312</td>\n",
              "      <td>1564807202</td>\n",
              "      <td>248</td>\n",
              "      <td>2019-08-03 04:40:02</td>\n",
              "      <td>2019-08-03</td>\n",
              "    </tr>\n",
              "    <tr>\n",
              "      <th>83762</th>\n",
              "      <td>PaymentScreenSuccessful</td>\n",
              "      <td>3610536745613892312</td>\n",
              "      <td>1564824827</td>\n",
              "      <td>248</td>\n",
              "      <td>2019-08-03 09:33:47</td>\n",
              "      <td>2019-08-03</td>\n",
              "    </tr>\n",
              "    <tr>\n",
              "      <th>83780</th>\n",
              "      <td>PaymentScreenSuccessful</td>\n",
              "      <td>3610536745613892312</td>\n",
              "      <td>1564824841</td>\n",
              "      <td>248</td>\n",
              "      <td>2019-08-03 09:34:01</td>\n",
              "      <td>2019-08-03</td>\n",
              "    </tr>\n",
              "    <tr>\n",
              "      <th>83789</th>\n",
              "      <td>PaymentScreenSuccessful</td>\n",
              "      <td>3610536745613892312</td>\n",
              "      <td>1564824846</td>\n",
              "      <td>248</td>\n",
              "      <td>2019-08-03 09:34:06</td>\n",
              "      <td>2019-08-03</td>\n",
              "    </tr>\n",
              "    <tr>\n",
              "      <th>83802</th>\n",
              "      <td>PaymentScreenSuccessful</td>\n",
              "      <td>3610536745613892312</td>\n",
              "      <td>1564824854</td>\n",
              "      <td>248</td>\n",
              "      <td>2019-08-03 09:34:14</td>\n",
              "      <td>2019-08-03</td>\n",
              "    </tr>\n",
              "    <tr>\n",
              "      <th>97561</th>\n",
              "      <td>PaymentScreenSuccessful</td>\n",
              "      <td>3610536745613892312</td>\n",
              "      <td>1564845651</td>\n",
              "      <td>248</td>\n",
              "      <td>2019-08-03 15:20:51</td>\n",
              "      <td>2019-08-03</td>\n",
              "    </tr>\n",
              "    <tr>\n",
              "      <th>97565</th>\n",
              "      <td>PaymentScreenSuccessful</td>\n",
              "      <td>3610536745613892312</td>\n",
              "      <td>1564845653</td>\n",
              "      <td>248</td>\n",
              "      <td>2019-08-03 15:20:53</td>\n",
              "      <td>2019-08-03</td>\n",
              "    </tr>\n",
              "    <tr>\n",
              "      <th>97577</th>\n",
              "      <td>PaymentScreenSuccessful</td>\n",
              "      <td>3610536745613892312</td>\n",
              "      <td>1564845660</td>\n",
              "      <td>248</td>\n",
              "      <td>2019-08-03 15:21:00</td>\n",
              "      <td>2019-08-03</td>\n",
              "    </tr>\n",
              "    <tr>\n",
              "      <th>97581</th>\n",
              "      <td>PaymentScreenSuccessful</td>\n",
              "      <td>3610536745613892312</td>\n",
              "      <td>1564845663</td>\n",
              "      <td>248</td>\n",
              "      <td>2019-08-03 15:21:03</td>\n",
              "      <td>2019-08-03</td>\n",
              "    </tr>\n",
              "    <tr>\n",
              "      <th>97586</th>\n",
              "      <td>PaymentScreenSuccessful</td>\n",
              "      <td>3610536745613892312</td>\n",
              "      <td>1564845666</td>\n",
              "      <td>248</td>\n",
              "      <td>2019-08-03 15:21:06</td>\n",
              "      <td>2019-08-03</td>\n",
              "    </tr>\n",
              "    <tr>\n",
              "      <th>108572</th>\n",
              "      <td>PaymentScreenSuccessful</td>\n",
              "      <td>3610536745613892312</td>\n",
              "      <td>1564887557</td>\n",
              "      <td>248</td>\n",
              "      <td>2019-08-04 02:59:17</td>\n",
              "      <td>2019-08-04</td>\n",
              "    </tr>\n",
              "    <tr>\n",
              "      <th>109393</th>\n",
              "      <td>PaymentScreenSuccessful</td>\n",
              "      <td>3610536745613892312</td>\n",
              "      <td>1564893087</td>\n",
              "      <td>248</td>\n",
              "      <td>2019-08-04 04:31:27</td>\n",
              "      <td>2019-08-04</td>\n",
              "    </tr>\n",
              "    <tr>\n",
              "      <th>109399</th>\n",
              "      <td>PaymentScreenSuccessful</td>\n",
              "      <td>3610536745613892312</td>\n",
              "      <td>1564893090</td>\n",
              "      <td>248</td>\n",
              "      <td>2019-08-04 04:31:30</td>\n",
              "      <td>2019-08-04</td>\n",
              "    </tr>\n",
              "    <tr>\n",
              "      <th>113185</th>\n",
              "      <td>PaymentScreenSuccessful</td>\n",
              "      <td>3610536745613892312</td>\n",
              "      <td>1564904632</td>\n",
              "      <td>248</td>\n",
              "      <td>2019-08-04 07:43:52</td>\n",
              "      <td>2019-08-04</td>\n",
              "    </tr>\n",
              "    <tr>\n",
              "      <th>113188</th>\n",
              "      <td>PaymentScreenSuccessful</td>\n",
              "      <td>3610536745613892312</td>\n",
              "      <td>1564904633</td>\n",
              "      <td>248</td>\n",
              "      <td>2019-08-04 07:43:53</td>\n",
              "      <td>2019-08-04</td>\n",
              "    </tr>\n",
              "    <tr>\n",
              "      <th>113192</th>\n",
              "      <td>PaymentScreenSuccessful</td>\n",
              "      <td>3610536745613892312</td>\n",
              "      <td>1564904636</td>\n",
              "      <td>248</td>\n",
              "      <td>2019-08-04 07:43:56</td>\n",
              "      <td>2019-08-04</td>\n",
              "    </tr>\n",
              "    <tr>\n",
              "      <th>113195</th>\n",
              "      <td>PaymentScreenSuccessful</td>\n",
              "      <td>3610536745613892312</td>\n",
              "      <td>1564904638</td>\n",
              "      <td>248</td>\n",
              "      <td>2019-08-04 07:43:58</td>\n",
              "      <td>2019-08-04</td>\n",
              "    </tr>\n",
              "    <tr>\n",
              "      <th>113199</th>\n",
              "      <td>PaymentScreenSuccessful</td>\n",
              "      <td>3610536745613892312</td>\n",
              "      <td>1564904640</td>\n",
              "      <td>248</td>\n",
              "      <td>2019-08-04 07:44:00</td>\n",
              "      <td>2019-08-04</td>\n",
              "    </tr>\n",
              "    <tr>\n",
              "      <th>113205</th>\n",
              "      <td>PaymentScreenSuccessful</td>\n",
              "      <td>3610536745613892312</td>\n",
              "      <td>1564904645</td>\n",
              "      <td>248</td>\n",
              "      <td>2019-08-04 07:44:05</td>\n",
              "      <td>2019-08-04</td>\n",
              "    </tr>\n",
              "    <tr>\n",
              "      <th>113209</th>\n",
              "      <td>PaymentScreenSuccessful</td>\n",
              "      <td>3610536745613892312</td>\n",
              "      <td>1564904647</td>\n",
              "      <td>248</td>\n",
              "      <td>2019-08-04 07:44:07</td>\n",
              "      <td>2019-08-04</td>\n",
              "    </tr>\n",
              "    <tr>\n",
              "      <th>113212</th>\n",
              "      <td>PaymentScreenSuccessful</td>\n",
              "      <td>3610536745613892312</td>\n",
              "      <td>1564904648</td>\n",
              "      <td>248</td>\n",
              "      <td>2019-08-04 07:44:08</td>\n",
              "      <td>2019-08-04</td>\n",
              "    </tr>\n",
              "    <tr>\n",
              "      <th>116097</th>\n",
              "      <td>PaymentScreenSuccessful</td>\n",
              "      <td>3610536745613892312</td>\n",
              "      <td>1564910147</td>\n",
              "      <td>248</td>\n",
              "      <td>2019-08-04 09:15:47</td>\n",
              "      <td>2019-08-04</td>\n",
              "    </tr>\n",
              "    <tr>\n",
              "      <th>121818</th>\n",
              "      <td>PaymentScreenSuccessful</td>\n",
              "      <td>3610536745613892312</td>\n",
              "      <td>1564919045</td>\n",
              "      <td>248</td>\n",
              "      <td>2019-08-04 11:44:05</td>\n",
              "      <td>2019-08-04</td>\n",
              "    </tr>\n",
              "    <tr>\n",
              "      <th>121825</th>\n",
              "      <td>PaymentScreenSuccessful</td>\n",
              "      <td>3610536745613892312</td>\n",
              "      <td>1564919048</td>\n",
              "      <td>248</td>\n",
              "      <td>2019-08-04 11:44:08</td>\n",
              "      <td>2019-08-04</td>\n",
              "    </tr>\n",
              "    <tr>\n",
              "      <th>121830</th>\n",
              "      <td>PaymentScreenSuccessful</td>\n",
              "      <td>3610536745613892312</td>\n",
              "      <td>1564919050</td>\n",
              "      <td>248</td>\n",
              "      <td>2019-08-04 11:44:10</td>\n",
              "      <td>2019-08-04</td>\n",
              "    </tr>\n",
              "    <tr>\n",
              "      <th>121833</th>\n",
              "      <td>PaymentScreenSuccessful</td>\n",
              "      <td>3610536745613892312</td>\n",
              "      <td>1564919052</td>\n",
              "      <td>248</td>\n",
              "      <td>2019-08-04 11:44:12</td>\n",
              "      <td>2019-08-04</td>\n",
              "    </tr>\n",
              "    <tr>\n",
              "      <th>121842</th>\n",
              "      <td>PaymentScreenSuccessful</td>\n",
              "      <td>3610536745613892312</td>\n",
              "      <td>1564919057</td>\n",
              "      <td>248</td>\n",
              "      <td>2019-08-04 11:44:17</td>\n",
              "      <td>2019-08-04</td>\n",
              "    </tr>\n",
              "    <tr>\n",
              "      <th>126653</th>\n",
              "      <td>PaymentScreenSuccessful</td>\n",
              "      <td>3610536745613892312</td>\n",
              "      <td>1564926565</td>\n",
              "      <td>248</td>\n",
              "      <td>2019-08-04 13:49:25</td>\n",
              "      <td>2019-08-04</td>\n",
              "    </tr>\n",
              "    <tr>\n",
              "      <th>126678</th>\n",
              "      <td>PaymentScreenSuccessful</td>\n",
              "      <td>3610536745613892312</td>\n",
              "      <td>1564926579</td>\n",
              "      <td>248</td>\n",
              "      <td>2019-08-04 13:49:39</td>\n",
              "      <td>2019-08-04</td>\n",
              "    </tr>\n",
              "    <tr>\n",
              "      <th>126685</th>\n",
              "      <td>PaymentScreenSuccessful</td>\n",
              "      <td>3610536745613892312</td>\n",
              "      <td>1564926582</td>\n",
              "      <td>248</td>\n",
              "      <td>2019-08-04 13:49:42</td>\n",
              "      <td>2019-08-04</td>\n",
              "    </tr>\n",
              "    <tr>\n",
              "      <th>126688</th>\n",
              "      <td>PaymentScreenSuccessful</td>\n",
              "      <td>3610536745613892312</td>\n",
              "      <td>1564926584</td>\n",
              "      <td>248</td>\n",
              "      <td>2019-08-04 13:49:44</td>\n",
              "      <td>2019-08-04</td>\n",
              "    </tr>\n",
              "    <tr>\n",
              "      <th>126693</th>\n",
              "      <td>PaymentScreenSuccessful</td>\n",
              "      <td>3610536745613892312</td>\n",
              "      <td>1564926587</td>\n",
              "      <td>248</td>\n",
              "      <td>2019-08-04 13:49:47</td>\n",
              "      <td>2019-08-04</td>\n",
              "    </tr>\n",
              "    <tr>\n",
              "      <th>126698</th>\n",
              "      <td>PaymentScreenSuccessful</td>\n",
              "      <td>3610536745613892312</td>\n",
              "      <td>1564926589</td>\n",
              "      <td>248</td>\n",
              "      <td>2019-08-04 13:49:49</td>\n",
              "      <td>2019-08-04</td>\n",
              "    </tr>\n",
              "    <tr>\n",
              "      <th>231482</th>\n",
              "      <td>PaymentScreenSuccessful</td>\n",
              "      <td>3610536745613892312</td>\n",
              "      <td>1565188044</td>\n",
              "      <td>248</td>\n",
              "      <td>2019-08-07 14:27:24</td>\n",
              "      <td>2019-08-07</td>\n",
              "    </tr>\n",
              "    <tr>\n",
              "      <th>237594</th>\n",
              "      <td>PaymentScreenSuccessful</td>\n",
              "      <td>3610536745613892312</td>\n",
              "      <td>1565196673</td>\n",
              "      <td>248</td>\n",
              "      <td>2019-08-07 16:51:13</td>\n",
              "      <td>2019-08-07</td>\n",
              "    </tr>\n",
              "  </tbody>\n",
              "</table>\n",
              "</div>"
            ],
            "text/plain": [
              "                     event_name  ...  event_date\n",
              "76243   PaymentScreenSuccessful  ...  2019-08-03\n",
              "76245   PaymentScreenSuccessful  ...  2019-08-03\n",
              "76250   PaymentScreenSuccessful  ...  2019-08-03\n",
              "76252   PaymentScreenSuccessful  ...  2019-08-03\n",
              "76256   PaymentScreenSuccessful  ...  2019-08-03\n",
              "76260   PaymentScreenSuccessful  ...  2019-08-03\n",
              "76264   PaymentScreenSuccessful  ...  2019-08-03\n",
              "83762   PaymentScreenSuccessful  ...  2019-08-03\n",
              "83780   PaymentScreenSuccessful  ...  2019-08-03\n",
              "83789   PaymentScreenSuccessful  ...  2019-08-03\n",
              "83802   PaymentScreenSuccessful  ...  2019-08-03\n",
              "97561   PaymentScreenSuccessful  ...  2019-08-03\n",
              "97565   PaymentScreenSuccessful  ...  2019-08-03\n",
              "97577   PaymentScreenSuccessful  ...  2019-08-03\n",
              "97581   PaymentScreenSuccessful  ...  2019-08-03\n",
              "97586   PaymentScreenSuccessful  ...  2019-08-03\n",
              "108572  PaymentScreenSuccessful  ...  2019-08-04\n",
              "109393  PaymentScreenSuccessful  ...  2019-08-04\n",
              "109399  PaymentScreenSuccessful  ...  2019-08-04\n",
              "113185  PaymentScreenSuccessful  ...  2019-08-04\n",
              "113188  PaymentScreenSuccessful  ...  2019-08-04\n",
              "113192  PaymentScreenSuccessful  ...  2019-08-04\n",
              "113195  PaymentScreenSuccessful  ...  2019-08-04\n",
              "113199  PaymentScreenSuccessful  ...  2019-08-04\n",
              "113205  PaymentScreenSuccessful  ...  2019-08-04\n",
              "113209  PaymentScreenSuccessful  ...  2019-08-04\n",
              "113212  PaymentScreenSuccessful  ...  2019-08-04\n",
              "116097  PaymentScreenSuccessful  ...  2019-08-04\n",
              "121818  PaymentScreenSuccessful  ...  2019-08-04\n",
              "121825  PaymentScreenSuccessful  ...  2019-08-04\n",
              "121830  PaymentScreenSuccessful  ...  2019-08-04\n",
              "121833  PaymentScreenSuccessful  ...  2019-08-04\n",
              "121842  PaymentScreenSuccessful  ...  2019-08-04\n",
              "126653  PaymentScreenSuccessful  ...  2019-08-04\n",
              "126678  PaymentScreenSuccessful  ...  2019-08-04\n",
              "126685  PaymentScreenSuccessful  ...  2019-08-04\n",
              "126688  PaymentScreenSuccessful  ...  2019-08-04\n",
              "126693  PaymentScreenSuccessful  ...  2019-08-04\n",
              "126698  PaymentScreenSuccessful  ...  2019-08-04\n",
              "231482  PaymentScreenSuccessful  ...  2019-08-07\n",
              "237594  PaymentScreenSuccessful  ...  2019-08-07\n",
              "\n",
              "[41 rows x 6 columns]"
            ]
          },
          "metadata": {}
        },
        {
          "output_type": "display_data",
          "data": {
            "text/html": [
              "<div>\n",
              "<style scoped>\n",
              "    .dataframe tbody tr th:only-of-type {\n",
              "        vertical-align: middle;\n",
              "    }\n",
              "\n",
              "    .dataframe tbody tr th {\n",
              "        vertical-align: top;\n",
              "    }\n",
              "\n",
              "    .dataframe thead th {\n",
              "        text-align: right;\n",
              "    }\n",
              "</style>\n",
              "<table border=\"1\" class=\"dataframe\">\n",
              "  <thead>\n",
              "    <tr style=\"text-align: right;\">\n",
              "      <th></th>\n",
              "      <th>event_name</th>\n",
              "      <th>id</th>\n",
              "      <th>event_time_unix</th>\n",
              "      <th>exp_id</th>\n",
              "      <th>event_time</th>\n",
              "      <th>event_date</th>\n",
              "    </tr>\n",
              "  </thead>\n",
              "  <tbody>\n",
              "    <tr>\n",
              "      <th>38527</th>\n",
              "      <td>Tutorial</td>\n",
              "      <td>3473691793382022823</td>\n",
              "      <td>1564697301</td>\n",
              "      <td>248</td>\n",
              "      <td>2019-08-01 22:08:21</td>\n",
              "      <td>2019-08-01</td>\n",
              "    </tr>\n",
              "    <tr>\n",
              "      <th>38539</th>\n",
              "      <td>Tutorial</td>\n",
              "      <td>3473691793382022823</td>\n",
              "      <td>1564697331</td>\n",
              "      <td>248</td>\n",
              "      <td>2019-08-01 22:08:51</td>\n",
              "      <td>2019-08-01</td>\n",
              "    </tr>\n",
              "    <tr>\n",
              "      <th>38542</th>\n",
              "      <td>Tutorial</td>\n",
              "      <td>3473691793382022823</td>\n",
              "      <td>1564697346</td>\n",
              "      <td>248</td>\n",
              "      <td>2019-08-01 22:09:06</td>\n",
              "      <td>2019-08-01</td>\n",
              "    </tr>\n",
              "    <tr>\n",
              "      <th>38544</th>\n",
              "      <td>Tutorial</td>\n",
              "      <td>3473691793382022823</td>\n",
              "      <td>1564697347</td>\n",
              "      <td>248</td>\n",
              "      <td>2019-08-01 22:09:07</td>\n",
              "      <td>2019-08-01</td>\n",
              "    </tr>\n",
              "    <tr>\n",
              "      <th>38547</th>\n",
              "      <td>Tutorial</td>\n",
              "      <td>3473691793382022823</td>\n",
              "      <td>1564697355</td>\n",
              "      <td>248</td>\n",
              "      <td>2019-08-01 22:09:15</td>\n",
              "      <td>2019-08-01</td>\n",
              "    </tr>\n",
              "    <tr>\n",
              "      <th>38548</th>\n",
              "      <td>Tutorial</td>\n",
              "      <td>3473691793382022823</td>\n",
              "      <td>1564697355</td>\n",
              "      <td>248</td>\n",
              "      <td>2019-08-01 22:09:15</td>\n",
              "      <td>2019-08-01</td>\n",
              "    </tr>\n",
              "    <tr>\n",
              "      <th>38563</th>\n",
              "      <td>Tutorial</td>\n",
              "      <td>3473691793382022823</td>\n",
              "      <td>1564697509</td>\n",
              "      <td>248</td>\n",
              "      <td>2019-08-01 22:11:49</td>\n",
              "      <td>2019-08-01</td>\n",
              "    </tr>\n",
              "    <tr>\n",
              "      <th>38564</th>\n",
              "      <td>Tutorial</td>\n",
              "      <td>3473691793382022823</td>\n",
              "      <td>1564697509</td>\n",
              "      <td>248</td>\n",
              "      <td>2019-08-01 22:11:49</td>\n",
              "      <td>2019-08-01</td>\n",
              "    </tr>\n",
              "    <tr>\n",
              "      <th>38565</th>\n",
              "      <td>Tutorial</td>\n",
              "      <td>3473691793382022823</td>\n",
              "      <td>1564697509</td>\n",
              "      <td>248</td>\n",
              "      <td>2019-08-01 22:11:49</td>\n",
              "      <td>2019-08-01</td>\n",
              "    </tr>\n",
              "    <tr>\n",
              "      <th>38566</th>\n",
              "      <td>Tutorial</td>\n",
              "      <td>3473691793382022823</td>\n",
              "      <td>1564697509</td>\n",
              "      <td>248</td>\n",
              "      <td>2019-08-01 22:11:49</td>\n",
              "      <td>2019-08-01</td>\n",
              "    </tr>\n",
              "    <tr>\n",
              "      <th>38568</th>\n",
              "      <td>Tutorial</td>\n",
              "      <td>3473691793382022823</td>\n",
              "      <td>1564697510</td>\n",
              "      <td>248</td>\n",
              "      <td>2019-08-01 22:11:50</td>\n",
              "      <td>2019-08-01</td>\n",
              "    </tr>\n",
              "    <tr>\n",
              "      <th>38570</th>\n",
              "      <td>Tutorial</td>\n",
              "      <td>3473691793382022823</td>\n",
              "      <td>1564697512</td>\n",
              "      <td>248</td>\n",
              "      <td>2019-08-01 22:11:52</td>\n",
              "      <td>2019-08-01</td>\n",
              "    </tr>\n",
              "    <tr>\n",
              "      <th>38571</th>\n",
              "      <td>Tutorial</td>\n",
              "      <td>3473691793382022823</td>\n",
              "      <td>1564697512</td>\n",
              "      <td>248</td>\n",
              "      <td>2019-08-01 22:11:52</td>\n",
              "      <td>2019-08-01</td>\n",
              "    </tr>\n",
              "    <tr>\n",
              "      <th>38572</th>\n",
              "      <td>Tutorial</td>\n",
              "      <td>3473691793382022823</td>\n",
              "      <td>1564697512</td>\n",
              "      <td>248</td>\n",
              "      <td>2019-08-01 22:11:52</td>\n",
              "      <td>2019-08-01</td>\n",
              "    </tr>\n",
              "    <tr>\n",
              "      <th>38574</th>\n",
              "      <td>Tutorial</td>\n",
              "      <td>3473691793382022823</td>\n",
              "      <td>1564697513</td>\n",
              "      <td>248</td>\n",
              "      <td>2019-08-01 22:11:53</td>\n",
              "      <td>2019-08-01</td>\n",
              "    </tr>\n",
              "    <tr>\n",
              "      <th>38575</th>\n",
              "      <td>Tutorial</td>\n",
              "      <td>3473691793382022823</td>\n",
              "      <td>1564697513</td>\n",
              "      <td>248</td>\n",
              "      <td>2019-08-01 22:11:53</td>\n",
              "      <td>2019-08-01</td>\n",
              "    </tr>\n",
              "    <tr>\n",
              "      <th>38576</th>\n",
              "      <td>Tutorial</td>\n",
              "      <td>3473691793382022823</td>\n",
              "      <td>1564697513</td>\n",
              "      <td>248</td>\n",
              "      <td>2019-08-01 22:11:53</td>\n",
              "      <td>2019-08-01</td>\n",
              "    </tr>\n",
              "    <tr>\n",
              "      <th>38577</th>\n",
              "      <td>Tutorial</td>\n",
              "      <td>3473691793382022823</td>\n",
              "      <td>1564697513</td>\n",
              "      <td>248</td>\n",
              "      <td>2019-08-01 22:11:53</td>\n",
              "      <td>2019-08-01</td>\n",
              "    </tr>\n",
              "    <tr>\n",
              "      <th>38579</th>\n",
              "      <td>Tutorial</td>\n",
              "      <td>3473691793382022823</td>\n",
              "      <td>1564697514</td>\n",
              "      <td>248</td>\n",
              "      <td>2019-08-01 22:11:54</td>\n",
              "      <td>2019-08-01</td>\n",
              "    </tr>\n",
              "    <tr>\n",
              "      <th>38587</th>\n",
              "      <td>Tutorial</td>\n",
              "      <td>3473691793382022823</td>\n",
              "      <td>1564697536</td>\n",
              "      <td>248</td>\n",
              "      <td>2019-08-01 22:12:16</td>\n",
              "      <td>2019-08-01</td>\n",
              "    </tr>\n",
              "    <tr>\n",
              "      <th>38598</th>\n",
              "      <td>Tutorial</td>\n",
              "      <td>3473691793382022823</td>\n",
              "      <td>1564697648</td>\n",
              "      <td>248</td>\n",
              "      <td>2019-08-01 22:14:08</td>\n",
              "      <td>2019-08-01</td>\n",
              "    </tr>\n",
              "    <tr>\n",
              "      <th>38599</th>\n",
              "      <td>Tutorial</td>\n",
              "      <td>3473691793382022823</td>\n",
              "      <td>1564697648</td>\n",
              "      <td>248</td>\n",
              "      <td>2019-08-01 22:14:08</td>\n",
              "      <td>2019-08-01</td>\n",
              "    </tr>\n",
              "    <tr>\n",
              "      <th>38600</th>\n",
              "      <td>Tutorial</td>\n",
              "      <td>3473691793382022823</td>\n",
              "      <td>1564697648</td>\n",
              "      <td>248</td>\n",
              "      <td>2019-08-01 22:14:08</td>\n",
              "      <td>2019-08-01</td>\n",
              "    </tr>\n",
              "  </tbody>\n",
              "</table>\n",
              "</div>"
            ],
            "text/plain": [
              "      event_name                   id  ...          event_time  event_date\n",
              "38527   Tutorial  3473691793382022823  ... 2019-08-01 22:08:21  2019-08-01\n",
              "38539   Tutorial  3473691793382022823  ... 2019-08-01 22:08:51  2019-08-01\n",
              "38542   Tutorial  3473691793382022823  ... 2019-08-01 22:09:06  2019-08-01\n",
              "38544   Tutorial  3473691793382022823  ... 2019-08-01 22:09:07  2019-08-01\n",
              "38547   Tutorial  3473691793382022823  ... 2019-08-01 22:09:15  2019-08-01\n",
              "38548   Tutorial  3473691793382022823  ... 2019-08-01 22:09:15  2019-08-01\n",
              "38563   Tutorial  3473691793382022823  ... 2019-08-01 22:11:49  2019-08-01\n",
              "38564   Tutorial  3473691793382022823  ... 2019-08-01 22:11:49  2019-08-01\n",
              "38565   Tutorial  3473691793382022823  ... 2019-08-01 22:11:49  2019-08-01\n",
              "38566   Tutorial  3473691793382022823  ... 2019-08-01 22:11:49  2019-08-01\n",
              "38568   Tutorial  3473691793382022823  ... 2019-08-01 22:11:50  2019-08-01\n",
              "38570   Tutorial  3473691793382022823  ... 2019-08-01 22:11:52  2019-08-01\n",
              "38571   Tutorial  3473691793382022823  ... 2019-08-01 22:11:52  2019-08-01\n",
              "38572   Tutorial  3473691793382022823  ... 2019-08-01 22:11:52  2019-08-01\n",
              "38574   Tutorial  3473691793382022823  ... 2019-08-01 22:11:53  2019-08-01\n",
              "38575   Tutorial  3473691793382022823  ... 2019-08-01 22:11:53  2019-08-01\n",
              "38576   Tutorial  3473691793382022823  ... 2019-08-01 22:11:53  2019-08-01\n",
              "38577   Tutorial  3473691793382022823  ... 2019-08-01 22:11:53  2019-08-01\n",
              "38579   Tutorial  3473691793382022823  ... 2019-08-01 22:11:54  2019-08-01\n",
              "38587   Tutorial  3473691793382022823  ... 2019-08-01 22:12:16  2019-08-01\n",
              "38598   Tutorial  3473691793382022823  ... 2019-08-01 22:14:08  2019-08-01\n",
              "38599   Tutorial  3473691793382022823  ... 2019-08-01 22:14:08  2019-08-01\n",
              "38600   Tutorial  3473691793382022823  ... 2019-08-01 22:14:08  2019-08-01\n",
              "\n",
              "[23 rows x 6 columns]"
            ]
          },
          "metadata": {}
        },
        {
          "output_type": "display_data",
          "data": {
            "text/html": [
              "<div>\n",
              "<style scoped>\n",
              "    .dataframe tbody tr th:only-of-type {\n",
              "        vertical-align: middle;\n",
              "    }\n",
              "\n",
              "    .dataframe tbody tr th {\n",
              "        vertical-align: top;\n",
              "    }\n",
              "\n",
              "    .dataframe thead th {\n",
              "        text-align: right;\n",
              "    }\n",
              "</style>\n",
              "<table border=\"1\" class=\"dataframe\">\n",
              "  <thead>\n",
              "    <tr style=\"text-align: right;\">\n",
              "      <th></th>\n",
              "      <th>event_name</th>\n",
              "      <th>id</th>\n",
              "      <th>event_time_unix</th>\n",
              "      <th>exp_id</th>\n",
              "      <th>event_time</th>\n",
              "      <th>event_date</th>\n",
              "    </tr>\n",
              "  </thead>\n",
              "  <tbody>\n",
              "    <tr>\n",
              "      <th>21001</th>\n",
              "      <td>PaymentScreenSuccessful</td>\n",
              "      <td>4980045449118619005</td>\n",
              "      <td>1564665638</td>\n",
              "      <td>247</td>\n",
              "      <td>2019-08-01 13:20:38</td>\n",
              "      <td>2019-08-01</td>\n",
              "    </tr>\n",
              "    <tr>\n",
              "      <th>21003</th>\n",
              "      <td>PaymentScreenSuccessful</td>\n",
              "      <td>4980045449118619005</td>\n",
              "      <td>1564665639</td>\n",
              "      <td>247</td>\n",
              "      <td>2019-08-01 13:20:39</td>\n",
              "      <td>2019-08-01</td>\n",
              "    </tr>\n",
              "    <tr>\n",
              "      <th>21004</th>\n",
              "      <td>PaymentScreenSuccessful</td>\n",
              "      <td>4980045449118619005</td>\n",
              "      <td>1564665639</td>\n",
              "      <td>247</td>\n",
              "      <td>2019-08-01 13:20:39</td>\n",
              "      <td>2019-08-01</td>\n",
              "    </tr>\n",
              "    <tr>\n",
              "      <th>21006</th>\n",
              "      <td>PaymentScreenSuccessful</td>\n",
              "      <td>4980045449118619005</td>\n",
              "      <td>1564665639</td>\n",
              "      <td>247</td>\n",
              "      <td>2019-08-01 13:20:39</td>\n",
              "      <td>2019-08-01</td>\n",
              "    </tr>\n",
              "    <tr>\n",
              "      <th>21008</th>\n",
              "      <td>PaymentScreenSuccessful</td>\n",
              "      <td>4980045449118619005</td>\n",
              "      <td>1564665640</td>\n",
              "      <td>247</td>\n",
              "      <td>2019-08-01 13:20:40</td>\n",
              "      <td>2019-08-01</td>\n",
              "    </tr>\n",
              "    <tr>\n",
              "      <th>21009</th>\n",
              "      <td>PaymentScreenSuccessful</td>\n",
              "      <td>4980045449118619005</td>\n",
              "      <td>1564665640</td>\n",
              "      <td>247</td>\n",
              "      <td>2019-08-01 13:20:40</td>\n",
              "      <td>2019-08-01</td>\n",
              "    </tr>\n",
              "    <tr>\n",
              "      <th>21010</th>\n",
              "      <td>PaymentScreenSuccessful</td>\n",
              "      <td>4980045449118619005</td>\n",
              "      <td>1564665640</td>\n",
              "      <td>247</td>\n",
              "      <td>2019-08-01 13:20:40</td>\n",
              "      <td>2019-08-01</td>\n",
              "    </tr>\n",
              "    <tr>\n",
              "      <th>21011</th>\n",
              "      <td>PaymentScreenSuccessful</td>\n",
              "      <td>4980045449118619005</td>\n",
              "      <td>1564665640</td>\n",
              "      <td>247</td>\n",
              "      <td>2019-08-01 13:20:40</td>\n",
              "      <td>2019-08-01</td>\n",
              "    </tr>\n",
              "    <tr>\n",
              "      <th>21015</th>\n",
              "      <td>PaymentScreenSuccessful</td>\n",
              "      <td>4980045449118619005</td>\n",
              "      <td>1564665641</td>\n",
              "      <td>247</td>\n",
              "      <td>2019-08-01 13:20:41</td>\n",
              "      <td>2019-08-01</td>\n",
              "    </tr>\n",
              "    <tr>\n",
              "      <th>21020</th>\n",
              "      <td>PaymentScreenSuccessful</td>\n",
              "      <td>4980045449118619005</td>\n",
              "      <td>1564665643</td>\n",
              "      <td>247</td>\n",
              "      <td>2019-08-01 13:20:43</td>\n",
              "      <td>2019-08-01</td>\n",
              "    </tr>\n",
              "    <tr>\n",
              "      <th>21023</th>\n",
              "      <td>PaymentScreenSuccessful</td>\n",
              "      <td>4980045449118619005</td>\n",
              "      <td>1564665644</td>\n",
              "      <td>247</td>\n",
              "      <td>2019-08-01 13:20:44</td>\n",
              "      <td>2019-08-01</td>\n",
              "    </tr>\n",
              "  </tbody>\n",
              "</table>\n",
              "</div>"
            ],
            "text/plain": [
              "                    event_name  ...  event_date\n",
              "21001  PaymentScreenSuccessful  ...  2019-08-01\n",
              "21003  PaymentScreenSuccessful  ...  2019-08-01\n",
              "21004  PaymentScreenSuccessful  ...  2019-08-01\n",
              "21006  PaymentScreenSuccessful  ...  2019-08-01\n",
              "21008  PaymentScreenSuccessful  ...  2019-08-01\n",
              "21009  PaymentScreenSuccessful  ...  2019-08-01\n",
              "21010  PaymentScreenSuccessful  ...  2019-08-01\n",
              "21011  PaymentScreenSuccessful  ...  2019-08-01\n",
              "21015  PaymentScreenSuccessful  ...  2019-08-01\n",
              "21020  PaymentScreenSuccessful  ...  2019-08-01\n",
              "21023  PaymentScreenSuccessful  ...  2019-08-01\n",
              "\n",
              "[11 rows x 6 columns]"
            ]
          },
          "metadata": {}
        }
      ]
    },
    {
      "cell_type": "code",
      "metadata": {
        "colab": {
          "base_uri": "https://localhost:8080/"
        },
        "id": "I-ErwqhffJBO",
        "outputId": "8d3885b0-7438-47cb-ff25-fe16745b051c"
      },
      "source": [
        "# Наиболее часто встречающиеся дубликаты событий\n",
        "data_logs[data_logs.duplicated() == True].groupby('event_name')['id'].count().sort_values(ascending=False)"
      ],
      "execution_count": 9,
      "outputs": [
        {
          "output_type": "execute_result",
          "data": {
            "text/plain": [
              "event_name\n",
              "PaymentScreenSuccessful    195\n",
              "MainScreenAppear           104\n",
              "CartScreenAppear            63\n",
              "Tutorial                    34\n",
              "OffersScreenAppear          17\n",
              "Name: id, dtype: int64"
            ]
          },
          "metadata": {},
          "execution_count": 9
        }
      ]
    },
    {
      "cell_type": "code",
      "metadata": {
        "colab": {
          "base_uri": "https://localhost:8080/",
          "height": 390
        },
        "id": "ozO7s6N0fJBP",
        "outputId": "f1e73f8c-fa6e-42c3-ca9f-d195eb2223af"
      },
      "source": [
        "# Наибольшее количество дубликатов в один момент времени \n",
        "data_logs[data_logs.duplicated() == True].groupby(['id', 'event_time_unix']).\\\n",
        "                                          agg({'event_time':'count'}).\\\n",
        "                                          sort_values('event_time',ascending=False)[:10]"
      ],
      "execution_count": 10,
      "outputs": [
        {
          "output_type": "execute_result",
          "data": {
            "text/html": [
              "<div>\n",
              "<style scoped>\n",
              "    .dataframe tbody tr th:only-of-type {\n",
              "        vertical-align: middle;\n",
              "    }\n",
              "\n",
              "    .dataframe tbody tr th {\n",
              "        vertical-align: top;\n",
              "    }\n",
              "\n",
              "    .dataframe thead th {\n",
              "        text-align: right;\n",
              "    }\n",
              "</style>\n",
              "<table border=\"1\" class=\"dataframe\">\n",
              "  <thead>\n",
              "    <tr style=\"text-align: right;\">\n",
              "      <th></th>\n",
              "      <th></th>\n",
              "      <th>event_time</th>\n",
              "    </tr>\n",
              "    <tr>\n",
              "      <th>id</th>\n",
              "      <th>event_time_unix</th>\n",
              "      <th></th>\n",
              "    </tr>\n",
              "  </thead>\n",
              "  <tbody>\n",
              "    <tr>\n",
              "      <th>3473691793382022823</th>\n",
              "      <th>1564697509</th>\n",
              "      <td>4</td>\n",
              "    </tr>\n",
              "    <tr>\n",
              "      <th>636437379427729086</th>\n",
              "      <th>1564726206</th>\n",
              "      <td>4</td>\n",
              "    </tr>\n",
              "    <tr>\n",
              "      <th>3473691793382022823</th>\n",
              "      <th>1564697513</th>\n",
              "      <td>4</td>\n",
              "    </tr>\n",
              "    <tr>\n",
              "      <th>4980045449118619005</th>\n",
              "      <th>1564665640</th>\n",
              "      <td>4</td>\n",
              "    </tr>\n",
              "    <tr>\n",
              "      <th>7757756163339431950</th>\n",
              "      <th>1564857429</th>\n",
              "      <td>3</td>\n",
              "    </tr>\n",
              "    <tr>\n",
              "      <th>5767286434014984014</th>\n",
              "      <th>1565004352</th>\n",
              "      <td>3</td>\n",
              "    </tr>\n",
              "    <tr>\n",
              "      <th>3528217211962170139</th>\n",
              "      <th>1564658003</th>\n",
              "      <td>3</td>\n",
              "    </tr>\n",
              "    <tr>\n",
              "      <th>6932517045703054087</th>\n",
              "      <th>1565024403</th>\n",
              "      <td>3</td>\n",
              "    </tr>\n",
              "    <tr>\n",
              "      <th rowspan=\"2\" valign=\"top\">3473691793382022823</th>\n",
              "      <th>1564697512</th>\n",
              "      <td>3</td>\n",
              "    </tr>\n",
              "    <tr>\n",
              "      <th>1564697648</th>\n",
              "      <td>3</td>\n",
              "    </tr>\n",
              "  </tbody>\n",
              "</table>\n",
              "</div>"
            ],
            "text/plain": [
              "                                     event_time\n",
              "id                  event_time_unix            \n",
              "3473691793382022823 1564697509                4\n",
              "636437379427729086  1564726206                4\n",
              "3473691793382022823 1564697513                4\n",
              "4980045449118619005 1564665640                4\n",
              "7757756163339431950 1564857429                3\n",
              "5767286434014984014 1565004352                3\n",
              "3528217211962170139 1564658003                3\n",
              "6932517045703054087 1565024403                3\n",
              "3473691793382022823 1564697512                3\n",
              "                    1564697648                3"
            ]
          },
          "metadata": {},
          "execution_count": 10
        }
      ]
    },
    {
      "cell_type": "markdown",
      "metadata": {
        "id": "EE0RqYNZfJBR"
      },
      "source": [
        "Как мы видим, наиболее часто встречающися дубликаты - успешный экран оплаты. При этом у одного пользователя в одну секунду может произойти до 5 одинаковых записей одного события.\n",
        "\n",
        "Исходя из логики, что одно и тоже действие в одру и ту же секунду одного и того же пользователя с большей вероятностью является технической ошибкой, при которой произошло до 5 записей одного действия - удалим дубликаты."
      ]
    },
    {
      "cell_type": "code",
      "metadata": {
        "id": "j55f_3VHfJBR"
      },
      "source": [
        "# Удаление дубликатов\n",
        "data_logs = data_logs.drop_duplicates().reset_index(drop=True)"
      ],
      "execution_count": 11,
      "outputs": []
    },
    {
      "cell_type": "code",
      "metadata": {
        "colab": {
          "base_uri": "https://localhost:8080/"
        },
        "id": "zhsOUoCQfJBU",
        "outputId": "f3350aed-fa53-4d0d-8c4d-a62e16cc26fe"
      },
      "source": [
        "# Проверка на пропуски\n",
        "data_logs.isna().sum()"
      ],
      "execution_count": 12,
      "outputs": [
        {
          "output_type": "execute_result",
          "data": {
            "text/plain": [
              "event_name         0\n",
              "id                 0\n",
              "event_time_unix    0\n",
              "exp_id             0\n",
              "event_time         0\n",
              "event_date         0\n",
              "dtype: int64"
            ]
          },
          "metadata": {},
          "execution_count": 12
        }
      ]
    },
    {
      "cell_type": "markdown",
      "metadata": {
        "id": "D1lFwSC5fJBV"
      },
      "source": [
        "### Вывод"
      ]
    },
    {
      "cell_type": "markdown",
      "metadata": {
        "id": "nNdxBok3fJBW"
      },
      "source": [
        "На данном этапе мы загрузили датафрейм с логами пользователей и ознакомились с ним. Было осуществлено преобразование времени из unix-формата, проведена проверка на пропуски и дубликаты. Всего было найдено 413 дубликатов, пропуски не обнаружены.\n",
        "\n",
        "Исходя из логики, что одно и тоже действие в одру и ту же секунду одного и того же пользователя с большей вероятностью является технической ошибкой, при которой произошло до 5 записей одного действия.\n",
        "\n",
        "В результате было принято решение об удалении дубликатов. \n",
        "\n",
        "<a id='section2'> <a/>"
      ]
    },
    {
      "cell_type": "markdown",
      "metadata": {
        "id": "2Cs6JipPfJBZ"
      },
      "source": [
        "## 2. Проверка поступивших данных\n",
        "\n",
        "<a id='section2_1'> <a/>"
      ]
    },
    {
      "cell_type": "markdown",
      "metadata": {
        "id": "G6J1ykpWfJBZ"
      },
      "source": [
        "2.1 Количество событий"
      ]
    },
    {
      "cell_type": "code",
      "metadata": {
        "colab": {
          "base_uri": "https://localhost:8080/",
          "height": 252
        },
        "id": "_ITcVWPdfJBa",
        "outputId": "a1dd5d0f-311c-401e-c67a-fe645c36dbf3"
      },
      "source": [
        "print('Общее количество событий:', data_logs['event_name'].count())\n",
        "\n",
        "# Количество каждого события\n",
        "data_logs.groupby('event_name').agg({'id':'count'}).sort_values('id', ascending=False)"
      ],
      "execution_count": 13,
      "outputs": [
        {
          "output_type": "stream",
          "name": "stdout",
          "text": [
            "Общее количество событий: 243713\n"
          ]
        },
        {
          "output_type": "execute_result",
          "data": {
            "text/html": [
              "<div>\n",
              "<style scoped>\n",
              "    .dataframe tbody tr th:only-of-type {\n",
              "        vertical-align: middle;\n",
              "    }\n",
              "\n",
              "    .dataframe tbody tr th {\n",
              "        vertical-align: top;\n",
              "    }\n",
              "\n",
              "    .dataframe thead th {\n",
              "        text-align: right;\n",
              "    }\n",
              "</style>\n",
              "<table border=\"1\" class=\"dataframe\">\n",
              "  <thead>\n",
              "    <tr style=\"text-align: right;\">\n",
              "      <th></th>\n",
              "      <th>id</th>\n",
              "    </tr>\n",
              "    <tr>\n",
              "      <th>event_name</th>\n",
              "      <th></th>\n",
              "    </tr>\n",
              "  </thead>\n",
              "  <tbody>\n",
              "    <tr>\n",
              "      <th>MainScreenAppear</th>\n",
              "      <td>119101</td>\n",
              "    </tr>\n",
              "    <tr>\n",
              "      <th>OffersScreenAppear</th>\n",
              "      <td>46808</td>\n",
              "    </tr>\n",
              "    <tr>\n",
              "      <th>CartScreenAppear</th>\n",
              "      <td>42668</td>\n",
              "    </tr>\n",
              "    <tr>\n",
              "      <th>PaymentScreenSuccessful</th>\n",
              "      <td>34118</td>\n",
              "    </tr>\n",
              "    <tr>\n",
              "      <th>Tutorial</th>\n",
              "      <td>1018</td>\n",
              "    </tr>\n",
              "  </tbody>\n",
              "</table>\n",
              "</div>"
            ],
            "text/plain": [
              "                             id\n",
              "event_name                     \n",
              "MainScreenAppear         119101\n",
              "OffersScreenAppear        46808\n",
              "CartScreenAppear          42668\n",
              "PaymentScreenSuccessful   34118\n",
              "Tutorial                   1018"
            ]
          },
          "metadata": {},
          "execution_count": 13
        }
      ]
    },
    {
      "cell_type": "markdown",
      "metadata": {
        "id": "irgql_iNfJBb"
      },
      "source": [
        "Всего в данных логах представлено 5 различных событий: 'MainScreenAppear', 'OffersScreenAppear', 'CartScreenAppear', 'PaymentScreenSuccessful', 'Tutorial'.\n",
        "\n",
        "<a id='section2_2'> <a/>"
      ]
    },
    {
      "cell_type": "markdown",
      "metadata": {
        "id": "kPh-fbJ6fJBc"
      },
      "source": [
        "2.2 Количество уникальных пользователей"
      ]
    },
    {
      "cell_type": "code",
      "metadata": {
        "colab": {
          "base_uri": "https://localhost:8080/"
        },
        "id": "8gEthW5ffJBc",
        "outputId": "aadda8ce-b8a1-45ed-c91b-4fb5f16b1ec1"
      },
      "source": [
        "print('Количество уникальных пользователей в логе: {}'.format(data_logs['id'].nunique()))"
      ],
      "execution_count": 14,
      "outputs": [
        {
          "output_type": "stream",
          "name": "stdout",
          "text": [
            "Количество уникальных пользователей в логе: 7551\n"
          ]
        }
      ]
    },
    {
      "cell_type": "markdown",
      "metadata": {
        "id": "k-uFaBCAfJBe"
      },
      "source": [
        "Всего в датафрейме имеется информация о 7551 уникальном пользователе.\n",
        "\n",
        "<a id='section2_3'> <a/>"
      ]
    },
    {
      "cell_type": "markdown",
      "metadata": {
        "id": "RldmmgCUfJBf"
      },
      "source": [
        "2.3 Среднее количество событий на пользователя"
      ]
    },
    {
      "cell_type": "code",
      "metadata": {
        "colab": {
          "base_uri": "https://localhost:8080/",
          "height": 390
        },
        "id": "a-9ru4dFfJBg",
        "outputId": "1101cb76-b668-4421-892b-daa628fef378"
      },
      "source": [
        "# Пользователи с наибольшим количеством событий\n",
        "data_logs.groupby('id').agg({'event_name':'count'}).sort_values('event_name', ascending=False)[:10]"
      ],
      "execution_count": 15,
      "outputs": [
        {
          "output_type": "execute_result",
          "data": {
            "text/html": [
              "<div>\n",
              "<style scoped>\n",
              "    .dataframe tbody tr th:only-of-type {\n",
              "        vertical-align: middle;\n",
              "    }\n",
              "\n",
              "    .dataframe tbody tr th {\n",
              "        vertical-align: top;\n",
              "    }\n",
              "\n",
              "    .dataframe thead th {\n",
              "        text-align: right;\n",
              "    }\n",
              "</style>\n",
              "<table border=\"1\" class=\"dataframe\">\n",
              "  <thead>\n",
              "    <tr style=\"text-align: right;\">\n",
              "      <th></th>\n",
              "      <th>event_name</th>\n",
              "    </tr>\n",
              "    <tr>\n",
              "      <th>id</th>\n",
              "      <th></th>\n",
              "    </tr>\n",
              "  </thead>\n",
              "  <tbody>\n",
              "    <tr>\n",
              "      <th>6304868067479728361</th>\n",
              "      <td>2307</td>\n",
              "    </tr>\n",
              "    <tr>\n",
              "      <th>197027893265565660</th>\n",
              "      <td>1998</td>\n",
              "    </tr>\n",
              "    <tr>\n",
              "      <th>4623191541214045580</th>\n",
              "      <td>1768</td>\n",
              "    </tr>\n",
              "    <tr>\n",
              "      <th>6932517045703054087</th>\n",
              "      <td>1439</td>\n",
              "    </tr>\n",
              "    <tr>\n",
              "      <th>1754140665440434215</th>\n",
              "      <td>1221</td>\n",
              "    </tr>\n",
              "    <tr>\n",
              "      <th>3337471580007169353</th>\n",
              "      <td>1186</td>\n",
              "    </tr>\n",
              "    <tr>\n",
              "      <th>7738058666231999878</th>\n",
              "      <td>888</td>\n",
              "    </tr>\n",
              "    <tr>\n",
              "      <th>1055544042902443290</th>\n",
              "      <td>854</td>\n",
              "    </tr>\n",
              "    <tr>\n",
              "      <th>4713748699910253089</th>\n",
              "      <td>824</td>\n",
              "    </tr>\n",
              "    <tr>\n",
              "      <th>8118046800480174342</th>\n",
              "      <td>755</td>\n",
              "    </tr>\n",
              "  </tbody>\n",
              "</table>\n",
              "</div>"
            ],
            "text/plain": [
              "                     event_name\n",
              "id                             \n",
              "6304868067479728361        2307\n",
              "197027893265565660         1998\n",
              "4623191541214045580        1768\n",
              "6932517045703054087        1439\n",
              "1754140665440434215        1221\n",
              "3337471580007169353        1186\n",
              "7738058666231999878         888\n",
              "1055544042902443290         854\n",
              "4713748699910253089         824\n",
              "8118046800480174342         755"
            ]
          },
          "metadata": {},
          "execution_count": 15
        }
      ]
    },
    {
      "cell_type": "code",
      "metadata": {
        "colab": {
          "base_uri": "https://localhost:8080/"
        },
        "id": "Sem32TdbfJBh",
        "outputId": "6ddc44fe-a5f0-4af4-c764-3a3c6c76ebe4"
      },
      "source": [
        "print('Количество событий в среднем приходящихся на одного пользователя: {:.2f}'.\\\n",
        "      format(data_logs['event_name'].count() / data_logs['id'].nunique()))\n",
        "\n",
        "print('Медианное количество событий приходящихся на одного пользователя: {:.2f}'.\\\n",
        "      format(int(data_logs.groupby('id').agg({'event_name':'count'}).sort_values('event_name', ascending=False).median())))\n",
        "\n",
        "print('Количество уникальных событий в среднем приходящихся на одного пользователя: {:.2f}'.\\\n",
        "      format(data_logs.groupby('event_name')['id'].nunique().sum() / data_logs['id'].nunique()))"
      ],
      "execution_count": 16,
      "outputs": [
        {
          "output_type": "stream",
          "name": "stdout",
          "text": [
            "Количество событий в среднем приходящихся на одного пользователя: 32.28\n",
            "Медианное количество событий приходящихся на одного пользователя: 20.00\n",
            "Количество уникальных событий в среднем приходящихся на одного пользователя: 2.67\n"
          ]
        }
      ]
    },
    {
      "cell_type": "code",
      "metadata": {
        "colab": {
          "base_uri": "https://localhost:8080/",
          "height": 295
        },
        "id": "ceJ9M-mefJBj",
        "outputId": "cc3c9735-a30a-4054-9f15-312be1f9ae8f"
      },
      "source": [
        "data_logs.groupby('id').agg({'event_name':'count'}).\\\n",
        "    hist(bins=75, range=(0,75), figsize=(8,4))\n",
        "plt.title('Гистограмма распределения количества событий на пользователя')\n",
        "plt.xlabel('Количество событий')\n",
        "plt.ylabel('Количество пользователей')\n",
        "plt.show()"
      ],
      "execution_count": 17,
      "outputs": [
        {
          "output_type": "display_data",
          "data": {
            "image/png": "[encoded data removed]",
            "text/plain": [
              "<Figure size 576x288 with 1 Axes>"
            ]
          },
          "metadata": {
            "needs_background": "light"
          }
        }
      ]
    },
    {
      "cell_type": "markdown",
      "metadata": {
        "id": "Ev3S-cO0fJBj"
      },
      "source": [
        "В среднем на одного уникального пользователя приходится 32.28 события, при этом медианная величина равна 20 событиям. Данные сильные различия обусловлены сильными выбросами. Так, например, максимальное количество событий у одного пользователя равно 2307 собыиям.\n",
        "\n",
        "На гистограмме пик у пользователей приходится на 5 событий с дальнейшим постепенным снижением.\n",
        "\n",
        "<a id='section2_4'> <a/>"
      ]
    },
    {
      "cell_type": "markdown",
      "metadata": {
        "id": "vJSWkhNFfJBk"
      },
      "source": [
        "2.4 Изучение временного периода получения данных"
      ]
    },
    {
      "cell_type": "code",
      "metadata": {
        "colab": {
          "base_uri": "https://localhost:8080/"
        },
        "id": "ZEy7m81EfJBl",
        "outputId": "ce1735bf-0c41-4208-ca02-e97a6857e0c8"
      },
      "source": [
        "print('Минимальная дата в данных: {}'.format(data_logs['event_time'].min()))\n",
        "print('Максимальная дата в данных: {}'.format(data_logs['event_time'].max()))"
      ],
      "execution_count": 18,
      "outputs": [
        {
          "output_type": "stream",
          "name": "stdout",
          "text": [
            "Минимальная дата в данных: 2019-07-25 04:43:36\n",
            "Максимальная дата в данных: 2019-08-07 21:15:17\n"
          ]
        }
      ]
    },
    {
      "cell_type": "code",
      "metadata": {
        "colab": {
          "base_uri": "https://localhost:8080/",
          "height": 281
        },
        "id": "gMKQMQOefJBm",
        "outputId": "81b7420c-ff12-4140-b438-f725743112eb"
      },
      "source": [
        "data_logs['event_time'].hist(bins=120, figsize=(16,4))\n",
        "plt.title('Временной период получения данных')\n",
        "plt.xlabel('')\n",
        "plt.ylabel('Количество событий')\n",
        "plt.show()"
      ],
      "execution_count": 19,
      "outputs": [
        {
          "output_type": "display_data",
          "data": {
            "image/png": "[encoded data removed]",
            "text/plain": [
              "<Figure size 1152x288 with 1 Axes>"
            ]
          },
          "metadata": {
            "needs_background": "light"
          }
        }
      ]
    },
    {
      "cell_type": "code",
      "metadata": {
        "id": "ZWmkuVb5fJBn"
      },
      "source": [
        "data_logs_clean = data_logs[data_logs['event_date'] >= '2019-08-01'].reset_index(drop=True)"
      ],
      "execution_count": 20,
      "outputs": []
    },
    {
      "cell_type": "markdown",
      "metadata": {
        "id": "khTNqHwZfJBo"
      },
      "source": [
        "Как мы видим основной массив данных начал поступать с 2019-08-01, данную дату можно считать началом эксперемента. Данные за более старый период мы исключили.\n",
        "\n",
        "<a id='section2_5'> <a/>"
      ]
    },
    {
      "cell_type": "markdown",
      "metadata": {
        "id": "E31A5AR7fJBq"
      },
      "source": [
        "2.5 Исследование отброшенных данных"
      ]
    },
    {
      "cell_type": "code",
      "metadata": {
        "colab": {
          "base_uri": "https://localhost:8080/",
          "height": 252
        },
        "id": "DtBD7Gj6fJBr",
        "outputId": "1f1562d1-5aa1-4fd2-b270-88cbb54f5138"
      },
      "source": [
        "print('Общее количество отброшенных событий:', data_logs[data_logs['event_date'] < '2019-08-01']['event_name'].count())\n",
        "\n",
        "# Количество отброшенных событий\n",
        "data_logs[data_logs['event_date'] < '2019-08-01'].groupby('event_name').agg({'id':'count'}).sort_values('id', ascending=False)"
      ],
      "execution_count": 21,
      "outputs": [
        {
          "output_type": "stream",
          "name": "stdout",
          "text": [
            "Общее количество отброшенных событий: 2826\n"
          ]
        },
        {
          "output_type": "execute_result",
          "data": {
            "text/html": [
              "<div>\n",
              "<style scoped>\n",
              "    .dataframe tbody tr th:only-of-type {\n",
              "        vertical-align: middle;\n",
              "    }\n",
              "\n",
              "    .dataframe tbody tr th {\n",
              "        vertical-align: top;\n",
              "    }\n",
              "\n",
              "    .dataframe thead th {\n",
              "        text-align: right;\n",
              "    }\n",
              "</style>\n",
              "<table border=\"1\" class=\"dataframe\">\n",
              "  <thead>\n",
              "    <tr style=\"text-align: right;\">\n",
              "      <th></th>\n",
              "      <th>id</th>\n",
              "    </tr>\n",
              "    <tr>\n",
              "      <th>event_name</th>\n",
              "      <th></th>\n",
              "    </tr>\n",
              "  </thead>\n",
              "  <tbody>\n",
              "    <tr>\n",
              "      <th>MainScreenAppear</th>\n",
              "      <td>1773</td>\n",
              "    </tr>\n",
              "    <tr>\n",
              "      <th>OffersScreenAppear</th>\n",
              "      <td>475</td>\n",
              "    </tr>\n",
              "    <tr>\n",
              "      <th>CartScreenAppear</th>\n",
              "      <td>365</td>\n",
              "    </tr>\n",
              "    <tr>\n",
              "      <th>PaymentScreenSuccessful</th>\n",
              "      <td>200</td>\n",
              "    </tr>\n",
              "    <tr>\n",
              "      <th>Tutorial</th>\n",
              "      <td>13</td>\n",
              "    </tr>\n",
              "  </tbody>\n",
              "</table>\n",
              "</div>"
            ],
            "text/plain": [
              "                           id\n",
              "event_name                   \n",
              "MainScreenAppear         1773\n",
              "OffersScreenAppear        475\n",
              "CartScreenAppear          365\n",
              "PaymentScreenSuccessful   200\n",
              "Tutorial                   13"
            ]
          },
          "metadata": {},
          "execution_count": 21
        }
      ]
    },
    {
      "cell_type": "code",
      "metadata": {
        "colab": {
          "base_uri": "https://localhost:8080/"
        },
        "id": "7Lq_rOuafJBs",
        "outputId": "469d53b2-2ec9-4baf-8fe4-99091f197518"
      },
      "source": [
        "print('Процент отсеянных по дате данных: {:.2%}'.\\\n",
        "      format(len(data_logs[data_logs['event_date'] < '2019-08-01']) / len(data_logs)))"
      ],
      "execution_count": 22,
      "outputs": [
        {
          "output_type": "stream",
          "name": "stdout",
          "text": [
            "Процент отсеянных по дате данных: 1.16%\n"
          ]
        }
      ]
    },
    {
      "cell_type": "code",
      "metadata": {
        "colab": {
          "base_uri": "https://localhost:8080/"
        },
        "id": "gWT5t254fJBs",
        "outputId": "16a09a82-32af-47db-f804-302374c89438"
      },
      "source": [
        "print('Количество отсеянных уникальных пользователей: {}'.\\\n",
        "      format(data_logs['id'].nunique() - data_logs_clean['id'].nunique()))"
      ],
      "execution_count": 23,
      "outputs": [
        {
          "output_type": "stream",
          "name": "stdout",
          "text": [
            "Количество отсеянных уникальных пользователей: 17\n"
          ]
        }
      ]
    },
    {
      "cell_type": "markdown",
      "metadata": {
        "id": "FHU1HBTYfJBu"
      },
      "source": [
        "По дате нами было отсеяно еще 2826 событий, что составляет 1.16% от общего числа. Количество уникальных пользователей стало меньше на 17 пользователей. \n",
        "\n",
        "<a id='section2_6'> <a/>"
      ]
    },
    {
      "cell_type": "markdown",
      "metadata": {
        "id": "euHPc2vCfJBu"
      },
      "source": [
        "2.6 Проверка количества пользователей эксперементальных групп"
      ]
    },
    {
      "cell_type": "code",
      "metadata": {
        "colab": {
          "base_uri": "https://localhost:8080/"
        },
        "id": "WRHkNNGsfJBv",
        "outputId": "3b08e845-bb31-466f-d3de-e0131794d8ca"
      },
      "source": [
        "data_logs_clean.groupby('exp_id')['id'].count()"
      ],
      "execution_count": 24,
      "outputs": [
        {
          "output_type": "execute_result",
          "data": {
            "text/plain": [
              "exp_id\n",
              "246    79302\n",
              "247    77022\n",
              "248    84563\n",
              "Name: id, dtype: int64"
            ]
          },
          "metadata": {},
          "execution_count": 24
        }
      ]
    },
    {
      "cell_type": "markdown",
      "metadata": {
        "id": "w3-dyIjMfJBw"
      },
      "source": [
        "### Вывод"
      ]
    },
    {
      "cell_type": "markdown",
      "metadata": {
        "id": "jM8EH01vfJBx"
      },
      "source": [
        "В ходе проверки поступивших данных было замечено, что часть информации поступила к нам еще до начала эксперемента. За отсчет начала эксперемента было взято 1 августа 2019 года, боле ранние данные были отсеяны. Общее количество отброшенных событий составляет 2826 события. Это равно 1.16%  от общего числа.\n",
        "\n",
        "В среднем на одного уникального пользователя приходится 32.28 события, при этом медианная величина равна 20 событиям. Данные сильные различия обусловлены сильными выбросами. Всего в датафрейме представлено  7551 уникальных пользовелей.\n",
        "\n",
        "<a id='section3'> <a/>"
      ]
    },
    {
      "cell_type": "markdown",
      "metadata": {
        "id": "dUxGTOEmfJBy"
      },
      "source": [
        "## 3. Воронка событий\n",
        "\n",
        "<a id='section3_1'> <a/>"
      ]
    },
    {
      "cell_type": "markdown",
      "metadata": {
        "id": "0DgMyITOfJBz"
      },
      "source": [
        "3.1 Сгрупированная таблица с количеством пользователей, количеством событий и долей пользователей от общего количества"
      ]
    },
    {
      "cell_type": "code",
      "metadata": {
        "colab": {
          "base_uri": "https://localhost:8080/",
          "height": 235
        },
        "id": "VesnmGCAfJB0",
        "outputId": "3056496a-7899-4374-97b4-d7e5e3f64170"
      },
      "source": [
        "data_grouped = data_logs_clean.\\\n",
        "    groupby('event_name').\\\n",
        "    agg({'id':'nunique', 'event_date':'count'}).\\\n",
        "    rename(columns={'id':'users', 'event_date':'events'}).\\\n",
        "    sort_values('events', ascending=False)\n",
        "\n",
        "data_grouped['prop.'] = (data_grouped['users'] / data_logs_clean['id'].nunique()).round(4)\n",
        "\n",
        "data_grouped"
      ],
      "execution_count": 25,
      "outputs": [
        {
          "output_type": "execute_result",
          "data": {
            "text/html": [
              "<div>\n",
              "<style scoped>\n",
              "    .dataframe tbody tr th:only-of-type {\n",
              "        vertical-align: middle;\n",
              "    }\n",
              "\n",
              "    .dataframe tbody tr th {\n",
              "        vertical-align: top;\n",
              "    }\n",
              "\n",
              "    .dataframe thead th {\n",
              "        text-align: right;\n",
              "    }\n",
              "</style>\n",
              "<table border=\"1\" class=\"dataframe\">\n",
              "  <thead>\n",
              "    <tr style=\"text-align: right;\">\n",
              "      <th></th>\n",
              "      <th>users</th>\n",
              "      <th>events</th>\n",
              "      <th>prop.</th>\n",
              "    </tr>\n",
              "    <tr>\n",
              "      <th>event_name</th>\n",
              "      <th></th>\n",
              "      <th></th>\n",
              "      <th></th>\n",
              "    </tr>\n",
              "  </thead>\n",
              "  <tbody>\n",
              "    <tr>\n",
              "      <th>MainScreenAppear</th>\n",
              "      <td>7419</td>\n",
              "      <td>117328</td>\n",
              "      <td>0.9847</td>\n",
              "    </tr>\n",
              "    <tr>\n",
              "      <th>OffersScreenAppear</th>\n",
              "      <td>4593</td>\n",
              "      <td>46333</td>\n",
              "      <td>0.6096</td>\n",
              "    </tr>\n",
              "    <tr>\n",
              "      <th>CartScreenAppear</th>\n",
              "      <td>3734</td>\n",
              "      <td>42303</td>\n",
              "      <td>0.4956</td>\n",
              "    </tr>\n",
              "    <tr>\n",
              "      <th>PaymentScreenSuccessful</th>\n",
              "      <td>3539</td>\n",
              "      <td>33918</td>\n",
              "      <td>0.4697</td>\n",
              "    </tr>\n",
              "    <tr>\n",
              "      <th>Tutorial</th>\n",
              "      <td>840</td>\n",
              "      <td>1005</td>\n",
              "      <td>0.1115</td>\n",
              "    </tr>\n",
              "  </tbody>\n",
              "</table>\n",
              "</div>"
            ],
            "text/plain": [
              "                         users  events   prop.\n",
              "event_name                                    \n",
              "MainScreenAppear          7419  117328  0.9847\n",
              "OffersScreenAppear        4593   46333  0.6096\n",
              "CartScreenAppear          3734   42303  0.4956\n",
              "PaymentScreenSuccessful   3539   33918  0.4697\n",
              "Tutorial                   840    1005  0.1115"
            ]
          },
          "metadata": {},
          "execution_count": 25
        }
      ]
    },
    {
      "cell_type": "markdown",
      "metadata": {
        "id": "l8j0bAYCfJB0"
      },
      "source": [
        "Логичено предполодить, что события происходят в следующем порядке: \"MainScreenAppear\">\"OffersScreenAppear\">\"CartScreenAppear\">\"PaymentScreenSuccessful\".  \n",
        "Событие \"Tutorial\" не втраивается в последовательную цепочку, т.к. является обособленным действием. Оно не является начальным, промежуточным или завершающим событием, соответственно ее не нужно учитывать при построении воронки событий.\n",
        "\n",
        "<a id='section3_2'> <a/>"
      ]
    },
    {
      "cell_type": "markdown",
      "metadata": {
        "id": "ZjSdkHg7fJB3"
      },
      "source": [
        "3.2 Воронка событий"
      ]
    },
    {
      "cell_type": "code",
      "metadata": {
        "scrolled": false,
        "colab": {
          "base_uri": "https://localhost:8080/",
          "height": 542
        },
        "id": "jYyV0h06fJB4",
        "outputId": "e94f5c93-ede8-45c8-f6ee-e194467d5dbd"
      },
      "source": [
        "fig = go.Figure(go.Funnel(\n",
        "    y = [\"Главный экран\",\"Предложение\", \"Корзина\", \"Оплата\"],\n",
        "    x = [int(data_grouped['users'][:1]),\n",
        "         int(data_grouped['users'][1:2]),\n",
        "         int(data_grouped['users'][2:3]),\n",
        "         int(data_grouped['users'][3:4])]\n",
        "    ))\n",
        "fig.show()"
      ],
      "execution_count": 26,
      "outputs": [
        {
          "output_type": "display_data",
          "data": {
            "text/html": [
              "<html>\n",
              "<head><meta charset=\"utf-8\" /></head>\n",
              "<body>\n",
              "    <div>\n",
              "            <script src=\"https://cdnjs.cloudflare.com/ajax/libs/mathjax/2.7.5/MathJax.js?config=TeX-AMS-MML_SVG\"></script><script type=\"text/javascript\">if (window.MathJax) {MathJax.Hub.Config({SVG: {font: \"STIX-Web\"}});}</script>\n",
              "                <script type=\"text/javascript\">window.PlotlyConfig = {MathJaxConfig: 'local'};</script>\n",
              "        <script src=\"https://cdn.plot.ly/plotly-latest.min.js\"></script>    \n",
              "            <div id=\"4cb24267-a7b9-4fed-a3c6-e6bcd35f081e\" class=\"plotly-graph-div\" style=\"height:525px; width:100%;\"></div>\n",
              "            <script type=\"text/javascript\">\n",
              "                \n",
              "                    window.PLOTLYENV=window.PLOTLYENV || {};\n",
              "                    \n",
              "                if (document.getElementById(\"4cb24267-a7b9-4fed-a3c6-e6bcd35f081e\")) {\n",
              "                    Plotly.newPlot(\n",
              "                        '4cb24267-a7b9-4fed-a3c6-e6bcd35f081e',\n",
              "                        [{\"type\": \"funnel\", \"x\": [7419, 4593, 3734, 3539], \"y\": [\"\\u0413\\u043b\\u0430\\u0432\\u043d\\u044b\\u0439 \\u044d\\u043a\\u0440\\u0430\\u043d\", \"\\u041f\\u0440\\u0435\\u0434\\u043b\\u043e\\u0436\\u0435\\u043d\\u0438\\u0435\", \"\\u041a\\u043e\\u0440\\u0437\\u0438\\u043d\\u0430\", \"\\u041e\\u043f\\u043b\\u0430\\u0442\\u0430\"]}],\n",
              "                        {\"template\": {\"data\": {\"bar\": [{\"error_x\": {\"color\": \"#2a3f5f\"}, \"error_y\": {\"color\": \"#2a3f5f\"}, \"marker\": {\"line\": {\"color\": \"#E5ECF6\", \"width\": 0.5}}, \"type\": \"bar\"}], \"barpolar\": [{\"marker\": {\"line\": {\"color\": \"#E5ECF6\", \"width\": 0.5}}, \"type\": \"barpolar\"}], \"carpet\": [{\"aaxis\": {\"endlinecolor\": \"#2a3f5f\", \"gridcolor\": \"white\", \"linecolor\": \"white\", \"minorgridcolor\": \"white\", \"startlinecolor\": \"#2a3f5f\"}, \"baxis\": {\"endlinecolor\": \"#2a3f5f\", \"gridcolor\": \"white\", \"linecolor\": \"white\", \"minorgridcolor\": \"white\", \"startlinecolor\": \"#2a3f5f\"}, \"type\": \"carpet\"}], \"choropleth\": [{\"colorbar\": {\"outlinewidth\": 0, \"ticks\": \"\"}, \"type\": \"choropleth\"}], \"contour\": [{\"colorbar\": {\"outlinewidth\": 0, \"ticks\": \"\"}, \"colorscale\": [[0.0, \"#0d0887\"], [0.1111111111111111, \"#46039f\"], [0.2222222222222222, \"#7201a8\"], [0.3333333333333333, \"#9c179e\"], [0.4444444444444444, \"#bd3786\"], [0.5555555555555556, \"#d8576b\"], [0.6666666666666666, \"#ed7953\"], [0.7777777777777778, \"#fb9f3a\"], [0.8888888888888888, \"#fdca26\"], [1.0, \"#f0f921\"]], \"type\": \"contour\"}], \"contourcarpet\": [{\"colorbar\": {\"outlinewidth\": 0, \"ticks\": \"\"}, \"type\": \"contourcarpet\"}], \"heatmap\": [{\"colorbar\": {\"outlinewidth\": 0, \"ticks\": \"\"}, \"colorscale\": [[0.0, \"#0d0887\"], [0.1111111111111111, \"#46039f\"], [0.2222222222222222, \"#7201a8\"], [0.3333333333333333, \"#9c179e\"], [0.4444444444444444, \"#bd3786\"], [0.5555555555555556, \"#d8576b\"], [0.6666666666666666, \"#ed7953\"], [0.7777777777777778, \"#fb9f3a\"], [0.8888888888888888, \"#fdca26\"], [1.0, \"#f0f921\"]], \"type\": \"heatmap\"}], \"heatmapgl\": [{\"colorbar\": {\"outlinewidth\": 0, \"ticks\": \"\"}, \"colorscale\": [[0.0, \"#0d0887\"], [0.1111111111111111, \"#46039f\"], [0.2222222222222222, \"#7201a8\"], [0.3333333333333333, \"#9c179e\"], [0.4444444444444444, \"#bd3786\"], [0.5555555555555556, \"#d8576b\"], [0.6666666666666666, \"#ed7953\"], [0.7777777777777778, \"#fb9f3a\"], [0.8888888888888888, \"#fdca26\"], [1.0, \"#f0f921\"]], \"type\": \"heatmapgl\"}], \"histogram\": [{\"marker\": {\"colorbar\": {\"outlinewidth\": 0, \"ticks\": \"\"}}, \"type\": \"histogram\"}], \"histogram2d\": [{\"colorbar\": {\"outlinewidth\": 0, \"ticks\": \"\"}, \"colorscale\": [[0.0, \"#0d0887\"], [0.1111111111111111, \"#46039f\"], [0.2222222222222222, \"#7201a8\"], [0.3333333333333333, \"#9c179e\"], [0.4444444444444444, \"#bd3786\"], [0.5555555555555556, \"#d8576b\"], [0.6666666666666666, \"#ed7953\"], [0.7777777777777778, \"#fb9f3a\"], [0.8888888888888888, \"#fdca26\"], [1.0, \"#f0f921\"]], \"type\": \"histogram2d\"}], \"histogram2dcontour\": [{\"colorbar\": {\"outlinewidth\": 0, \"ticks\": \"\"}, \"colorscale\": [[0.0, \"#0d0887\"], [0.1111111111111111, \"#46039f\"], [0.2222222222222222, \"#7201a8\"], [0.3333333333333333, \"#9c179e\"], [0.4444444444444444, \"#bd3786\"], [0.5555555555555556, \"#d8576b\"], [0.6666666666666666, \"#ed7953\"], [0.7777777777777778, \"#fb9f3a\"], [0.8888888888888888, \"#fdca26\"], [1.0, \"#f0f921\"]], \"type\": \"histogram2dcontour\"}], \"mesh3d\": [{\"colorbar\": {\"outlinewidth\": 0, \"ticks\": \"\"}, \"type\": \"mesh3d\"}], \"parcoords\": [{\"line\": {\"colorbar\": {\"outlinewidth\": 0, \"ticks\": \"\"}}, \"type\": \"parcoords\"}], \"pie\": [{\"automargin\": true, \"type\": \"pie\"}], \"scatter\": [{\"marker\": {\"colorbar\": {\"outlinewidth\": 0, \"ticks\": \"\"}}, \"type\": \"scatter\"}], \"scatter3d\": [{\"line\": {\"colorbar\": {\"outlinewidth\": 0, \"ticks\": \"\"}}, \"marker\": {\"colorbar\": {\"outlinewidth\": 0, \"ticks\": \"\"}}, \"type\": \"scatter3d\"}], \"scattercarpet\": [{\"marker\": {\"colorbar\": {\"outlinewidth\": 0, \"ticks\": \"\"}}, \"type\": \"scattercarpet\"}], \"scattergeo\": [{\"marker\": {\"colorbar\": {\"outlinewidth\": 0, \"ticks\": \"\"}}, \"type\": \"scattergeo\"}], \"scattergl\": [{\"marker\": {\"colorbar\": {\"outlinewidth\": 0, \"ticks\": \"\"}}, \"type\": \"scattergl\"}], \"scattermapbox\": [{\"marker\": {\"colorbar\": {\"outlinewidth\": 0, \"ticks\": \"\"}}, \"type\": \"scattermapbox\"}], \"scatterpolar\": [{\"marker\": {\"colorbar\": {\"outlinewidth\": 0, \"ticks\": \"\"}}, \"type\": \"scatterpolar\"}], \"scatterpolargl\": [{\"marker\": {\"colorbar\": {\"outlinewidth\": 0, \"ticks\": \"\"}}, \"type\": \"scatterpolargl\"}], \"scatterternary\": [{\"marker\": {\"colorbar\": {\"outlinewidth\": 0, \"ticks\": \"\"}}, \"type\": \"scatterternary\"}], \"surface\": [{\"colorbar\": {\"outlinewidth\": 0, \"ticks\": \"\"}, \"colorscale\": [[0.0, \"#0d0887\"], [0.1111111111111111, \"#46039f\"], [0.2222222222222222, \"#7201a8\"], [0.3333333333333333, \"#9c179e\"], [0.4444444444444444, \"#bd3786\"], [0.5555555555555556, \"#d8576b\"], [0.6666666666666666, \"#ed7953\"], [0.7777777777777778, \"#fb9f3a\"], [0.8888888888888888, \"#fdca26\"], [1.0, \"#f0f921\"]], \"type\": \"surface\"}], \"table\": [{\"cells\": {\"fill\": {\"color\": \"#EBF0F8\"}, \"line\": {\"color\": \"white\"}}, \"header\": {\"fill\": {\"color\": \"#C8D4E3\"}, \"line\": {\"color\": \"white\"}}, \"type\": \"table\"}]}, \"layout\": {\"annotationdefaults\": {\"arrowcolor\": \"#2a3f5f\", \"arrowhead\": 0, \"arrowwidth\": 1}, \"coloraxis\": {\"colorbar\": {\"outlinewidth\": 0, \"ticks\": \"\"}}, \"colorscale\": {\"diverging\": [[0, \"#8e0152\"], [0.1, \"#c51b7d\"], [0.2, \"#de77ae\"], [0.3, \"#f1b6da\"], [0.4, \"#fde0ef\"], [0.5, \"#f7f7f7\"], [0.6, \"#e6f5d0\"], [0.7, \"#b8e186\"], [0.8, \"#7fbc41\"], [0.9, \"#4d9221\"], [1, \"#276419\"]], \"sequential\": [[0.0, \"#0d0887\"], [0.1111111111111111, \"#46039f\"], [0.2222222222222222, \"#7201a8\"], [0.3333333333333333, \"#9c179e\"], [0.4444444444444444, \"#bd3786\"], [0.5555555555555556, \"#d8576b\"], [0.6666666666666666, \"#ed7953\"], [0.7777777777777778, \"#fb9f3a\"], [0.8888888888888888, \"#fdca26\"], [1.0, \"#f0f921\"]], \"sequentialminus\": [[0.0, \"#0d0887\"], [0.1111111111111111, \"#46039f\"], [0.2222222222222222, \"#7201a8\"], [0.3333333333333333, \"#9c179e\"], [0.4444444444444444, \"#bd3786\"], [0.5555555555555556, \"#d8576b\"], [0.6666666666666666, \"#ed7953\"], [0.7777777777777778, \"#fb9f3a\"], [0.8888888888888888, \"#fdca26\"], [1.0, \"#f0f921\"]]}, \"colorway\": [\"#636efa\", \"#EF553B\", \"#00cc96\", \"#ab63fa\", \"#FFA15A\", \"#19d3f3\", \"#FF6692\", \"#B6E880\", \"#FF97FF\", \"#FECB52\"], \"font\": {\"color\": \"#2a3f5f\"}, \"geo\": {\"bgcolor\": \"white\", \"lakecolor\": \"white\", \"landcolor\": \"#E5ECF6\", \"showlakes\": true, \"showland\": true, \"subunitcolor\": \"white\"}, \"hoverlabel\": {\"align\": \"left\"}, \"hovermode\": \"closest\", \"mapbox\": {\"style\": \"light\"}, \"paper_bgcolor\": \"white\", \"plot_bgcolor\": \"#E5ECF6\", \"polar\": {\"angularaxis\": {\"gridcolor\": \"white\", \"linecolor\": \"white\", \"ticks\": \"\"}, \"bgcolor\": \"#E5ECF6\", \"radialaxis\": {\"gridcolor\": \"white\", \"linecolor\": \"white\", \"ticks\": \"\"}}, \"scene\": {\"xaxis\": {\"backgroundcolor\": \"#E5ECF6\", \"gridcolor\": \"white\", \"gridwidth\": 2, \"linecolor\": \"white\", \"showbackground\": true, \"ticks\": \"\", \"zerolinecolor\": \"white\"}, \"yaxis\": {\"backgroundcolor\": \"#E5ECF6\", \"gridcolor\": \"white\", \"gridwidth\": 2, \"linecolor\": \"white\", \"showbackground\": true, \"ticks\": \"\", \"zerolinecolor\": \"white\"}, \"zaxis\": {\"backgroundcolor\": \"#E5ECF6\", \"gridcolor\": \"white\", \"gridwidth\": 2, \"linecolor\": \"white\", \"showbackground\": true, \"ticks\": \"\", \"zerolinecolor\": \"white\"}}, \"shapedefaults\": {\"line\": {\"color\": \"#2a3f5f\"}}, \"ternary\": {\"aaxis\": {\"gridcolor\": \"white\", \"linecolor\": \"white\", \"ticks\": \"\"}, \"baxis\": {\"gridcolor\": \"white\", \"linecolor\": \"white\", \"ticks\": \"\"}, \"bgcolor\": \"#E5ECF6\", \"caxis\": {\"gridcolor\": \"white\", \"linecolor\": \"white\", \"ticks\": \"\"}}, \"title\": {\"x\": 0.05}, \"xaxis\": {\"automargin\": true, \"gridcolor\": \"white\", \"linecolor\": \"white\", \"ticks\": \"\", \"title\": {\"standoff\": 15}, \"zerolinecolor\": \"white\", \"zerolinewidth\": 2}, \"yaxis\": {\"automargin\": true, \"gridcolor\": \"white\", \"linecolor\": \"white\", \"ticks\": \"\", \"title\": {\"standoff\": 15}, \"zerolinecolor\": \"white\", \"zerolinewidth\": 2}}}},\n",
              "                        {\"responsive\": true}\n",
              "                    ).then(function(){\n",
              "                            \n",
              "var gd = document.getElementById('4cb24267-a7b9-4fed-a3c6-e6bcd35f081e');\n",
              "var x = new MutationObserver(function (mutations, observer) {{\n",
              "        var display = window.getComputedStyle(gd).display;\n",
              "        if (!display || display === 'none') {{\n",
              "            console.log([gd, 'removed!']);\n",
              "            Plotly.purge(gd);\n",
              "            observer.disconnect();\n",
              "        }}\n",
              "}});\n",
              "\n",
              "// Listen for the removal of the full notebook cells\n",
              "var notebookContainer = gd.closest('#notebook-container');\n",
              "if (notebookContainer) {{\n",
              "    x.observe(notebookContainer, {childList: true});\n",
              "}}\n",
              "\n",
              "// Listen for the clearing of the current output cell\n",
              "var outputEl = gd.closest('.output');\n",
              "if (outputEl) {{\n",
              "    x.observe(outputEl, {childList: true});\n",
              "}}\n",
              "\n",
              "                        })\n",
              "                };\n",
              "                \n",
              "            </script>\n",
              "        </div>\n",
              "</body>\n",
              "</html>"
            ]
          },
          "metadata": {}
        }
      ]
    },
    {
      "cell_type": "markdown",
      "metadata": {
        "id": "t1kxd7SffJB5"
      },
      "source": [
        "### Вывод"
      ]
    },
    {
      "cell_type": "markdown",
      "metadata": {
        "id": "KkWoJs8SfJB6"
      },
      "source": [
        "В данном разделе было определено, что события происходят в следующем порядке: \"MainScreenAppear\">\"OffersScreenAppear\">\"CartScreenAppear\">\"PaymentScreenSuccessful\".\n",
        "Событие \"Tutorial\" не втраивается в данную последовательную цепочку.\n",
        "\n",
        "При этом, изучая воронку событий видно, что наибольшее количество пользователей теряется при переходе от события \"MainScreenAppear\" к событию \"OffersScreenAppear\" (потеря 38% относительно \"MainScreenAppear\"). Доля пользователей, прошедших всю воронку составляет 47.7%.\n",
        "\n",
        "<a id='section4'> <a/>"
      ]
    },
    {
      "cell_type": "markdown",
      "metadata": {
        "id": "s6ickpK0fJB7"
      },
      "source": [
        "## 4. Проверка на равенство долей\n",
        "\n",
        "<a id='section4_1'> <a/>"
      ]
    },
    {
      "cell_type": "markdown",
      "metadata": {
        "id": "F9bOgveefJB7"
      },
      "source": [
        "4.1 Количество пользователей в эксперементальных группах. Добавление новых колонок к data_grouped"
      ]
    },
    {
      "cell_type": "code",
      "metadata": {
        "colab": {
          "base_uri": "https://localhost:8080/"
        },
        "id": "394dIHmmfJCb",
        "outputId": "85bcb6c2-b4b3-49d5-d1ec-fb1fb5287d74"
      },
      "source": [
        "n_users_А1 = data_logs_clean[data_logs_clean['exp_id'] == 246]['id'].nunique()\n",
        "print('В эксперементальной группе А1 {} уникальных пользователей'.format(n_users_А1))\n",
        "\n",
        "n_users_А2 = data_logs_clean[data_logs_clean['exp_id'] == 247]['id'].nunique()\n",
        "print('В эксперементальной группе А2 {} уникальных пользователей'.format(n_users_А2))\n",
        "\n",
        "n_users_B = data_logs_clean[data_logs_clean['exp_id'] == 248]['id'].nunique()\n",
        "print('В эксперементальной группе B {} уникальных пользователей'.format(n_users_B))\n",
        "\n",
        "n_users_AA = n_users_А1 + n_users_А2\n",
        "print('В объединенной эксперементальной группе АА {} уникальных пользователей'.format(n_users_AA))"
      ],
      "execution_count": 27,
      "outputs": [
        {
          "output_type": "stream",
          "name": "stdout",
          "text": [
            "В эксперементальной группе А1 2484 уникальных пользователей\n",
            "В эксперементальной группе А2 2513 уникальных пользователей\n",
            "В эксперементальной группе B 2537 уникальных пользователей\n",
            "В объединенной эксперементальной группе АА 4997 уникальных пользователей\n"
          ]
        }
      ]
    },
    {
      "cell_type": "code",
      "metadata": {
        "scrolled": true,
        "colab": {
          "base_uri": "https://localhost:8080/",
          "height": 235
        },
        "id": "uGYYBynwfJCc",
        "outputId": "990db598-86c0-42ad-c4f5-bdcfab3336be"
      },
      "source": [
        "# Добавление новых колонок к data_grouped.\n",
        "# Количество пользователей, событий и доля пользователей от общего количества по группам\n",
        "\n",
        "data_grouped['prop., %'] = (data_grouped['users'] / data_logs_clean['id'].nunique()).round(4)\n",
        "\n",
        "data_grouped[['users A1','events A1']] = data_logs_clean[data_logs_clean['exp_id'] == 246].\\\n",
        "    groupby('event_name').\\\n",
        "    agg({'id':'nunique', 'event_date':'count'})\n",
        "data_grouped['prop.A1'] = (data_grouped['users A1'] / n_users_А1).round(4)\n",
        "\n",
        "data_grouped[['users A2','events A2']] = data_logs_clean[data_logs_clean['exp_id'] == 247].\\\n",
        "    groupby('event_name').\\\n",
        "    agg({'id':'nunique', 'event_date':'count'})\n",
        "data_grouped['prop.A2'] = (data_grouped['users A2'] / n_users_А2).round(4)\n",
        "\n",
        "data_grouped[['users B','events B']] = data_logs_clean[data_logs_clean['exp_id'] == 248].\\\n",
        "    groupby('event_name').\\\n",
        "    agg({'id':'nunique', 'event_date':'count'})\n",
        "data_grouped['prop.B'] = (data_grouped['users B'] / n_users_B).round(4)\n",
        "\n",
        "data_grouped['users AA'] = data_grouped['users A1'] + data_grouped['users A2']\n",
        "data_grouped['events AA'] = data_grouped['events A1'] + data_grouped['events A2']\n",
        "data_grouped['prop.AA'] = (data_grouped['users AA'] / n_users_AA).round(4)\n",
        "\n",
        "data_grouped"
      ],
      "execution_count": 28,
      "outputs": [
        {
          "output_type": "execute_result",
          "data": {
            "text/html": [
              "<div>\n",
              "<style scoped>\n",
              "    .dataframe tbody tr th:only-of-type {\n",
              "        vertical-align: middle;\n",
              "    }\n",
              "\n",
              "    .dataframe tbody tr th {\n",
              "        vertical-align: top;\n",
              "    }\n",
              "\n",
              "    .dataframe thead th {\n",
              "        text-align: right;\n",
              "    }\n",
              "</style>\n",
              "<table border=\"1\" class=\"dataframe\">\n",
              "  <thead>\n",
              "    <tr style=\"text-align: right;\">\n",
              "      <th></th>\n",
              "      <th>users</th>\n",
              "      <th>events</th>\n",
              "      <th>prop.</th>\n",
              "      <th>prop., %</th>\n",
              "      <th>users A1</th>\n",
              "      <th>events A1</th>\n",
              "      <th>prop.A1</th>\n",
              "      <th>users A2</th>\n",
              "      <th>events A2</th>\n",
              "      <th>prop.A2</th>\n",
              "      <th>users B</th>\n",
              "      <th>events B</th>\n",
              "      <th>prop.B</th>\n",
              "      <th>users AA</th>\n",
              "      <th>events AA</th>\n",
              "      <th>prop.AA</th>\n",
              "    </tr>\n",
              "    <tr>\n",
              "      <th>event_name</th>\n",
              "      <th></th>\n",
              "      <th></th>\n",
              "      <th></th>\n",
              "      <th></th>\n",
              "      <th></th>\n",
              "      <th></th>\n",
              "      <th></th>\n",
              "      <th></th>\n",
              "      <th></th>\n",
              "      <th></th>\n",
              "      <th></th>\n",
              "      <th></th>\n",
              "      <th></th>\n",
              "      <th></th>\n",
              "      <th></th>\n",
              "      <th></th>\n",
              "    </tr>\n",
              "  </thead>\n",
              "  <tbody>\n",
              "    <tr>\n",
              "      <th>MainScreenAppear</th>\n",
              "      <td>7419</td>\n",
              "      <td>117328</td>\n",
              "      <td>0.9847</td>\n",
              "      <td>0.9847</td>\n",
              "      <td>2450</td>\n",
              "      <td>37676</td>\n",
              "      <td>0.9863</td>\n",
              "      <td>2476</td>\n",
              "      <td>39090</td>\n",
              "      <td>0.9853</td>\n",
              "      <td>2493</td>\n",
              "      <td>40562</td>\n",
              "      <td>0.9827</td>\n",
              "      <td>4926</td>\n",
              "      <td>76766</td>\n",
              "      <td>0.9858</td>\n",
              "    </tr>\n",
              "    <tr>\n",
              "      <th>OffersScreenAppear</th>\n",
              "      <td>4593</td>\n",
              "      <td>46333</td>\n",
              "      <td>0.6096</td>\n",
              "      <td>0.6096</td>\n",
              "      <td>1542</td>\n",
              "      <td>14767</td>\n",
              "      <td>0.6208</td>\n",
              "      <td>1520</td>\n",
              "      <td>15179</td>\n",
              "      <td>0.6049</td>\n",
              "      <td>1531</td>\n",
              "      <td>16387</td>\n",
              "      <td>0.6035</td>\n",
              "      <td>3062</td>\n",
              "      <td>29946</td>\n",
              "      <td>0.6128</td>\n",
              "    </tr>\n",
              "    <tr>\n",
              "      <th>CartScreenAppear</th>\n",
              "      <td>3734</td>\n",
              "      <td>42303</td>\n",
              "      <td>0.4956</td>\n",
              "      <td>0.4956</td>\n",
              "      <td>1266</td>\n",
              "      <td>14690</td>\n",
              "      <td>0.5097</td>\n",
              "      <td>1238</td>\n",
              "      <td>12434</td>\n",
              "      <td>0.4926</td>\n",
              "      <td>1230</td>\n",
              "      <td>15179</td>\n",
              "      <td>0.4848</td>\n",
              "      <td>2504</td>\n",
              "      <td>27124</td>\n",
              "      <td>0.5011</td>\n",
              "    </tr>\n",
              "    <tr>\n",
              "      <th>PaymentScreenSuccessful</th>\n",
              "      <td>3539</td>\n",
              "      <td>33918</td>\n",
              "      <td>0.4697</td>\n",
              "      <td>0.4697</td>\n",
              "      <td>1200</td>\n",
              "      <td>11852</td>\n",
              "      <td>0.4831</td>\n",
              "      <td>1158</td>\n",
              "      <td>9981</td>\n",
              "      <td>0.4608</td>\n",
              "      <td>1181</td>\n",
              "      <td>12085</td>\n",
              "      <td>0.4655</td>\n",
              "      <td>2358</td>\n",
              "      <td>21833</td>\n",
              "      <td>0.4719</td>\n",
              "    </tr>\n",
              "    <tr>\n",
              "      <th>Tutorial</th>\n",
              "      <td>840</td>\n",
              "      <td>1005</td>\n",
              "      <td>0.1115</td>\n",
              "      <td>0.1115</td>\n",
              "      <td>278</td>\n",
              "      <td>317</td>\n",
              "      <td>0.1119</td>\n",
              "      <td>283</td>\n",
              "      <td>338</td>\n",
              "      <td>0.1126</td>\n",
              "      <td>279</td>\n",
              "      <td>350</td>\n",
              "      <td>0.1100</td>\n",
              "      <td>561</td>\n",
              "      <td>655</td>\n",
              "      <td>0.1123</td>\n",
              "    </tr>\n",
              "  </tbody>\n",
              "</table>\n",
              "</div>"
            ],
            "text/plain": [
              "                         users  events   prop.  ...  users AA  events AA  prop.AA\n",
              "event_name                                      ...                              \n",
              "MainScreenAppear          7419  117328  0.9847  ...      4926      76766   0.9858\n",
              "OffersScreenAppear        4593   46333  0.6096  ...      3062      29946   0.6128\n",
              "CartScreenAppear          3734   42303  0.4956  ...      2504      27124   0.5011\n",
              "PaymentScreenSuccessful   3539   33918  0.4697  ...      2358      21833   0.4719\n",
              "Tutorial                   840    1005  0.1115  ...       561        655   0.1123\n",
              "\n",
              "[5 rows x 16 columns]"
            ]
          },
          "metadata": {},
          "execution_count": 28
        }
      ]
    },
    {
      "cell_type": "markdown",
      "metadata": {
        "id": "DLcPNMRRfJCd"
      },
      "source": [
        "Количество уникальных пользователей в эксперементальных группах А1, А2, В соответственно равно 2484, 2513, 2537 пользователей. Количество пользователей между группами различается незначительно.\n",
        "\n",
        "Так же на данном этапе были добавлены поля с информацией о пользовалелях, событиях и долях по группам.\n",
        "\n",
        "<a id='section4_2'> <a/>"
      ]
    },
    {
      "cell_type": "markdown",
      "metadata": {
        "id": "n4Wuye5HfJCe"
      },
      "source": [
        "4.2 Проверка гипотез о равенстве долей"
      ]
    },
    {
      "cell_type": "code",
      "metadata": {
        "id": "eIcnA_COfJCf"
      },
      "source": [
        "def i(number,group1, group2, n_users1, n_users2):\n",
        "    \"\"\"\n",
        "    Функция для проверки гипотезы о равенстве долей\n",
        "    \"\"\"\n",
        "    alpha = 0.05 / 16  # поправка Бонферрони по количеству проведенных тестов\n",
        "    p1 = data_grouped['prop.'+group1][number]\n",
        "    p2 = data_grouped['prop.'+group2][number]\n",
        "\n",
        "    p_combined = (data_grouped['users '+group1][number] + data_grouped['users '+group2][number]) / (n_users1 + n_users2)\n",
        "    difference = p1 - p2\n",
        "    z_value = difference / mth.sqrt(p_combined * (1 - p_combined) * (1/n_users1 + 1/n_users2))\n",
        "\n",
        "    distr = st.norm(0,1) \n",
        "    p_value = (1 - distr.cdf(abs(z_value))) * 2\n",
        "    \n",
        "    print(data_grouped.index[number])\n",
        "    print('p-значение: ', p_value.round(4))\n",
        "    \n",
        "    if (p_value < alpha):\n",
        "        print(\"Отвергаем нулевую гипотезу: между долями есть значимая разница\")\n",
        "    else:\n",
        "        print(\"Не получилось отвергнуть нулевую гипотезу, нет оснований считать доли разными\")\n",
        "    print()"
      ],
      "execution_count": 29,
      "outputs": []
    },
    {
      "cell_type": "markdown",
      "metadata": {
        "id": "crpJxZ3WfJCf"
      },
      "source": [
        "**Проверка групп А1 и А2**"
      ]
    },
    {
      "cell_type": "markdown",
      "metadata": {
        "id": "dJLtzBirfJCg"
      },
      "source": [
        "Перед тем, как проводить A/B тест убедимся, что данные не содержат аномалий и выбросов, инструмент «деления» трафика работает без ошибок, данные отправляются в системы аналитики корректно. Для этого мы проведем А/А тест. Если при сборе данных не возникло ошибок - различий между группами А1 и А2 не будет. В случае возникновения различий - наиболее вероятно, что данные были собраны неккорректно и проведение A/B эксперемента невозможно."
      ]
    },
    {
      "cell_type": "code",
      "metadata": {
        "colab": {
          "base_uri": "https://localhost:8080/"
        },
        "id": "uKn-JZ5jfJCh",
        "outputId": "18aa2d75-3096-4cbb-918a-5dbd3af2b593"
      },
      "source": [
        "print('В эксперементальной группе А1 {} уникальных пользователей'.format(n_users_А1))\n",
        "print('В эксперементальной группе А2 {} уникальных пользователей'.format(n_users_А2))\n",
        "\n",
        "print('Различие между группами в {} уникальных пользователей'.format(n_users_А2-n_users_А1),\\\n",
        "      'или {:.2%}'.format((n_users_А2-n_users_А1)/n_users_А2))"
      ],
      "execution_count": 30,
      "outputs": [
        {
          "output_type": "stream",
          "name": "stdout",
          "text": [
            "В эксперементальной группе А1 2484 уникальных пользователей\n",
            "В эксперементальной группе А2 2513 уникальных пользователей\n",
            "Различие между группами в 29 уникальных пользователей или 1.15%\n"
          ]
        }
      ]
    },
    {
      "cell_type": "code",
      "metadata": {
        "colab": {
          "base_uri": "https://localhost:8080/"
        },
        "id": "DRf0vpNTfJCh",
        "outputId": "63c6d89d-fca0-4eac-e5d1-e668d193b01b"
      },
      "source": [
        "print('В эксперементальной группе А1 {} событий'.\\\n",
        "        format(data_logs_clean[data_logs_clean['exp_id'] == 246]['event_name'].count()))\n",
        "print('В эксперементальной группе А2 {} событий'.\\\n",
        "        format(data_logs_clean[data_logs_clean['exp_id'] == 247]['event_name'].count()))\n",
        "\n",
        "print('Различие между группами в {} событий'.\\\n",
        "        format((data_logs_clean[data_logs_clean['exp_id'] == 246]['event_name'].count()) -\\\n",
        "               (data_logs_clean[data_logs_clean['exp_id'] == 247]['event_name'].count())),\\\n",
        "      'или {:.2%}'.format(((data_logs_clean[data_logs_clean['exp_id'] == 246]['event_name'].count()) -\\\n",
        "                           (data_logs_clean[data_logs_clean['exp_id'] == 247]['event_name'].count())) /\\\n",
        "                            data_logs_clean[data_logs_clean['exp_id'] == 246]['event_name'].count()))"
      ],
      "execution_count": 31,
      "outputs": [
        {
          "output_type": "stream",
          "name": "stdout",
          "text": [
            "В эксперементальной группе А1 79302 событий\n",
            "В эксперементальной группе А2 77022 событий\n",
            "Различие между группами в 2280 событий или 2.88%\n"
          ]
        }
      ]
    },
    {
      "cell_type": "markdown",
      "metadata": {
        "id": "kISDcJLhfJCj"
      },
      "source": [
        "Нулевая гипотеза (H0) - Доля конверсии по группе А1 равна доле конверсии по группе A2.  \n",
        "Альтернативная гипотеза (H1) - Доля конверсии по группе А1 не равна доле конверсии по группе A2, между долями есть значимая разница."
      ]
    },
    {
      "cell_type": "code",
      "metadata": {
        "colab": {
          "base_uri": "https://localhost:8080/"
        },
        "id": "vqOD6A1lfJCj",
        "outputId": "980eb204-83b2-4dd8-b84e-6e84a0c5b691"
      },
      "source": [
        "# Проверка групп А1 и А2\n",
        "i(0,'A1', 'A2', n_users_А1, n_users_А2)\n",
        "i(1,'A1', 'A2', n_users_А1, n_users_А2)\n",
        "i(2,'A1', 'A2', n_users_А1, n_users_А2)\n",
        "i(3,'A1', 'A2', n_users_А1, n_users_А2)"
      ],
      "execution_count": 32,
      "outputs": [
        {
          "output_type": "stream",
          "name": "stdout",
          "text": [
            "MainScreenAppear\n",
            "p-значение:  0.7652\n",
            "Не получилось отвергнуть нулевую гипотезу, нет оснований считать доли разными\n",
            "\n",
            "OffersScreenAppear\n",
            "p-значение:  0.2486\n",
            "Не получилось отвергнуть нулевую гипотезу, нет оснований считать доли разными\n",
            "\n",
            "CartScreenAppear\n",
            "p-значение:  0.2268\n",
            "Не получилось отвергнуть нулевую гипотезу, нет оснований считать доли разными\n",
            "\n",
            "PaymentScreenSuccessful\n",
            "p-значение:  0.1144\n",
            "Не получилось отвергнуть нулевую гипотезу, нет оснований считать доли разными\n",
            "\n"
          ]
        }
      ]
    },
    {
      "cell_type": "markdown",
      "metadata": {
        "id": "_O4rtQm8fJCk"
      },
      "source": [
        "Как мы видим, нет оснований считать доли групп А1 и А2 разными. Можно предположить, что разбиение на группы работает корректно."
      ]
    },
    {
      "cell_type": "markdown",
      "metadata": {
        "id": "X4L5n4ApfJCp"
      },
      "source": [
        "**Проверка групп А1 и B**"
      ]
    },
    {
      "cell_type": "markdown",
      "metadata": {
        "id": "IXfVcWZafJCp"
      },
      "source": [
        "Нулевая гипотеза (H0) - Доля конверсии по группе А1 равна доле конверсии по группе B.  \n",
        "Альтернативная гипотеза (H1) - Доля конверсии по группе А1 не равна доле конверсии по группе B, между долями есть значимая разница."
      ]
    },
    {
      "cell_type": "code",
      "metadata": {
        "colab": {
          "base_uri": "https://localhost:8080/"
        },
        "id": "L0nL6421fJCq",
        "outputId": "b7dca2c5-f34f-413e-a84a-f53fedaa79ea"
      },
      "source": [
        "# Проверка групп А1 и B\n",
        "i(0,'A1', 'B', n_users_А1, n_users_B)\n",
        "i(1,'A1', 'B', n_users_А1, n_users_B)\n",
        "i(2,'A1', 'B', n_users_А1, n_users_B)\n",
        "i(3,'A1', 'B', n_users_А1, n_users_B)"
      ],
      "execution_count": 33,
      "outputs": [
        {
          "output_type": "stream",
          "name": "stdout",
          "text": [
            "MainScreenAppear\n",
            "p-значение:  0.3024\n",
            "Не получилось отвергнуть нулевую гипотезу, нет оснований считать доли разными\n",
            "\n",
            "OffersScreenAppear\n",
            "p-значение:  0.2085\n",
            "Не получилось отвергнуть нулевую гипотезу, нет оснований считать доли разными\n",
            "\n",
            "CartScreenAppear\n",
            "p-значение:  0.0777\n",
            "Не получилось отвергнуть нулевую гипотезу, нет оснований считать доли разными\n",
            "\n",
            "PaymentScreenSuccessful\n",
            "p-значение:  0.2118\n",
            "Не получилось отвергнуть нулевую гипотезу, нет оснований считать доли разными\n",
            "\n"
          ]
        }
      ]
    },
    {
      "cell_type": "markdown",
      "metadata": {
        "id": "LEzfk45mfJCr"
      },
      "source": [
        "**При значении ɑ=0.1 без использования поправки Бонферрони проверка групп А1 и B на событии CartScreenAppear показывает, что между долями есть значимая разница. При этом необходимо учитывать, что при ɑ=0.1 каждый десятый раз можно получать ложный результат. Для этого мы используем поправку Бонферрони.**"
      ]
    },
    {
      "cell_type": "markdown",
      "metadata": {
        "id": "DaTUASyvfJCs"
      },
      "source": [
        "**Проверка групп А2 и B**"
      ]
    },
    {
      "cell_type": "markdown",
      "metadata": {
        "id": "nK2MH7gnfJCs"
      },
      "source": [
        "Нулевая гипотеза (H0) - Доля конверсии по группе А2 равна доле конверсии по группе B.  \n",
        "Альтернативная гипотеза (H1) - Доля конверсии по группе А2 не равна доле конверсии по группе B, между долями есть значимая разница."
      ]
    },
    {
      "cell_type": "code",
      "metadata": {
        "colab": {
          "base_uri": "https://localhost:8080/"
        },
        "id": "XDnfLwV8fJDL",
        "outputId": "5a14f996-90bb-4100-a041-ed5412458fa1"
      },
      "source": [
        "# Проверка групп А2 и B\n",
        "i(0,'A2', 'B', n_users_А2, n_users_B)\n",
        "i(1,'A2', 'B', n_users_А2, n_users_B)\n",
        "i(2,'A2', 'B', n_users_А2, n_users_B)\n",
        "i(3,'A2', 'B', n_users_А2, n_users_B)"
      ],
      "execution_count": 34,
      "outputs": [
        {
          "output_type": "stream",
          "name": "stdout",
          "text": [
            "MainScreenAppear\n",
            "p-значение:  0.4621\n",
            "Не получилось отвергнуть нулевую гипотезу, нет оснований считать доли разными\n",
            "\n",
            "OffersScreenAppear\n",
            "p-значение:  0.919\n",
            "Не получилось отвергнуть нулевую гипотезу, нет оснований считать доли разными\n",
            "\n",
            "CartScreenAppear\n",
            "p-значение:  0.5793\n",
            "Не получилось отвергнуть нулевую гипотезу, нет оснований считать доли разными\n",
            "\n",
            "PaymentScreenSuccessful\n",
            "p-значение:  0.7377\n",
            "Не получилось отвергнуть нулевую гипотезу, нет оснований считать доли разными\n",
            "\n"
          ]
        }
      ]
    },
    {
      "cell_type": "markdown",
      "metadata": {
        "id": "qkyGuVQzfJDO"
      },
      "source": [
        "**Проверка групп АА и B**"
      ]
    },
    {
      "cell_type": "markdown",
      "metadata": {
        "id": "IFLgewH2fJDP"
      },
      "source": [
        "Нулевая гипотеза (H0) - Доля конверсии по группе АA равна доле конверсии по группе B.  \n",
        "Альтернативная гипотеза (H1) - Доля конверсии по группе АA не равна доле конверсии по группе B, между долями есть значимая разница."
      ]
    },
    {
      "cell_type": "code",
      "metadata": {
        "colab": {
          "base_uri": "https://localhost:8080/"
        },
        "id": "ykJbLqAyfJDP",
        "outputId": "17cdd0cc-ec15-404b-dd91-85d5af3c11ed"
      },
      "source": [
        "# Проверка групп АА и B\n",
        "i(0,'AA', 'B', n_users_AA, n_users_B)\n",
        "i(1,'AA', 'B', n_users_AA, n_users_B)\n",
        "i(2,'AA', 'B', n_users_AA, n_users_B)\n",
        "i(3,'AA', 'B', n_users_AA, n_users_B)"
      ],
      "execution_count": 35,
      "outputs": [
        {
          "output_type": "stream",
          "name": "stdout",
          "text": [
            "MainScreenAppear\n",
            "p-значение:  0.2996\n",
            "Не получилось отвергнуть нулевую гипотезу, нет оснований считать доли разными\n",
            "\n",
            "OffersScreenAppear\n",
            "p-значение:  0.4342\n",
            "Не получилось отвергнуть нулевую гипотезу, нет оснований считать доли разными\n",
            "\n",
            "CartScreenAppear\n",
            "p-значение:  0.1811\n",
            "Не получилось отвергнуть нулевую гипотезу, нет оснований считать доли разными\n",
            "\n",
            "PaymentScreenSuccessful\n",
            "p-значение:  0.5989\n",
            "Не получилось отвергнуть нулевую гипотезу, нет оснований считать доли разными\n",
            "\n"
          ]
        }
      ]
    },
    {
      "cell_type": "markdown",
      "metadata": {
        "id": "q3Vbzgy_fJDR"
      },
      "source": [
        "### Вывод"
      ]
    },
    {
      "cell_type": "markdown",
      "metadata": {
        "id": "iexjK_RwfJDR"
      },
      "source": [
        "На данном этапе нами было проведено 16 тестов о равенстве долей групп А1, А2, В и АА. Была использована поправка Бонферрони, для избегания ошибок (разделили значение ɑ на 16, по количеству проведенных тестов). При значении ɑ=0.1 без использования поправки Бонферрони проверка групп А1 и B на событии CartScreenAppear показывает, что между долями есть значимая разница. При этом необходимо учитывать, что при ɑ=0.1 каждый десятый раз можно получать ложный результат.  \n",
        "\n",
        "Подсчет проводился от общего количества уникальных пользователей в группе, т.к. первостепенно важно итоговое количество пользователей, совершивших покупку.\n",
        "\n",
        "Согласно проведенным тестам, нет оснований считать доли групп А1 и А2 разными. Можно предположить, что разбиение на группы работает корректно.\n",
        "\n",
        "Также, согласно проведенным тестам, изменение шрифта в приложении не приводит к статистически значимым результатам, различия между контрольными и эксперементальной группами не наблюдается.\n",
        "\n",
        "<a id='section5'> <a/>"
      ]
    },
    {
      "cell_type": "markdown",
      "metadata": {
        "id": "Aa5VEYdofJDU"
      },
      "source": [
        "## Общий вывод"
      ]
    },
    {
      "cell_type": "markdown",
      "metadata": {
        "id": "gjjrNrNxfJDV"
      },
      "source": [
        "В данном исследовании была изучена воронка продаж и исследованы результаты A/A/B-эксперимента по изменению шрифта в мобильном приложении.\n",
        "\n",
        "Для построения воронки продаж была использована следующая цепочка событий: \"MainScreenAppear\">\"OffersScreenAppear\">\"CartScreenAppear\">\"PaymentScreenSuccessful\". Событие \"Tutorial\" не втраивается в данную последовательную цепочку, т.к. независимо от них.\n",
        "\n",
        "По воронке событий видно, что наибольшее количество пользователей теряется при переходе от события \"MainScreenAppear\" к событию \"OffersScreenAppear\" (потеря 38% относительно \"MainScreenAppear\"). При этом после данного этапа потеря пользователей на слудующих этапах уже значительно меньше. Доля пользователей, прошедших всю воронку составляет 47.7% от всех пользователей в группе.\n",
        "\n",
        "Согласно проведенным тестам, нет оснований считать доли групп А1 и А2 разными. Можно предположить, что разбиение на группы работает корректно.\n",
        "\n",
        "По результатам проведенного эксперемента видно, что изменение шрифта в приложении не приводит к статистически значимым результатам, различий между контрольными и эксперементальной группами не наблюдается."
      ]
    }
  ]
}